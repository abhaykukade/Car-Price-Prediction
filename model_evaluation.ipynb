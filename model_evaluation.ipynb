{
 "cells": [
  {
   "cell_type": "markdown",
   "id": "fe374b59",
   "metadata": {},
   "source": [
    "# APIs"
   ]
  },
  {
   "cell_type": "code",
   "execution_count": 180,
   "id": "8722afdd",
   "metadata": {},
   "outputs": [],
   "source": [
    "import numpy as np\n",
    "import pandas as pd\n",
    "import matplotlib.pyplot as plt\n",
    "import seaborn as sns\n",
    "from scipy.stats import randint\n",
    "from sklearn.model_selection import train_test_split, GridSearchCV, cross_val_score, GridSearchCV, RandomizedSearchCV\n",
    "from sklearn.linear_model import LinearRegression\n",
    "from sklearn.ensemble import RandomForestRegressor\n",
    "from sklearn.pipeline import Pipeline, make_pipeline\n",
    "from sklearn.preprocessing import OneHotEncoder, FunctionTransformer, PolynomialFeatures\n",
    "from sklearn.compose import ColumnTransformer, TransformedTargetRegressor\n",
    "from sklearn.impute import SimpleImputer, KNNImputer\n",
    "from sklearn.compose import make_column_selector as selector\n",
    "from sklearn.metrics import root_mean_squared_error\n",
    "\n",
    "# %pip install pypalettes\n",
    "import pypalettes\n",
    "from pypalettes import load_cmap\n",
    "\n",
    "import warnings\n",
    "warnings.filterwarnings('ignore', category=PendingDeprecationWarning)"
   ]
  },
  {
   "cell_type": "code",
   "execution_count": 68,
   "id": "91a22461",
   "metadata": {},
   "outputs": [
    {
     "data": {
      "image/png": "[encoded data removed]",
      "text/html": [
       "<div style=\"vertical-align: middle;\"><strong>fleurs_dans_un_vase_de_cristal</strong> </div><div class=\"cmap\"><img alt=\"fleurs_dans_un_vase_de_cristal colormap\" title=\"fleurs_dans_un_vase_de_cristal\" style=\"border: 1px solid #555;\" src=\"data:image/png;base64,iVBORw0KGgoAAAANSUhEUgAAAgAAAABACAYAAABsv8+/AAAALXRFWHRUaXRsZQBmbGV1cnNfZGFuc191bl92YXNlX2RlX2NyaXN0YWwgY29sb3JtYXCyP6v/AAAAM3RFWHREZXNjcmlwdGlvbgBmbGV1cnNfZGFuc191bl92YXNlX2RlX2NyaXN0YWwgY29sb3JtYXCCS/O4AAAAMXRFWHRBdXRob3IATWF0cGxvdGxpYiB2My4xMC4zLCBodHRwczovL21hdHBsb3RsaWIub3Jnhnp4VQAAADN0RVh0U29mdHdhcmUATWF0cGxvdGxpYiB2My4xMC4zLCBodHRwczovL21hdHBsb3RsaWIub3JnI15roQAAAYNJREFUeJzt1lFtwzAARVFvBMJgDIKkhDYGJTIkK4MwKIMi2L6j/M+W7jkInmzZum+f3z+/YzHH45g94eR1PGZPuHhua53Rtm2zJ1zsH2ttuu232RMu9n2fPeFkG2vd2Rhj3L/usydcPF/P2RNObou9tW2sdT5jjDEW/CPfZw8AAP6fAACAIAEAAEECAACCBAAABAkAAAgSAAAQJAAAIEgAAECQAACAIAEAAEECAACCBAAABAkAAAgSAAAQJAAAIEgAAECQAACAIAEAAEECAACCBAAABAkAAAgSAAAQJAAAIEgAAECQAACAIAEAAEECAACCBAAABAkAAAgSAAAQJAAAIEgAAECQAACAIAEAAEECAACCBAAABAkAAAgSAAAQJAAAIEgAAECQAACAIAEAAEECAACCBAAABAkAAAgSAAAQJAAAIEgAAECQAACAIAEAAEECAACCBAAABAkAAAgSAAAQJAAAIEgAAECQAACAIAEAAEECAACCBAAABAkAAAgSAAAQ9AeuhxHJDIOi5QAAAABJRU5ErkJggg==\"></div><div style=\"vertical-align: middle; max-width: 514px; display: flex; justify-content: space-between;\"><div style=\"float: left;\"><div title=\"#78a5c3ff\" style=\"display: inline-block; width: 1em; height: 1em; margin: 0; vertical-align: middle; border: 1px solid #555; background-color: #78a5c3ff;\"></div> under</div><div style=\"margin: 0 auto; display: inline-block;\">bad <div title=\"#00000000\" style=\"display: inline-block; width: 1em; height: 1em; margin: 0; vertical-align: middle; border: 1px solid #555; background-color: #00000000;\"></div></div><div style=\"float: right;\">over <div title=\"#a5693cff\" style=\"display: inline-block; width: 1em; height: 1em; margin: 0; vertical-align: middle; border: 1px solid #555; background-color: #a5693cff;\"></div></div></div>"
      ],
      "text/plain": [
       "<matplotlib.colors.ListedColormap at 0x1b7d0815fa0>"
      ]
     },
     "execution_count": 68,
     "metadata": {},
     "output_type": "execute_result"
    }
   ],
   "source": [
    "cmap = load_cmap('fleurs_dans_un_vase_de_cristal')\n",
    "cmap"
   ]
  },
  {
   "cell_type": "code",
   "execution_count": 69,
   "id": "f5ab97fa",
   "metadata": {},
   "outputs": [
    {
     "name": "stdout",
     "output_type": "stream",
     "text": [
      "#2D5A3CFF\n"
     ]
    }
   ],
   "source": [
    "print(cmap.colors[4])"
   ]
  },
  {
   "cell_type": "markdown",
   "id": "b11447a2",
   "metadata": {},
   "source": [
    "# Setup data"
   ]
  },
  {
   "cell_type": "markdown",
   "id": "2c16d9ea",
   "metadata": {},
   "source": [
    "## Load train data"
   ]
  },
  {
   "cell_type": "code",
   "execution_count": 70,
   "id": "1b89afb1",
   "metadata": {},
   "outputs": [],
   "source": [
    "train_csv = pd.read_csv('data/train.csv')"
   ]
  },
  {
   "cell_type": "code",
   "execution_count": 71,
   "id": "8b77120c",
   "metadata": {},
   "outputs": [
    {
     "data": {
      "text/plain": [
       "(7478, 33)"
      ]
     },
     "execution_count": 71,
     "metadata": {},
     "output_type": "execute_result"
    }
   ],
   "source": [
    "train_csv.shape"
   ]
  },
  {
   "cell_type": "markdown",
   "id": "578ce492",
   "metadata": {},
   "source": [
    "Drop rows with all null values, and extreme outliers"
   ]
  },
  {
   "cell_type": "code",
   "execution_count": 72,
   "id": "40386231",
   "metadata": {},
   "outputs": [
    {
     "data": {
      "text/html": [
       "<div>\n",
       "<style scoped>\n",
       "    .dataframe tbody tr th:only-of-type {\n",
       "        vertical-align: middle;\n",
       "    }\n",
       "\n",
       "    .dataframe tbody tr th {\n",
       "        vertical-align: top;\n",
       "    }\n",
       "\n",
       "    .dataframe thead th {\n",
       "        text-align: right;\n",
       "    }\n",
       "</style>\n",
       "<table border=\"1\" class=\"dataframe\">\n",
       "  <thead>\n",
       "    <tr style=\"text-align: right;\">\n",
       "      <th></th>\n",
       "      <th>Id</th>\n",
       "      <th>Scraped_Time</th>\n",
       "      <th>Condition</th>\n",
       "      <th>Car Make</th>\n",
       "      <th>Model</th>\n",
       "      <th>Trim</th>\n",
       "      <th>Year</th>\n",
       "      <th>Kilometers</th>\n",
       "      <th>Body Type</th>\n",
       "      <th>Number of Seats</th>\n",
       "      <th>...</th>\n",
       "      <th>Neighborhood</th>\n",
       "      <th>Category</th>\n",
       "      <th>Subcategory</th>\n",
       "      <th>Interior Options</th>\n",
       "      <th>Exterior Options</th>\n",
       "      <th>Technology Options</th>\n",
       "      <th>Description_Score</th>\n",
       "      <th>Battery Capacity</th>\n",
       "      <th>Battery Range</th>\n",
       "      <th>Price</th>\n",
       "    </tr>\n",
       "  </thead>\n",
       "  <tbody>\n",
       "    <tr>\n",
       "      <th>175</th>\n",
       "      <td>176</td>\n",
       "      <td>2025-02-07 12:59:20</td>\n",
       "      <td>NaN</td>\n",
       "      <td>NaN</td>\n",
       "      <td>NaN</td>\n",
       "      <td>NaN</td>\n",
       "      <td>NaN</td>\n",
       "      <td>NaN</td>\n",
       "      <td>NaN</td>\n",
       "      <td>NaN</td>\n",
       "      <td>...</td>\n",
       "      <td>Khalda</td>\n",
       "      <td>Cars and Bikes</td>\n",
       "      <td>Cars For Sale</td>\n",
       "      <td>NaN</td>\n",
       "      <td>NaN</td>\n",
       "      <td>NaN</td>\n",
       "      <td>NaN</td>\n",
       "      <td>NaN</td>\n",
       "      <td>NaN</td>\n",
       "      <td>1750.0</td>\n",
       "    </tr>\n",
       "    <tr>\n",
       "      <th>913</th>\n",
       "      <td>914</td>\n",
       "      <td>2025-02-07 12:52:11</td>\n",
       "      <td>NaN</td>\n",
       "      <td>NaN</td>\n",
       "      <td>NaN</td>\n",
       "      <td>NaN</td>\n",
       "      <td>NaN</td>\n",
       "      <td>NaN</td>\n",
       "      <td>NaN</td>\n",
       "      <td>NaN</td>\n",
       "      <td>...</td>\n",
       "      <td>Russayfah</td>\n",
       "      <td>Cars and Bikes</td>\n",
       "      <td>Cars For Sale</td>\n",
       "      <td>NaN</td>\n",
       "      <td>NaN</td>\n",
       "      <td>NaN</td>\n",
       "      <td>NaN</td>\n",
       "      <td>NaN</td>\n",
       "      <td>NaN</td>\n",
       "      <td>2000.0</td>\n",
       "    </tr>\n",
       "    <tr>\n",
       "      <th>7067</th>\n",
       "      <td>7068</td>\n",
       "      <td>2025-02-07 13:20:26</td>\n",
       "      <td>NaN</td>\n",
       "      <td>NaN</td>\n",
       "      <td>NaN</td>\n",
       "      <td>NaN</td>\n",
       "      <td>NaN</td>\n",
       "      <td>NaN</td>\n",
       "      <td>NaN</td>\n",
       "      <td>NaN</td>\n",
       "      <td>...</td>\n",
       "      <td>Al Hay Al Sharqy</td>\n",
       "      <td>Cars and Bikes</td>\n",
       "      <td>Cars For Sale</td>\n",
       "      <td>NaN</td>\n",
       "      <td>NaN</td>\n",
       "      <td>NaN</td>\n",
       "      <td>NaN</td>\n",
       "      <td>NaN</td>\n",
       "      <td>NaN</td>\n",
       "      <td>1250.0</td>\n",
       "    </tr>\n",
       "    <tr>\n",
       "      <th>508</th>\n",
       "      <td>509</td>\n",
       "      <td>2025-02-07 00:50:31</td>\n",
       "      <td>Used</td>\n",
       "      <td>Chevrolet</td>\n",
       "      <td>Cruze</td>\n",
       "      <td>Standard</td>\n",
       "      <td>2010</td>\n",
       "      <td>80,000 - 89,999</td>\n",
       "      <td>Sedan</td>\n",
       "      <td>5</td>\n",
       "      <td>...</td>\n",
       "      <td>Tla' Ali</td>\n",
       "      <td>Cars and Bikes</td>\n",
       "      <td>Cars For Sale</td>\n",
       "      <td>AUX / USB Input, Steering Wheel Controls, Elec...</td>\n",
       "      <td>Spare Tyre, Electric Mirrors</td>\n",
       "      <td>Android Auto, Bluetooth, Touch Screen, Media S...</td>\n",
       "      <td>NaN</td>\n",
       "      <td>NaN</td>\n",
       "      <td>NaN</td>\n",
       "      <td>1000000.0</td>\n",
       "    </tr>\n",
       "    <tr>\n",
       "      <th>5789</th>\n",
       "      <td>5790</td>\n",
       "      <td>2025-02-06 21:19:43</td>\n",
       "      <td>Used</td>\n",
       "      <td>Toyota</td>\n",
       "      <td>Hiace</td>\n",
       "      <td>Cargo</td>\n",
       "      <td>1991</td>\n",
       "      <td>130,000 - 139,999</td>\n",
       "      <td>Bus - Van</td>\n",
       "      <td>9</td>\n",
       "      <td>...</td>\n",
       "      <td>Dayr Yusuf</td>\n",
       "      <td>Cars and Bikes</td>\n",
       "      <td>Cars For Sale</td>\n",
       "      <td>Airbags</td>\n",
       "      <td>Back Hook</td>\n",
       "      <td>Navigation system / maps</td>\n",
       "      <td>NaN</td>\n",
       "      <td>NaN</td>\n",
       "      <td>NaN</td>\n",
       "      <td>999999.0</td>\n",
       "    </tr>\n",
       "  </tbody>\n",
       "</table>\n",
       "<p>5 rows × 33 columns</p>\n",
       "</div>"
      ],
      "text/plain": [
       "        Id         Scraped_Time Condition   Car Make  Model      Trim  Year  \\\n",
       "175    176  2025-02-07 12:59:20       NaN        NaN    NaN       NaN   NaN   \n",
       "913    914  2025-02-07 12:52:11       NaN        NaN    NaN       NaN   NaN   \n",
       "7067  7068  2025-02-07 13:20:26       NaN        NaN    NaN       NaN   NaN   \n",
       "508    509  2025-02-07 00:50:31      Used  Chevrolet  Cruze  Standard  2010   \n",
       "5789  5790  2025-02-06 21:19:43      Used     Toyota  Hiace     Cargo  1991   \n",
       "\n",
       "             Kilometers  Body Type Number of Seats  ...      Neighborhood  \\\n",
       "175                 NaN        NaN             NaN  ...            Khalda   \n",
       "913                 NaN        NaN             NaN  ...         Russayfah   \n",
       "7067                NaN        NaN             NaN  ...  Al Hay Al Sharqy   \n",
       "508     80,000 - 89,999      Sedan               5  ...          Tla' Ali   \n",
       "5789  130,000 - 139,999  Bus - Van               9  ...        Dayr Yusuf   \n",
       "\n",
       "            Category    Subcategory  \\\n",
       "175   Cars and Bikes  Cars For Sale   \n",
       "913   Cars and Bikes  Cars For Sale   \n",
       "7067  Cars and Bikes  Cars For Sale   \n",
       "508   Cars and Bikes  Cars For Sale   \n",
       "5789  Cars and Bikes  Cars For Sale   \n",
       "\n",
       "                                       Interior Options  \\\n",
       "175                                                 NaN   \n",
       "913                                                 NaN   \n",
       "7067                                                NaN   \n",
       "508   AUX / USB Input, Steering Wheel Controls, Elec...   \n",
       "5789                                            Airbags   \n",
       "\n",
       "                  Exterior Options  \\\n",
       "175                            NaN   \n",
       "913                            NaN   \n",
       "7067                           NaN   \n",
       "508   Spare Tyre, Electric Mirrors   \n",
       "5789                     Back Hook   \n",
       "\n",
       "                                     Technology Options Description_Score  \\\n",
       "175                                                 NaN               NaN   \n",
       "913                                                 NaN               NaN   \n",
       "7067                                                NaN               NaN   \n",
       "508   Android Auto, Bluetooth, Touch Screen, Media S...               NaN   \n",
       "5789                           Navigation system / maps               NaN   \n",
       "\n",
       "     Battery Capacity Battery Range      Price  \n",
       "175               NaN           NaN     1750.0  \n",
       "913               NaN           NaN     2000.0  \n",
       "7067              NaN           NaN     1250.0  \n",
       "508               NaN           NaN  1000000.0  \n",
       "5789              NaN           NaN   999999.0  \n",
       "\n",
       "[5 rows x 33 columns]"
      ]
     },
     "execution_count": 72,
     "metadata": {},
     "output_type": "execute_result"
    }
   ],
   "source": [
    "train_csv.iloc[[175, 913, 7067, 508, 5789], :]"
   ]
  },
  {
   "cell_type": "code",
   "execution_count": 73,
   "id": "69d89597",
   "metadata": {},
   "outputs": [],
   "source": [
    "train_csv.drop(index=[175, 913, 7067, 508, 5789], inplace=True)"
   ]
  },
  {
   "cell_type": "code",
   "execution_count": 74,
   "id": "d42d4062",
   "metadata": {},
   "outputs": [
    {
     "data": {
      "text/plain": [
       "(7473, 33)"
      ]
     },
     "execution_count": 74,
     "metadata": {},
     "output_type": "execute_result"
    }
   ],
   "source": [
    "train_csv.shape"
   ]
  },
  {
   "cell_type": "markdown",
   "id": "ca1eeab1",
   "metadata": {},
   "source": [
    "## Update Column Names"
   ]
  },
  {
   "cell_type": "code",
   "execution_count": 75,
   "id": "d27d9daa",
   "metadata": {},
   "outputs": [],
   "source": [
    "cols_map = {'Id': 'id', 'Scraped_Time': 'scraped_time', 'Condition': 'condition', \n",
    "            'Car Make': 'car_make', 'Model': 'model', 'Trim': 'trim', 'Year': 'year', \n",
    "            'Kilometers': 'kilometers', 'Body Type': 'body_type', 'Number of Seats': 'num_of_seats', \n",
    "            'Fuel': 'fuel', 'Transmission': 'transmission', 'Engine Size (cc)': 'engine_size_cc', \n",
    "            'Exterior Color': 'exterior_color', 'Interior Color': 'interior_color', \n",
    "            'Regional Specs': 'regional_specs', 'Car License': 'car_license', 'Insurance': 'insurance', \n",
    "            'Car Customs': 'car_customs', 'Body Condition': 'body_condition', 'Paint': 'paint', \n",
    "            'Payment Method': 'payment_method', 'City': 'city', 'Neighborhood': 'neighborhood', \n",
    "            'Category': 'category', 'Subcategory': 'subcategory', 'Interior Options': 'interior_options', \n",
    "            'Exterior Options': 'exterior_options', 'Technology Options': 'technology_options', \n",
    "            'Description_Score': 'description_score', 'Battery Capacity': 'battery_capacity', \n",
    "            'Battery Range': 'battery_range', 'Price': 'price'}"
   ]
  },
  {
   "cell_type": "code",
   "execution_count": 76,
   "id": "5b7dc969",
   "metadata": {},
   "outputs": [
    {
     "data": {
      "text/plain": [
       "Index(['id', 'scraped_time', 'condition', 'car_make', 'model', 'trim', 'year',\n",
       "       'kilometers', 'body_type', 'num_of_seats', 'fuel', 'transmission',\n",
       "       'engine_size_cc', 'exterior_color', 'interior_color', 'regional_specs',\n",
       "       'car_license', 'insurance', 'car_customs', 'body_condition', 'paint',\n",
       "       'payment_method', 'city', 'neighborhood', 'category', 'subcategory',\n",
       "       'interior_options', 'exterior_options', 'technology_options',\n",
       "       'description_score', 'battery_capacity', 'battery_range', 'price'],\n",
       "      dtype='object')"
      ]
     },
     "execution_count": 76,
     "metadata": {},
     "output_type": "execute_result"
    }
   ],
   "source": [
    "train_csv.rename(columns=cols_map, inplace=True)\n",
    "train_csv.columns"
   ]
  },
  {
   "cell_type": "markdown",
   "id": "e1171473",
   "metadata": {},
   "source": [
    "## Splitting Train data into Training and Test sets"
   ]
  },
  {
   "cell_type": "code",
   "execution_count": 77,
   "id": "ef1725aa",
   "metadata": {},
   "outputs": [],
   "source": [
    "target = 'price'\n",
    "y = train_csv[target]\n",
    "X = train_csv.drop(columns=target)\n",
    "X_train, X_test, y_train, y_test = train_test_split(X, y, random_state=0, shuffle=True)"
   ]
  },
  {
   "cell_type": "code",
   "execution_count": 78,
   "id": "5ddbf59d",
   "metadata": {},
   "outputs": [
    {
     "name": "stdout",
     "output_type": "stream",
     "text": [
      "(5604, 32) (5604,) \n",
      " (1869, 32) (1869,)\n"
     ]
    }
   ],
   "source": [
    "print(X_train.shape, y_train.shape,'\\n', X_test.shape, y_test.shape)"
   ]
  },
  {
   "cell_type": "markdown",
   "id": "bc715603",
   "metadata": {},
   "source": [
    "# Baseline Model"
   ]
  },
  {
   "cell_type": "markdown",
   "id": "917caf4c",
   "metadata": {},
   "source": [
    "## Preprocessor"
   ]
  },
  {
   "cell_type": "code",
   "execution_count": 79,
   "id": "a7505dd4",
   "metadata": {},
   "outputs": [],
   "source": [
    "drop_features = ['id', 'scraped_time', 'category', 'subcategory', 'description_score']\n",
    "options_features = ['interior_options', 'exterior_options', 'technology_options']\n",
    "cat_features_imp_zero = ['trim', 'engine_size_cc', 'battery_capacity', 'battery_range', 'neighborhood']\n",
    "cat_features_imp_freq = ['condition', 'car_make', 'model', 'year',\n",
    "       'kilometers', 'body_type', 'num_of_seats', 'fuel', 'transmission', \n",
    "       'exterior_color', 'interior_color', 'regional_specs',\n",
    "       'car_license', 'insurance', 'car_customs', 'body_condition', 'paint',\n",
    "       'payment_method', 'city']"
   ]
  },
  {
   "cell_type": "code",
   "execution_count": 80,
   "id": "0e6dcd9b",
   "metadata": {},
   "outputs": [
    {
     "data": {
      "text/plain": [
       "32"
      ]
     },
     "execution_count": 80,
     "metadata": {},
     "output_type": "execute_result"
    }
   ],
   "source": [
    "len(drop_features + options_features + cat_features_imp_freq + cat_features_imp_zero)"
   ]
  },
  {
   "cell_type": "code",
   "execution_count": 81,
   "id": "93be4c7c",
   "metadata": {},
   "outputs": [],
   "source": [
    "cat_impute_freq_pipeline = Pipeline(steps=[\n",
    "    ('freq_imputer', SimpleImputer(strategy='most_frequent')),\n",
    "    ('freq_to_str', FunctionTransformer(lambda x: x.astype(str))),\n",
    "    ('freq_encoder', OneHotEncoder(handle_unknown='ignore', sparse_output=False))\n",
    "])"
   ]
  },
  {
   "cell_type": "code",
   "execution_count": 82,
   "id": "23c5d127",
   "metadata": {},
   "outputs": [],
   "source": [
    "cat_impute_zero_pipeline = Pipeline(steps=[\n",
    "    ('zero_imputer', SimpleImputer(strategy='constant', fill_value=0)),\n",
    "    ('zero_to_str', FunctionTransformer(lambda x: x.astype(str))),\n",
    "    ('zero_encoder', OneHotEncoder(handle_unknown='ignore', sparse_output=False))\n",
    "])"
   ]
  },
  {
   "cell_type": "code",
   "execution_count": 83,
   "id": "e1dd425b",
   "metadata": {},
   "outputs": [],
   "source": [
    "preprocessor = ColumnTransformer(transformers=[\n",
    "    ('cat_impute_freq', cat_impute_freq_pipeline, cat_features_imp_freq),\n",
    "    ('cat_impute_zero', cat_impute_zero_pipeline, cat_features_imp_zero),\n",
    "    ('drop', 'drop', drop_features),\n",
    "    ('options', 'drop', options_features)\n",
    "], remainder='passthrough')"
   ]
  },
  {
   "cell_type": "code",
   "execution_count": 84,
   "id": "5f7299fb",
   "metadata": {},
   "outputs": [],
   "source": [
    "X_train_transformed = preprocessor.fit_transform(X_train)"
   ]
  },
  {
   "cell_type": "code",
   "execution_count": 85,
   "id": "e86e7bd6",
   "metadata": {},
   "outputs": [
    {
     "data": {
      "text/plain": [
       "(5604, 1664)"
      ]
     },
     "execution_count": 85,
     "metadata": {},
     "output_type": "execute_result"
    }
   ],
   "source": [
    "X_train_transformed.shape"
   ]
  },
  {
   "cell_type": "code",
   "execution_count": 86,
   "id": "28920c3b",
   "metadata": {},
   "outputs": [
    {
     "data": {
      "text/plain": [
       "{'Lancia', 'Mahindra', 'Pontiac'}"
      ]
     },
     "execution_count": 86,
     "metadata": {},
     "output_type": "execute_result"
    }
   ],
   "source": [
    "diff = set(X_test['car_make']).difference(set(X_train['car_make']))\n",
    "diff"
   ]
  },
  {
   "cell_type": "code",
   "execution_count": 87,
   "id": "1600dedd",
   "metadata": {},
   "outputs": [
    {
     "data": {
      "text/html": [
       "<div>\n",
       "<style scoped>\n",
       "    .dataframe tbody tr th:only-of-type {\n",
       "        vertical-align: middle;\n",
       "    }\n",
       "\n",
       "    .dataframe tbody tr th {\n",
       "        vertical-align: top;\n",
       "    }\n",
       "\n",
       "    .dataframe thead th {\n",
       "        text-align: right;\n",
       "    }\n",
       "</style>\n",
       "<table border=\"1\" class=\"dataframe\">\n",
       "  <thead>\n",
       "    <tr style=\"text-align: right;\">\n",
       "      <th></th>\n",
       "      <th>id</th>\n",
       "      <th>scraped_time</th>\n",
       "      <th>condition</th>\n",
       "      <th>car_make</th>\n",
       "      <th>model</th>\n",
       "      <th>trim</th>\n",
       "      <th>year</th>\n",
       "      <th>kilometers</th>\n",
       "      <th>body_type</th>\n",
       "      <th>num_of_seats</th>\n",
       "      <th>...</th>\n",
       "      <th>city</th>\n",
       "      <th>neighborhood</th>\n",
       "      <th>category</th>\n",
       "      <th>subcategory</th>\n",
       "      <th>interior_options</th>\n",
       "      <th>exterior_options</th>\n",
       "      <th>technology_options</th>\n",
       "      <th>description_score</th>\n",
       "      <th>battery_capacity</th>\n",
       "      <th>battery_range</th>\n",
       "    </tr>\n",
       "  </thead>\n",
       "  <tbody>\n",
       "    <tr>\n",
       "      <th>6640</th>\n",
       "      <td>6641</td>\n",
       "      <td>2025-02-07 12:08:17</td>\n",
       "      <td>Used</td>\n",
       "      <td>Lancia</td>\n",
       "      <td>Lancia</td>\n",
       "      <td>NaN</td>\n",
       "      <td>2001</td>\n",
       "      <td>40,000 - 49,999</td>\n",
       "      <td>Sedan</td>\n",
       "      <td>4</td>\n",
       "      <td>...</td>\n",
       "      <td>Irbid</td>\n",
       "      <td>Al Sareeh</td>\n",
       "      <td>Cars and Bikes</td>\n",
       "      <td>Cars For Sale</td>\n",
       "      <td>Electric Windows, Center Lock, Heated Seats, A...</td>\n",
       "      <td>Daytime Running Lights, Spare Tyre</td>\n",
       "      <td>Bluetooth</td>\n",
       "      <td>NaN</td>\n",
       "      <td>NaN</td>\n",
       "      <td>NaN</td>\n",
       "    </tr>\n",
       "  </tbody>\n",
       "</table>\n",
       "<p>1 rows × 32 columns</p>\n",
       "</div>"
      ],
      "text/plain": [
       "        id         scraped_time condition car_make   model trim  year  \\\n",
       "6640  6641  2025-02-07 12:08:17      Used   Lancia  Lancia  NaN  2001   \n",
       "\n",
       "           kilometers body_type num_of_seats  ...   city neighborhood  \\\n",
       "6640  40,000 - 49,999     Sedan            4  ...  Irbid    Al Sareeh   \n",
       "\n",
       "            category    subcategory  \\\n",
       "6640  Cars and Bikes  Cars For Sale   \n",
       "\n",
       "                                       interior_options  \\\n",
       "6640  Electric Windows, Center Lock, Heated Seats, A...   \n",
       "\n",
       "                        exterior_options technology_options description_score  \\\n",
       "6640  Daytime Running Lights, Spare Tyre          Bluetooth               NaN   \n",
       "\n",
       "     battery_capacity battery_range  \n",
       "6640              NaN           NaN  \n",
       "\n",
       "[1 rows x 32 columns]"
      ]
     },
     "execution_count": 87,
     "metadata": {},
     "output_type": "execute_result"
    }
   ],
   "source": [
    "Lancia_test = X_test[X_test['car_make']=='Lancia']\n",
    "Lancia_test"
   ]
  },
  {
   "cell_type": "code",
   "execution_count": 88,
   "id": "6f2803c8",
   "metadata": {},
   "outputs": [
    {
     "data": {
      "text/plain": [
       "(1, 1664)"
      ]
     },
     "execution_count": 88,
     "metadata": {},
     "output_type": "execute_result"
    }
   ],
   "source": [
    "Lancia_test_transformed = preprocessor.transform(Lancia_test)\n",
    "Lancia_test_transformed.shape"
   ]
  },
  {
   "cell_type": "code",
   "execution_count": 89,
   "id": "15e25e79",
   "metadata": {},
   "outputs": [
    {
     "data": {
      "text/plain": [
       "array([[0., 1., 0., ..., 0., 0., 0.]])"
      ]
     },
     "execution_count": 89,
     "metadata": {},
     "output_type": "execute_result"
    }
   ],
   "source": [
    "Lancia_test_transformed"
   ]
  },
  {
   "cell_type": "markdown",
   "id": "c1d3c3ff",
   "metadata": {},
   "source": [
    "## Random Forest"
   ]
  },
  {
   "cell_type": "markdown",
   "id": "eda5940a",
   "metadata": {},
   "source": [
    "Since the target 'price' is heavily right skewed, I am applying log transformation on it while training."
   ]
  },
  {
   "cell_type": "code",
   "execution_count": 147,
   "id": "472933a9",
   "metadata": {},
   "outputs": [],
   "source": [
    "rf_model = Pipeline(steps=[\n",
    "    ('preprocessor', preprocessor),\n",
    "    ('rfregressor', TransformedTargetRegressor(\n",
    "        regressor=RandomForestRegressor(random_state=42),\n",
    "        func=np.log1p,\n",
    "        inverse_func=np.expm1\n",
    "    ))\n",
    "])"
   ]
  },
  {
   "cell_type": "code",
   "execution_count": 148,
   "id": "4b69ef0f",
   "metadata": {},
   "outputs": [],
   "source": [
    "rf_model.fit(X_train, y_train)\n",
    "y_pred = rf_model.predict(X_test)"
   ]
  },
  {
   "cell_type": "code",
   "execution_count": 149,
   "id": "99c7f22e",
   "metadata": {},
   "outputs": [
    {
     "name": "stdout",
     "output_type": "stream",
     "text": [
      "RMSE score for the RF model is 9335.83\n"
     ]
    }
   ],
   "source": [
    "score = root_mean_squared_error(y_test, y_pred)\n",
    "print(f'RMSE score for the RF model is {score:.2f}')"
   ]
  },
  {
   "cell_type": "code",
   "execution_count": 92,
   "id": "210612ae",
   "metadata": {},
   "outputs": [
    {
     "data": {
      "text/plain": [
       "array([ -9149.62113045,  -8828.45465381, -11854.43041577,  -8909.51289583,\n",
       "        -7937.72946723])"
      ]
     },
     "execution_count": 92,
     "metadata": {},
     "output_type": "execute_result"
    }
   ],
   "source": [
    "rf_cv = cross_val_score(rf_model, X_train, y_train, scoring='neg_root_mean_squared_error', n_jobs=-1, cv=5)\n",
    "rf_cv"
   ]
  },
  {
   "cell_type": "code",
   "execution_count": 93,
   "id": "172b2f0d",
   "metadata": {},
   "outputs": [
    {
     "data": {
      "text/plain": [
       "-9335.949712616144"
      ]
     },
     "execution_count": 93,
     "metadata": {},
     "output_type": "execute_result"
    }
   ],
   "source": [
    "rf_cv.mean()"
   ]
  },
  {
   "cell_type": "markdown",
   "id": "98bb39a8",
   "metadata": {},
   "source": [
    "## Understanding the model"
   ]
  },
  {
   "cell_type": "code",
   "execution_count": 150,
   "id": "0cff2b7e",
   "metadata": {},
   "outputs": [
    {
     "name": "stdout",
     "output_type": "stream",
     "text": [
      "Train RMSE: 4710.135, Test RMSE: 9335.826\n"
     ]
    }
   ],
   "source": [
    "train_rmse = root_mean_squared_error(y_train, rf_model.predict(X_train))\n",
    "test_rmse = root_mean_squared_error(y_test, rf_model.predict(X_test))\n",
    "\n",
    "print(f'Train RMSE: {train_rmse:.3f}, Test RMSE: {test_rmse:.3f}')"
   ]
  },
  {
   "cell_type": "markdown",
   "id": "d48b5df5",
   "metadata": {},
   "source": [
    "Model is overfitting."
   ]
  },
  {
   "cell_type": "markdown",
   "id": "dd673526",
   "metadata": {},
   "source": [
    "## Hyperparameter Tuning"
   ]
  },
  {
   "cell_type": "markdown",
   "id": "81fa08ad",
   "metadata": {},
   "source": [
    "### Grid Search CV"
   ]
  },
  {
   "cell_type": "code",
   "execution_count": 168,
   "id": "4babfc5b",
   "metadata": {},
   "outputs": [],
   "source": [
    "# param_grid = {\n",
    "#     'rfregressor__regressor__n_estimators': [100, 500],\n",
    "#     'rfregressor__regressor__max_depth': [10, 20],\n",
    "#     'rfregressor__regressor__min_samples_split': [2, 5]\n",
    "# }\n",
    "\n",
    "# rf_grid = GridSearchCV(\n",
    "#     rf_model,\n",
    "#     param_grid=param_grid,\n",
    "#     cv=5,\n",
    "#     scoring='neg_root_mean_squared_error',\n",
    "#     n_jobs=-1,\n",
    "#     verbose=1\n",
    "# )\n",
    "# rf_grid.fit(X_train, y_train)\n",
    "\n",
    "# print(f'Best params: {rf_grid.best_params_}')\n",
    "# print(f'Best RMSE: {-rf_grid.best_score_:.2f}')\n",
    "# Best params: {'rfregressor__regressor__max_depth': None, 'rfregressor__regressor__min_samples_split': 5, 'rfregressor__regressor__n_estimators': 100}\n",
    "# Best RMSE: 9323.25"
   ]
  },
  {
   "cell_type": "markdown",
   "id": "504d129f",
   "metadata": {},
   "source": [
    "### Randomized Search CV"
   ]
  },
  {
   "cell_type": "code",
   "execution_count": 157,
   "id": "c1f4c5d5",
   "metadata": {},
   "outputs": [
    {
     "name": "stdout",
     "output_type": "stream",
     "text": [
      "Best params: {'rfregressor__regressor__max_depth': None, 'rfregressor__regressor__max_features': 0.7, 'rfregressor__regressor__min_samples_leaf': 2, 'rfregressor__regressor__min_samples_split': 9, 'rfregressor__regressor__n_estimators': 393}\n"
     ]
    }
   ],
   "source": [
    "param_dist = {\n",
    "    'rfregressor__regressor__n_estimators': randint(100, 500),\n",
    "    'rfregressor__regressor__max_depth': [10, 20, None],\n",
    "    'rfregressor__regressor__min_samples_split': randint(2, 10),\n",
    "    'rfregressor__regressor__min_samples_leaf': randint(1, 10),\n",
    "    'rfregressor__regressor__max_features': ['sqrt', 'log2', 0.3, 0.5, 0.7]\n",
    "}\n",
    "\n",
    "rdmsearch = RandomizedSearchCV(\n",
    "    rf_model,\n",
    "    param_distributions=param_dist,\n",
    "    n_iter=50,\n",
    "    cv=3,\n",
    "    scoring='neg_root_mean_squared_error',\n",
    "    n_jobs=-1,\n",
    "    random_state=42\n",
    ")\n",
    "\n",
    "rdmsearch.fit(X_train, y_train)\n",
    "print(f'Best params: {rdmsearch.best_params_}')"
   ]
  },
  {
   "cell_type": "markdown",
   "id": "2f29ceff",
   "metadata": {},
   "source": [
    "Check train and test performance for above best_estimator_"
   ]
  },
  {
   "cell_type": "code",
   "execution_count": 159,
   "id": "d4da7f12",
   "metadata": {},
   "outputs": [
    {
     "name": "stdout",
     "output_type": "stream",
     "text": [
      "Train RMSE: 6714.123, Test RMSE: 9351.946\n"
     ]
    }
   ],
   "source": [
    "train_rmse = root_mean_squared_error(y_train, rdmsearch.best_estimator_.predict(X_train))\n",
    "test_rmse = root_mean_squared_error(y_test, rdmsearch.best_estimator_.predict(X_test))\n",
    "\n",
    "print(f'Train RMSE: {train_rmse:.3f}, Test RMSE: {test_rmse:.3f}')"
   ]
  },
  {
   "cell_type": "markdown",
   "id": "da93ecdd",
   "metadata": {},
   "source": [
    "The model still seems overfitted (high variance)."
   ]
  },
  {
   "cell_type": "code",
   "execution_count": 167,
   "id": "e763daeb",
   "metadata": {},
   "outputs": [
    {
     "data": {
      "text/plain": [
       "array([[{'rfregressor__regressor__max_depth': None, 'rfregressor__regressor__max_features': 0.7, 'rfregressor__regressor__min_samples_leaf': 2, 'rfregressor__regressor__min_samples_split': 9, 'rfregressor__regressor__n_estimators': 393},\n",
       "        -9459.645957649716],\n",
       "       [{'rfregressor__regressor__max_depth': None, 'rfregressor__regressor__max_features': 0.3, 'rfregressor__regressor__min_samples_leaf': 1, 'rfregressor__regressor__min_samples_split': 5, 'rfregressor__regressor__n_estimators': 149},\n",
       "        -9517.811180751005],\n",
       "       [{'rfregressor__regressor__max_depth': None, 'rfregressor__regressor__max_features': 0.7, 'rfregressor__regressor__min_samples_leaf': 3, 'rfregressor__regressor__min_samples_split': 5, 'rfregressor__regressor__n_estimators': 351},\n",
       "        -9528.333638059177],\n",
       "       [{'rfregressor__regressor__max_depth': None, 'rfregressor__regressor__max_features': 0.3, 'rfregressor__regressor__min_samples_leaf': 1, 'rfregressor__regressor__min_samples_split': 9, 'rfregressor__regressor__n_estimators': 262},\n",
       "        -9541.671857047966],\n",
       "       [{'rfregressor__regressor__max_depth': 20, 'rfregressor__regressor__max_features': 0.7, 'rfregressor__regressor__min_samples_leaf': 2, 'rfregressor__regressor__min_samples_split': 5, 'rfregressor__regressor__n_estimators': 191},\n",
       "        -9578.234618895884]], dtype=object)"
      ]
     },
     "execution_count": 167,
     "metadata": {},
     "output_type": "execute_result"
    }
   ],
   "source": [
    "results = pd.DataFrame(rdmsearch.cv_results_)\n",
    "np.array(results[['params', 'mean_test_score']].sort_values(by='mean_test_score', ascending=False).head(5))"
   ]
  },
  {
   "cell_type": "markdown",
   "id": "7275bf7d",
   "metadata": {},
   "source": [
    "### Tuning Manually"
   ]
  },
  {
   "cell_type": "code",
   "execution_count": 179,
   "id": "29404539",
   "metadata": {},
   "outputs": [
    {
     "name": "stdout",
     "output_type": "stream",
     "text": [
      "Train RMSE: 7577.656, Test RMSE: 9523.991\n"
     ]
    }
   ],
   "source": [
    "rf_model = Pipeline(steps=[\n",
    "    ('preprocessor', preprocessor),\n",
    "    ('rfregressor', TransformedTargetRegressor(\n",
    "        regressor=RandomForestRegressor(random_state=42,\n",
    "                                        max_depth=None, \n",
    "                                        max_features=0.9, \n",
    "                                        min_samples_leaf=4,  \n",
    "                                        n_estimators=300),\n",
    "        func=np.log1p,\n",
    "        inverse_func=np.expm1\n",
    "    ))\n",
    "])\n",
    "\n",
    "rf_model.fit(X_train, y_train)\n",
    "\n",
    "train_rmse = root_mean_squared_error(y_train, rf_model.predict(X_train))\n",
    "test_rmse = root_mean_squared_error(y_test, rf_model.predict(X_test))\n",
    "print(f'Train RMSE: {train_rmse:.3f}, Test RMSE: {test_rmse:.3f}')"
   ]
  },
  {
   "cell_type": "markdown",
   "id": "d2932779",
   "metadata": {},
   "source": [
    "## Function - Get Feature Names from Preprocessor"
   ]
  },
  {
   "cell_type": "code",
   "execution_count": null,
   "id": "754b4379",
   "metadata": {},
   "outputs": [],
   "source": [
    "def get_feature_names(preprocessor):\n",
    "    output_features = []\n",
    "\n",
    "    for name, trf, cols in preprocessor.transformers_:\n",
    "        if trf == 'drop':\n",
    "            continue\n",
    "        elif trf == 'passthrough':\n",
    "            output_features.extend(cols)\n",
    "        else:\n",
    "            if hasattr(trf, 'named_steps'):\n",
    "                last_step = trf.named_steps[list(trf.named_steps)[-1]]\n",
    "            else:\n",
    "                last_step = trf\n",
    "        \n",
    "        if hasattr(last_step, 'get_feature_names_out'):\n",
    "            transformed_names = last_step.get_feature_names_out(cols)\n",
    "        else:\n",
    "            transformed_names = cols\n",
    "        \n",
    "        output_features.extend(transformed_names)\n",
    "    \n",
    "    return output_features"
   ]
  },
  {
   "cell_type": "markdown",
   "id": "0ed41d02",
   "metadata": {},
   "source": [
    "## Important Features"
   ]
  },
  {
   "cell_type": "code",
   "execution_count": 118,
   "id": "4f805cab",
   "metadata": {},
   "outputs": [],
   "source": [
    "rf_regressor = rf_grid.best_estimator_.named_steps['rfregressor'].regressor_"
   ]
  },
  {
   "cell_type": "code",
   "execution_count": 119,
   "id": "2d579671",
   "metadata": {},
   "outputs": [
    {
     "data": {
      "text/plain": [
       "array([ 636,  631,  635, ...,  538, 1198,  744], dtype=int64)"
      ]
     },
     "execution_count": 119,
     "metadata": {},
     "output_type": "execute_result"
    }
   ],
   "source": [
    "feature_imp = rf_regressor.feature_importances_\n",
    "sorted_idx = np.argsort(feature_imp)[::-1]\n",
    "sorted_idx"
   ]
  },
  {
   "cell_type": "code",
   "execution_count": 123,
   "id": "fc5facdf",
   "metadata": {},
   "outputs": [
    {
     "data": {
      "text/plain": [
       "array(['condition_New', 'car_make_GAC', 'car_make_Leapmotor',\n",
       "       'car_make_Skoda', 'model_207', 'model_7 Series', 'model_Atto 3',\n",
       "       'model_Box', 'model_CTS/Catera', 'model_Cherokee',\n",
       "       'model_Crown Victoria', 'model_EQ', 'model_Escalade',\n",
       "       'model_Fortuner', 'model_Grand i10', 'model_ID 3', 'model_Kicks',\n",
       "       'model_Logan', 'model_Menlo', 'model_Okavango', 'model_Pregio',\n",
       "       'model_Range Rover Evoque', 'model_SM5', 'model_Skyworth',\n",
       "       'model_T03', 'model_UX', 'model_XLR', 'year_1977', 'year_1997',\n",
       "       'year_2017', 'kilometers_150,000 - 159,999', 'num_of_seats_2',\n",
       "       'exterior_color_Blue', 'interior_color_Baby Blue',\n",
       "       'interior_color_Turquoise',\n",
       "       'body_condition_Poor (severe body damages)', 'city_Tafila',\n",
       "       'trim_1LS', 'trim_523', 'trim_Adenture', 'trim_Bora',\n",
       "       'trim_CLK 200', 'trim_Coupe', 'trim_E 350e', 'trim_ESV SR',\n",
       "       'trim_G 500', 'trim_GLS Plus', 'trim_GXR', 'trim_ID.7 VIZZION Pro',\n",
       "       'trim_LTZ', 'trim_Linear', 'trim_Overland 4xe', 'trim_R-Dynamic',\n",
       "       'trim_S 350', 'trim_SL 320', 'trim_SV4', 'trim_Standard V6',\n",
       "       'trim_Turbo Premium Plus', 'trim_WRX', 'trim_XI', 'trim_i4 M50',\n",
       "       'battery_capacity_More than 100 kWh', 'neighborhood_Abdali',\n",
       "       \"neighborhood_Al Balqa'\", 'neighborhood_Al Husn',\n",
       "       'neighborhood_Al Quds Street', 'neighborhood_Al Shajara',\n",
       "       'neighborhood_Al-Amir Hamzah', 'neighborhood_Al-Humranyah',\n",
       "       'neighborhood_Al-Mugairat', 'neighborhood_Al-Shobak',\n",
       "       'neighborhood_Azraq', 'neighborhood_Daheit Al Rasheed',\n",
       "       'neighborhood_Dhlail', 'neighborhood_Hay Al Iskan',\n",
       "       \"neighborhood_I'bbeen\", 'neighborhood_Jabal Al Zohor',\n",
       "       'neighborhood_King Abdullah II Gardens', 'neighborhood_Manja',\n",
       "       'neighborhood_Petra', 'neighborhood_Sal', 'neighborhood_Swefieh',\n",
       "       'neighborhood_Um Uthaiena Al Sharqi', 'neighborhood_Yarga'],\n",
       "      dtype='<U41')"
      ]
     },
     "execution_count": 123,
     "metadata": {},
     "output_type": "execute_result"
    }
   ],
   "source": [
    "transformed_feature_names = get_feature_names(rf_grid.best_estimator_.named_steps['preprocessor'])\n",
    "np.array(transformed_feature_names[::20])"
   ]
  },
  {
   "cell_type": "code",
   "execution_count": 140,
   "id": "d5004f0a",
   "metadata": {},
   "outputs": [
    {
     "data": {
      "image/png": "[encoded data removed]",
      "text/plain": [
       "<Figure size 1200x500 with 1 Axes>"
      ]
     },
     "metadata": {},
     "output_type": "display_data"
    }
   ],
   "source": [
    "top_n = 50\n",
    "top_features = [transformed_feature_names[i] for i in sorted_idx[:top_n]]\n",
    "imp = [feature_imp[i] for i in sorted_idx[:top_n]]\n",
    "\n",
    "fig = plt.figure(figsize=(12, 5))\n",
    "plt.style.use('ggplot')\n",
    "plt.bar(top_features, imp)\n",
    "plt.xlabel('Features')\n",
    "plt.xticks(rotation = 45, ha='right', size=8)\n",
    "plt.ylabel('Importance')\n",
    "plt.title(f'Top {top_n} Features by Importance')\n",
    "plt.tight_layout()"
   ]
  },
  {
   "cell_type": "markdown",
   "id": "3d685c04",
   "metadata": {},
   "source": [
    "# Submission Prediction"
   ]
  },
  {
   "cell_type": "code",
   "execution_count": 181,
   "id": "87da6073",
   "metadata": {},
   "outputs": [
    {
     "data": {
      "text/html": [
       "<style>#sk-container-id-4 {\n",
       "  /* Definition of color scheme common for light and dark mode */\n",
       "  --sklearn-color-text: black;\n",
       "  --sklearn-color-line: gray;\n",
       "  /* Definition of color scheme for unfitted estimators */\n",
       "  --sklearn-color-unfitted-level-0: #fff5e6;\n",
       "  --sklearn-color-unfitted-level-1: #f6e4d2;\n",
       "  --sklearn-color-unfitted-level-2: #ffe0b3;\n",
       "  --sklearn-color-unfitted-level-3: chocolate;\n",
       "  /* Definition of color scheme for fitted estimators */\n",
       "  --sklearn-color-fitted-level-0: #f0f8ff;\n",
       "  --sklearn-color-fitted-level-1: #d4ebff;\n",
       "  --sklearn-color-fitted-level-2: #b3dbfd;\n",
       "  --sklearn-color-fitted-level-3: cornflowerblue;\n",
       "\n",
       "  /* Specific color for light theme */\n",
       "  --sklearn-color-text-on-default-background: var(--sg-text-color, var(--theme-code-foreground, var(--jp-content-font-color1, black)));\n",
       "  --sklearn-color-background: var(--sg-background-color, var(--theme-background, var(--jp-layout-color0, white)));\n",
       "  --sklearn-color-border-box: var(--sg-text-color, var(--theme-code-foreground, var(--jp-content-font-color1, black)));\n",
       "  --sklearn-color-icon: #696969;\n",
       "\n",
       "  @media (prefers-color-scheme: dark) {\n",
       "    /* Redefinition of color scheme for dark theme */\n",
       "    --sklearn-color-text-on-default-background: var(--sg-text-color, var(--theme-code-foreground, var(--jp-content-font-color1, white)));\n",
       "    --sklearn-color-background: var(--sg-background-color, var(--theme-background, var(--jp-layout-color0, #111)));\n",
       "    --sklearn-color-border-box: var(--sg-text-color, var(--theme-code-foreground, var(--jp-content-font-color1, white)));\n",
       "    --sklearn-color-icon: #878787;\n",
       "  }\n",
       "}\n",
       "\n",
       "#sk-container-id-4 {\n",
       "  color: var(--sklearn-color-text);\n",
       "}\n",
       "\n",
       "#sk-container-id-4 pre {\n",
       "  padding: 0;\n",
       "}\n",
       "\n",
       "#sk-container-id-4 input.sk-hidden--visually {\n",
       "  border: 0;\n",
       "  clip: rect(1px 1px 1px 1px);\n",
       "  clip: rect(1px, 1px, 1px, 1px);\n",
       "  height: 1px;\n",
       "  margin: -1px;\n",
       "  overflow: hidden;\n",
       "  padding: 0;\n",
       "  position: absolute;\n",
       "  width: 1px;\n",
       "}\n",
       "\n",
       "#sk-container-id-4 div.sk-dashed-wrapped {\n",
       "  border: 1px dashed var(--sklearn-color-line);\n",
       "  margin: 0 0.4em 0.5em 0.4em;\n",
       "  box-sizing: border-box;\n",
       "  padding-bottom: 0.4em;\n",
       "  background-color: var(--sklearn-color-background);\n",
       "}\n",
       "\n",
       "#sk-container-id-4 div.sk-container {\n",
       "  /* jupyter's `normalize.less` sets `[hidden] { display: none; }`\n",
       "     but bootstrap.min.css set `[hidden] { display: none !important; }`\n",
       "     so we also need the `!important` here to be able to override the\n",
       "     default hidden behavior on the sphinx rendered scikit-learn.org.\n",
       "     See: https://github.com/scikit-learn/scikit-learn/issues/21755 */\n",
       "  display: inline-block !important;\n",
       "  position: relative;\n",
       "}\n",
       "\n",
       "#sk-container-id-4 div.sk-text-repr-fallback {\n",
       "  display: none;\n",
       "}\n",
       "\n",
       "div.sk-parallel-item,\n",
       "div.sk-serial,\n",
       "div.sk-item {\n",
       "  /* draw centered vertical line to link estimators */\n",
       "  background-image: linear-gradient(var(--sklearn-color-text-on-default-background), var(--sklearn-color-text-on-default-background));\n",
       "  background-size: 2px 100%;\n",
       "  background-repeat: no-repeat;\n",
       "  background-position: center center;\n",
       "}\n",
       "\n",
       "/* Parallel-specific style estimator block */\n",
       "\n",
       "#sk-container-id-4 div.sk-parallel-item::after {\n",
       "  content: \"\";\n",
       "  width: 100%;\n",
       "  border-bottom: 2px solid var(--sklearn-color-text-on-default-background);\n",
       "  flex-grow: 1;\n",
       "}\n",
       "\n",
       "#sk-container-id-4 div.sk-parallel {\n",
       "  display: flex;\n",
       "  align-items: stretch;\n",
       "  justify-content: center;\n",
       "  background-color: var(--sklearn-color-background);\n",
       "  position: relative;\n",
       "}\n",
       "\n",
       "#sk-container-id-4 div.sk-parallel-item {\n",
       "  display: flex;\n",
       "  flex-direction: column;\n",
       "}\n",
       "\n",
       "#sk-container-id-4 div.sk-parallel-item:first-child::after {\n",
       "  align-self: flex-end;\n",
       "  width: 50%;\n",
       "}\n",
       "\n",
       "#sk-container-id-4 div.sk-parallel-item:last-child::after {\n",
       "  align-self: flex-start;\n",
       "  width: 50%;\n",
       "}\n",
       "\n",
       "#sk-container-id-4 div.sk-parallel-item:only-child::after {\n",
       "  width: 0;\n",
       "}\n",
       "\n",
       "/* Serial-specific style estimator block */\n",
       "\n",
       "#sk-container-id-4 div.sk-serial {\n",
       "  display: flex;\n",
       "  flex-direction: column;\n",
       "  align-items: center;\n",
       "  background-color: var(--sklearn-color-background);\n",
       "  padding-right: 1em;\n",
       "  padding-left: 1em;\n",
       "}\n",
       "\n",
       "\n",
       "/* Toggleable style: style used for estimator/Pipeline/ColumnTransformer box that is\n",
       "clickable and can be expanded/collapsed.\n",
       "- Pipeline and ColumnTransformer use this feature and define the default style\n",
       "- Estimators will overwrite some part of the style using the `sk-estimator` class\n",
       "*/\n",
       "\n",
       "/* Pipeline and ColumnTransformer style (default) */\n",
       "\n",
       "#sk-container-id-4 div.sk-toggleable {\n",
       "  /* Default theme specific background. It is overwritten whether we have a\n",
       "  specific estimator or a Pipeline/ColumnTransformer */\n",
       "  background-color: var(--sklearn-color-background);\n",
       "}\n",
       "\n",
       "/* Toggleable label */\n",
       "#sk-container-id-4 label.sk-toggleable__label {\n",
       "  cursor: pointer;\n",
       "  display: block;\n",
       "  width: 100%;\n",
       "  margin-bottom: 0;\n",
       "  padding: 0.5em;\n",
       "  box-sizing: border-box;\n",
       "  text-align: center;\n",
       "}\n",
       "\n",
       "#sk-container-id-4 label.sk-toggleable__label-arrow:before {\n",
       "  /* Arrow on the left of the label */\n",
       "  content: \"▸\";\n",
       "  float: left;\n",
       "  margin-right: 0.25em;\n",
       "  color: var(--sklearn-color-icon);\n",
       "}\n",
       "\n",
       "#sk-container-id-4 label.sk-toggleable__label-arrow:hover:before {\n",
       "  color: var(--sklearn-color-text);\n",
       "}\n",
       "\n",
       "/* Toggleable content - dropdown */\n",
       "\n",
       "#sk-container-id-4 div.sk-toggleable__content {\n",
       "  max-height: 0;\n",
       "  max-width: 0;\n",
       "  overflow: hidden;\n",
       "  text-align: left;\n",
       "  /* unfitted */\n",
       "  background-color: var(--sklearn-color-unfitted-level-0);\n",
       "}\n",
       "\n",
       "#sk-container-id-4 div.sk-toggleable__content.fitted {\n",
       "  /* fitted */\n",
       "  background-color: var(--sklearn-color-fitted-level-0);\n",
       "}\n",
       "\n",
       "#sk-container-id-4 div.sk-toggleable__content pre {\n",
       "  margin: 0.2em;\n",
       "  border-radius: 0.25em;\n",
       "  color: var(--sklearn-color-text);\n",
       "  /* unfitted */\n",
       "  background-color: var(--sklearn-color-unfitted-level-0);\n",
       "}\n",
       "\n",
       "#sk-container-id-4 div.sk-toggleable__content.fitted pre {\n",
       "  /* unfitted */\n",
       "  background-color: var(--sklearn-color-fitted-level-0);\n",
       "}\n",
       "\n",
       "#sk-container-id-4 input.sk-toggleable__control:checked~div.sk-toggleable__content {\n",
       "  /* Expand drop-down */\n",
       "  max-height: 200px;\n",
       "  max-width: 100%;\n",
       "  overflow: auto;\n",
       "}\n",
       "\n",
       "#sk-container-id-4 input.sk-toggleable__control:checked~label.sk-toggleable__label-arrow:before {\n",
       "  content: \"▾\";\n",
       "}\n",
       "\n",
       "/* Pipeline/ColumnTransformer-specific style */\n",
       "\n",
       "#sk-container-id-4 div.sk-label input.sk-toggleable__control:checked~label.sk-toggleable__label {\n",
       "  color: var(--sklearn-color-text);\n",
       "  background-color: var(--sklearn-color-unfitted-level-2);\n",
       "}\n",
       "\n",
       "#sk-container-id-4 div.sk-label.fitted input.sk-toggleable__control:checked~label.sk-toggleable__label {\n",
       "  background-color: var(--sklearn-color-fitted-level-2);\n",
       "}\n",
       "\n",
       "/* Estimator-specific style */\n",
       "\n",
       "/* Colorize estimator box */\n",
       "#sk-container-id-4 div.sk-estimator input.sk-toggleable__control:checked~label.sk-toggleable__label {\n",
       "  /* unfitted */\n",
       "  background-color: var(--sklearn-color-unfitted-level-2);\n",
       "}\n",
       "\n",
       "#sk-container-id-4 div.sk-estimator.fitted input.sk-toggleable__control:checked~label.sk-toggleable__label {\n",
       "  /* fitted */\n",
       "  background-color: var(--sklearn-color-fitted-level-2);\n",
       "}\n",
       "\n",
       "#sk-container-id-4 div.sk-label label.sk-toggleable__label,\n",
       "#sk-container-id-4 div.sk-label label {\n",
       "  /* The background is the default theme color */\n",
       "  color: var(--sklearn-color-text-on-default-background);\n",
       "}\n",
       "\n",
       "/* On hover, darken the color of the background */\n",
       "#sk-container-id-4 div.sk-label:hover label.sk-toggleable__label {\n",
       "  color: var(--sklearn-color-text);\n",
       "  background-color: var(--sklearn-color-unfitted-level-2);\n",
       "}\n",
       "\n",
       "/* Label box, darken color on hover, fitted */\n",
       "#sk-container-id-4 div.sk-label.fitted:hover label.sk-toggleable__label.fitted {\n",
       "  color: var(--sklearn-color-text);\n",
       "  background-color: var(--sklearn-color-fitted-level-2);\n",
       "}\n",
       "\n",
       "/* Estimator label */\n",
       "\n",
       "#sk-container-id-4 div.sk-label label {\n",
       "  font-family: monospace;\n",
       "  font-weight: bold;\n",
       "  display: inline-block;\n",
       "  line-height: 1.2em;\n",
       "}\n",
       "\n",
       "#sk-container-id-4 div.sk-label-container {\n",
       "  text-align: center;\n",
       "}\n",
       "\n",
       "/* Estimator-specific */\n",
       "#sk-container-id-4 div.sk-estimator {\n",
       "  font-family: monospace;\n",
       "  border: 1px dotted var(--sklearn-color-border-box);\n",
       "  border-radius: 0.25em;\n",
       "  box-sizing: border-box;\n",
       "  margin-bottom: 0.5em;\n",
       "  /* unfitted */\n",
       "  background-color: var(--sklearn-color-unfitted-level-0);\n",
       "}\n",
       "\n",
       "#sk-container-id-4 div.sk-estimator.fitted {\n",
       "  /* fitted */\n",
       "  background-color: var(--sklearn-color-fitted-level-0);\n",
       "}\n",
       "\n",
       "/* on hover */\n",
       "#sk-container-id-4 div.sk-estimator:hover {\n",
       "  /* unfitted */\n",
       "  background-color: var(--sklearn-color-unfitted-level-2);\n",
       "}\n",
       "\n",
       "#sk-container-id-4 div.sk-estimator.fitted:hover {\n",
       "  /* fitted */\n",
       "  background-color: var(--sklearn-color-fitted-level-2);\n",
       "}\n",
       "\n",
       "/* Specification for estimator info (e.g. \"i\" and \"?\") */\n",
       "\n",
       "/* Common style for \"i\" and \"?\" */\n",
       "\n",
       ".sk-estimator-doc-link,\n",
       "a:link.sk-estimator-doc-link,\n",
       "a:visited.sk-estimator-doc-link {\n",
       "  float: right;\n",
       "  font-size: smaller;\n",
       "  line-height: 1em;\n",
       "  font-family: monospace;\n",
       "  background-color: var(--sklearn-color-background);\n",
       "  border-radius: 1em;\n",
       "  height: 1em;\n",
       "  width: 1em;\n",
       "  text-decoration: none !important;\n",
       "  margin-left: 1ex;\n",
       "  /* unfitted */\n",
       "  border: var(--sklearn-color-unfitted-level-1) 1pt solid;\n",
       "  color: var(--sklearn-color-unfitted-level-1);\n",
       "}\n",
       "\n",
       ".sk-estimator-doc-link.fitted,\n",
       "a:link.sk-estimator-doc-link.fitted,\n",
       "a:visited.sk-estimator-doc-link.fitted {\n",
       "  /* fitted */\n",
       "  border: var(--sklearn-color-fitted-level-1) 1pt solid;\n",
       "  color: var(--sklearn-color-fitted-level-1);\n",
       "}\n",
       "\n",
       "/* On hover */\n",
       "div.sk-estimator:hover .sk-estimator-doc-link:hover,\n",
       ".sk-estimator-doc-link:hover,\n",
       "div.sk-label-container:hover .sk-estimator-doc-link:hover,\n",
       ".sk-estimator-doc-link:hover {\n",
       "  /* unfitted */\n",
       "  background-color: var(--sklearn-color-unfitted-level-3);\n",
       "  color: var(--sklearn-color-background);\n",
       "  text-decoration: none;\n",
       "}\n",
       "\n",
       "div.sk-estimator.fitted:hover .sk-estimator-doc-link.fitted:hover,\n",
       ".sk-estimator-doc-link.fitted:hover,\n",
       "div.sk-label-container:hover .sk-estimator-doc-link.fitted:hover,\n",
       ".sk-estimator-doc-link.fitted:hover {\n",
       "  /* fitted */\n",
       "  background-color: var(--sklearn-color-fitted-level-3);\n",
       "  color: var(--sklearn-color-background);\n",
       "  text-decoration: none;\n",
       "}\n",
       "\n",
       "/* Span, style for the box shown on hovering the info icon */\n",
       ".sk-estimator-doc-link span {\n",
       "  display: none;\n",
       "  z-index: 9999;\n",
       "  position: relative;\n",
       "  font-weight: normal;\n",
       "  right: .2ex;\n",
       "  padding: .5ex;\n",
       "  margin: .5ex;\n",
       "  width: min-content;\n",
       "  min-width: 20ex;\n",
       "  max-width: 50ex;\n",
       "  color: var(--sklearn-color-text);\n",
       "  box-shadow: 2pt 2pt 4pt #999;\n",
       "  /* unfitted */\n",
       "  background: var(--sklearn-color-unfitted-level-0);\n",
       "  border: .5pt solid var(--sklearn-color-unfitted-level-3);\n",
       "}\n",
       "\n",
       ".sk-estimator-doc-link.fitted span {\n",
       "  /* fitted */\n",
       "  background: var(--sklearn-color-fitted-level-0);\n",
       "  border: var(--sklearn-color-fitted-level-3);\n",
       "}\n",
       "\n",
       ".sk-estimator-doc-link:hover span {\n",
       "  display: block;\n",
       "}\n",
       "\n",
       "/* \"?\"-specific style due to the `<a>` HTML tag */\n",
       "\n",
       "#sk-container-id-4 a.estimator_doc_link {\n",
       "  float: right;\n",
       "  font-size: 1rem;\n",
       "  line-height: 1em;\n",
       "  font-family: monospace;\n",
       "  background-color: var(--sklearn-color-background);\n",
       "  border-radius: 1rem;\n",
       "  height: 1rem;\n",
       "  width: 1rem;\n",
       "  text-decoration: none;\n",
       "  /* unfitted */\n",
       "  color: var(--sklearn-color-unfitted-level-1);\n",
       "  border: var(--sklearn-color-unfitted-level-1) 1pt solid;\n",
       "}\n",
       "\n",
       "#sk-container-id-4 a.estimator_doc_link.fitted {\n",
       "  /* fitted */\n",
       "  border: var(--sklearn-color-fitted-level-1) 1pt solid;\n",
       "  color: var(--sklearn-color-fitted-level-1);\n",
       "}\n",
       "\n",
       "/* On hover */\n",
       "#sk-container-id-4 a.estimator_doc_link:hover {\n",
       "  /* unfitted */\n",
       "  background-color: var(--sklearn-color-unfitted-level-3);\n",
       "  color: var(--sklearn-color-background);\n",
       "  text-decoration: none;\n",
       "}\n",
       "\n",
       "#sk-container-id-4 a.estimator_doc_link.fitted:hover {\n",
       "  /* fitted */\n",
       "  background-color: var(--sklearn-color-fitted-level-3);\n",
       "}\n",
       "</style><div id=\"sk-container-id-4\" class=\"sk-top-container\"><div class=\"sk-text-repr-fallback\"><pre>Pipeline(steps=[(&#x27;preprocessor&#x27;,\n",
       "                 ColumnTransformer(remainder=&#x27;passthrough&#x27;,\n",
       "                                   transformers=[(&#x27;cat_impute_freq&#x27;,\n",
       "                                                  Pipeline(steps=[(&#x27;freq_imputer&#x27;,\n",
       "                                                                   SimpleImputer(strategy=&#x27;most_frequent&#x27;)),\n",
       "                                                                  (&#x27;freq_to_str&#x27;,\n",
       "                                                                   FunctionTransformer(func=&lt;function &lt;lambda&gt; at 0x000001B7DA73C2C0&gt;)),\n",
       "                                                                  (&#x27;freq_encoder&#x27;,\n",
       "                                                                   OneHotEncoder(handle_unknown=&#x27;ignore&#x27;,\n",
       "                                                                                 sparse_output=False))]),\n",
       "                                                  [&#x27;condition...\n",
       "                                                 (&#x27;drop&#x27;, &#x27;drop&#x27;,\n",
       "                                                  [&#x27;id&#x27;, &#x27;scraped_time&#x27;,\n",
       "                                                   &#x27;category&#x27;, &#x27;subcategory&#x27;,\n",
       "                                                   &#x27;description_score&#x27;]),\n",
       "                                                 (&#x27;options&#x27;, &#x27;drop&#x27;,\n",
       "                                                  [&#x27;interior_options&#x27;,\n",
       "                                                   &#x27;exterior_options&#x27;,\n",
       "                                                   &#x27;technology_options&#x27;])])),\n",
       "                (&#x27;rfregressor&#x27;,\n",
       "                 TransformedTargetRegressor(func=&lt;ufunc &#x27;log1p&#x27;&gt;,\n",
       "                                            inverse_func=&lt;ufunc &#x27;expm1&#x27;&gt;,\n",
       "                                            regressor=RandomForestRegressor(max_features=0.9,\n",
       "                                                                            min_samples_leaf=4,\n",
       "                                                                            n_estimators=300,\n",
       "                                                                            random_state=42)))])</pre><b>In a Jupyter environment, please rerun this cell to show the HTML representation or trust the notebook. <br />On GitHub, the HTML representation is unable to render, please try loading this page with nbviewer.org.</b></div><div class=\"sk-container\" hidden><div class=\"sk-item sk-dashed-wrapped\"><div class=\"sk-label-container\"><div class=\"sk-label fitted sk-toggleable\"><input class=\"sk-toggleable__control sk-hidden--visually\" id=\"sk-estimator-id-39\" type=\"checkbox\" ><label for=\"sk-estimator-id-39\" class=\"sk-toggleable__label fitted sk-toggleable__label-arrow fitted\">&nbsp;&nbsp;Pipeline<a class=\"sk-estimator-doc-link fitted\" rel=\"noreferrer\" target=\"_blank\" href=\"https://scikit-learn.org/1.5/modules/generated/sklearn.pipeline.Pipeline.html\">?<span>Documentation for Pipeline</span></a><span class=\"sk-estimator-doc-link fitted\">i<span>Fitted</span></span></label><div class=\"sk-toggleable__content fitted\"><pre>Pipeline(steps=[(&#x27;preprocessor&#x27;,\n",
       "                 ColumnTransformer(remainder=&#x27;passthrough&#x27;,\n",
       "                                   transformers=[(&#x27;cat_impute_freq&#x27;,\n",
       "                                                  Pipeline(steps=[(&#x27;freq_imputer&#x27;,\n",
       "                                                                   SimpleImputer(strategy=&#x27;most_frequent&#x27;)),\n",
       "                                                                  (&#x27;freq_to_str&#x27;,\n",
       "                                                                   FunctionTransformer(func=&lt;function &lt;lambda&gt; at 0x000001B7DA73C2C0&gt;)),\n",
       "                                                                  (&#x27;freq_encoder&#x27;,\n",
       "                                                                   OneHotEncoder(handle_unknown=&#x27;ignore&#x27;,\n",
       "                                                                                 sparse_output=False))]),\n",
       "                                                  [&#x27;condition...\n",
       "                                                 (&#x27;drop&#x27;, &#x27;drop&#x27;,\n",
       "                                                  [&#x27;id&#x27;, &#x27;scraped_time&#x27;,\n",
       "                                                   &#x27;category&#x27;, &#x27;subcategory&#x27;,\n",
       "                                                   &#x27;description_score&#x27;]),\n",
       "                                                 (&#x27;options&#x27;, &#x27;drop&#x27;,\n",
       "                                                  [&#x27;interior_options&#x27;,\n",
       "                                                   &#x27;exterior_options&#x27;,\n",
       "                                                   &#x27;technology_options&#x27;])])),\n",
       "                (&#x27;rfregressor&#x27;,\n",
       "                 TransformedTargetRegressor(func=&lt;ufunc &#x27;log1p&#x27;&gt;,\n",
       "                                            inverse_func=&lt;ufunc &#x27;expm1&#x27;&gt;,\n",
       "                                            regressor=RandomForestRegressor(max_features=0.9,\n",
       "                                                                            min_samples_leaf=4,\n",
       "                                                                            n_estimators=300,\n",
       "                                                                            random_state=42)))])</pre></div> </div></div><div class=\"sk-serial\"><div class=\"sk-item sk-dashed-wrapped\"><div class=\"sk-label-container\"><div class=\"sk-label fitted sk-toggleable\"><input class=\"sk-toggleable__control sk-hidden--visually\" id=\"sk-estimator-id-40\" type=\"checkbox\" ><label for=\"sk-estimator-id-40\" class=\"sk-toggleable__label fitted sk-toggleable__label-arrow fitted\">&nbsp;preprocessor: ColumnTransformer<a class=\"sk-estimator-doc-link fitted\" rel=\"noreferrer\" target=\"_blank\" href=\"https://scikit-learn.org/1.5/modules/generated/sklearn.compose.ColumnTransformer.html\">?<span>Documentation for preprocessor: ColumnTransformer</span></a></label><div class=\"sk-toggleable__content fitted\"><pre>ColumnTransformer(remainder=&#x27;passthrough&#x27;,\n",
       "                  transformers=[(&#x27;cat_impute_freq&#x27;,\n",
       "                                 Pipeline(steps=[(&#x27;freq_imputer&#x27;,\n",
       "                                                  SimpleImputer(strategy=&#x27;most_frequent&#x27;)),\n",
       "                                                 (&#x27;freq_to_str&#x27;,\n",
       "                                                  FunctionTransformer(func=&lt;function &lt;lambda&gt; at 0x000001B7DA73C2C0&gt;)),\n",
       "                                                 (&#x27;freq_encoder&#x27;,\n",
       "                                                  OneHotEncoder(handle_unknown=&#x27;ignore&#x27;,\n",
       "                                                                sparse_output=False))]),\n",
       "                                 [&#x27;condition&#x27;, &#x27;car_make&#x27;, &#x27;model&#x27;, &#x27;year&#x27;,\n",
       "                                  &#x27;kil...\n",
       "                                                  FunctionTransformer(func=&lt;function &lt;lambda&gt; at 0x000001B7DA73C040&gt;)),\n",
       "                                                 (&#x27;zero_encoder&#x27;,\n",
       "                                                  OneHotEncoder(handle_unknown=&#x27;ignore&#x27;,\n",
       "                                                                sparse_output=False))]),\n",
       "                                 [&#x27;trim&#x27;, &#x27;engine_size_cc&#x27;, &#x27;battery_capacity&#x27;,\n",
       "                                  &#x27;battery_range&#x27;, &#x27;neighborhood&#x27;]),\n",
       "                                (&#x27;drop&#x27;, &#x27;drop&#x27;,\n",
       "                                 [&#x27;id&#x27;, &#x27;scraped_time&#x27;, &#x27;category&#x27;,\n",
       "                                  &#x27;subcategory&#x27;, &#x27;description_score&#x27;]),\n",
       "                                (&#x27;options&#x27;, &#x27;drop&#x27;,\n",
       "                                 [&#x27;interior_options&#x27;, &#x27;exterior_options&#x27;,\n",
       "                                  &#x27;technology_options&#x27;])])</pre></div> </div></div><div class=\"sk-parallel\"><div class=\"sk-parallel-item\"><div class=\"sk-item\"><div class=\"sk-label-container\"><div class=\"sk-label fitted sk-toggleable\"><input class=\"sk-toggleable__control sk-hidden--visually\" id=\"sk-estimator-id-41\" type=\"checkbox\" ><label for=\"sk-estimator-id-41\" class=\"sk-toggleable__label fitted sk-toggleable__label-arrow fitted\">cat_impute_freq</label><div class=\"sk-toggleable__content fitted\"><pre>[&#x27;condition&#x27;, &#x27;car_make&#x27;, &#x27;model&#x27;, &#x27;year&#x27;, &#x27;kilometers&#x27;, &#x27;body_type&#x27;, &#x27;num_of_seats&#x27;, &#x27;fuel&#x27;, &#x27;transmission&#x27;, &#x27;exterior_color&#x27;, &#x27;interior_color&#x27;, &#x27;regional_specs&#x27;, &#x27;car_license&#x27;, &#x27;insurance&#x27;, &#x27;car_customs&#x27;, &#x27;body_condition&#x27;, &#x27;paint&#x27;, &#x27;payment_method&#x27;, &#x27;city&#x27;]</pre></div> </div></div><div class=\"sk-serial\"><div class=\"sk-item\"><div class=\"sk-serial\"><div class=\"sk-item\"><div class=\"sk-estimator fitted sk-toggleable\"><input class=\"sk-toggleable__control sk-hidden--visually\" id=\"sk-estimator-id-42\" type=\"checkbox\" ><label for=\"sk-estimator-id-42\" class=\"sk-toggleable__label fitted sk-toggleable__label-arrow fitted\">&nbsp;SimpleImputer<a class=\"sk-estimator-doc-link fitted\" rel=\"noreferrer\" target=\"_blank\" href=\"https://scikit-learn.org/1.5/modules/generated/sklearn.impute.SimpleImputer.html\">?<span>Documentation for SimpleImputer</span></a></label><div class=\"sk-toggleable__content fitted\"><pre>SimpleImputer(strategy=&#x27;most_frequent&#x27;)</pre></div> </div></div><div class=\"sk-item\"><div class=\"sk-estimator fitted sk-toggleable\"><input class=\"sk-toggleable__control sk-hidden--visually\" id=\"sk-estimator-id-43\" type=\"checkbox\" ><label for=\"sk-estimator-id-43\" class=\"sk-toggleable__label fitted sk-toggleable__label-arrow fitted\">&nbsp;FunctionTransformer<a class=\"sk-estimator-doc-link fitted\" rel=\"noreferrer\" target=\"_blank\" href=\"https://scikit-learn.org/1.5/modules/generated/sklearn.preprocessing.FunctionTransformer.html\">?<span>Documentation for FunctionTransformer</span></a></label><div class=\"sk-toggleable__content fitted\"><pre>FunctionTransformer(func=&lt;function &lt;lambda&gt; at 0x000001B7DA73C2C0&gt;)</pre></div> </div></div><div class=\"sk-item\"><div class=\"sk-estimator fitted sk-toggleable\"><input class=\"sk-toggleable__control sk-hidden--visually\" id=\"sk-estimator-id-44\" type=\"checkbox\" ><label for=\"sk-estimator-id-44\" class=\"sk-toggleable__label fitted sk-toggleable__label-arrow fitted\">&nbsp;OneHotEncoder<a class=\"sk-estimator-doc-link fitted\" rel=\"noreferrer\" target=\"_blank\" href=\"https://scikit-learn.org/1.5/modules/generated/sklearn.preprocessing.OneHotEncoder.html\">?<span>Documentation for OneHotEncoder</span></a></label><div class=\"sk-toggleable__content fitted\"><pre>OneHotEncoder(handle_unknown=&#x27;ignore&#x27;, sparse_output=False)</pre></div> </div></div></div></div></div></div></div><div class=\"sk-parallel-item\"><div class=\"sk-item\"><div class=\"sk-label-container\"><div class=\"sk-label fitted sk-toggleable\"><input class=\"sk-toggleable__control sk-hidden--visually\" id=\"sk-estimator-id-45\" type=\"checkbox\" ><label for=\"sk-estimator-id-45\" class=\"sk-toggleable__label fitted sk-toggleable__label-arrow fitted\">cat_impute_zero</label><div class=\"sk-toggleable__content fitted\"><pre>[&#x27;trim&#x27;, &#x27;engine_size_cc&#x27;, &#x27;battery_capacity&#x27;, &#x27;battery_range&#x27;, &#x27;neighborhood&#x27;]</pre></div> </div></div><div class=\"sk-serial\"><div class=\"sk-item\"><div class=\"sk-serial\"><div class=\"sk-item\"><div class=\"sk-estimator fitted sk-toggleable\"><input class=\"sk-toggleable__control sk-hidden--visually\" id=\"sk-estimator-id-46\" type=\"checkbox\" ><label for=\"sk-estimator-id-46\" class=\"sk-toggleable__label fitted sk-toggleable__label-arrow fitted\">&nbsp;SimpleImputer<a class=\"sk-estimator-doc-link fitted\" rel=\"noreferrer\" target=\"_blank\" href=\"https://scikit-learn.org/1.5/modules/generated/sklearn.impute.SimpleImputer.html\">?<span>Documentation for SimpleImputer</span></a></label><div class=\"sk-toggleable__content fitted\"><pre>SimpleImputer(fill_value=0, strategy=&#x27;constant&#x27;)</pre></div> </div></div><div class=\"sk-item\"><div class=\"sk-estimator fitted sk-toggleable\"><input class=\"sk-toggleable__control sk-hidden--visually\" id=\"sk-estimator-id-47\" type=\"checkbox\" ><label for=\"sk-estimator-id-47\" class=\"sk-toggleable__label fitted sk-toggleable__label-arrow fitted\">&nbsp;FunctionTransformer<a class=\"sk-estimator-doc-link fitted\" rel=\"noreferrer\" target=\"_blank\" href=\"https://scikit-learn.org/1.5/modules/generated/sklearn.preprocessing.FunctionTransformer.html\">?<span>Documentation for FunctionTransformer</span></a></label><div class=\"sk-toggleable__content fitted\"><pre>FunctionTransformer(func=&lt;function &lt;lambda&gt; at 0x000001B7DA73C040&gt;)</pre></div> </div></div><div class=\"sk-item\"><div class=\"sk-estimator fitted sk-toggleable\"><input class=\"sk-toggleable__control sk-hidden--visually\" id=\"sk-estimator-id-48\" type=\"checkbox\" ><label for=\"sk-estimator-id-48\" class=\"sk-toggleable__label fitted sk-toggleable__label-arrow fitted\">&nbsp;OneHotEncoder<a class=\"sk-estimator-doc-link fitted\" rel=\"noreferrer\" target=\"_blank\" href=\"https://scikit-learn.org/1.5/modules/generated/sklearn.preprocessing.OneHotEncoder.html\">?<span>Documentation for OneHotEncoder</span></a></label><div class=\"sk-toggleable__content fitted\"><pre>OneHotEncoder(handle_unknown=&#x27;ignore&#x27;, sparse_output=False)</pre></div> </div></div></div></div></div></div></div><div class=\"sk-parallel-item\"><div class=\"sk-item\"><div class=\"sk-label-container\"><div class=\"sk-label fitted sk-toggleable\"><input class=\"sk-toggleable__control sk-hidden--visually\" id=\"sk-estimator-id-49\" type=\"checkbox\" ><label for=\"sk-estimator-id-49\" class=\"sk-toggleable__label fitted sk-toggleable__label-arrow fitted\">drop</label><div class=\"sk-toggleable__content fitted\"><pre>[&#x27;id&#x27;, &#x27;scraped_time&#x27;, &#x27;category&#x27;, &#x27;subcategory&#x27;, &#x27;description_score&#x27;]</pre></div> </div></div><div class=\"sk-serial\"><div class=\"sk-item\"><div class=\"sk-estimator fitted sk-toggleable\"><input class=\"sk-toggleable__control sk-hidden--visually\" id=\"sk-estimator-id-50\" type=\"checkbox\" ><label for=\"sk-estimator-id-50\" class=\"sk-toggleable__label fitted sk-toggleable__label-arrow fitted\">drop</label><div class=\"sk-toggleable__content fitted\"><pre>drop</pre></div> </div></div></div></div></div><div class=\"sk-parallel-item\"><div class=\"sk-item\"><div class=\"sk-label-container\"><div class=\"sk-label fitted sk-toggleable\"><input class=\"sk-toggleable__control sk-hidden--visually\" id=\"sk-estimator-id-51\" type=\"checkbox\" ><label for=\"sk-estimator-id-51\" class=\"sk-toggleable__label fitted sk-toggleable__label-arrow fitted\">options</label><div class=\"sk-toggleable__content fitted\"><pre>[&#x27;interior_options&#x27;, &#x27;exterior_options&#x27;, &#x27;technology_options&#x27;]</pre></div> </div></div><div class=\"sk-serial\"><div class=\"sk-item\"><div class=\"sk-estimator fitted sk-toggleable\"><input class=\"sk-toggleable__control sk-hidden--visually\" id=\"sk-estimator-id-52\" type=\"checkbox\" ><label for=\"sk-estimator-id-52\" class=\"sk-toggleable__label fitted sk-toggleable__label-arrow fitted\">drop</label><div class=\"sk-toggleable__content fitted\"><pre>drop</pre></div> </div></div></div></div></div><div class=\"sk-parallel-item\"><div class=\"sk-item\"><div class=\"sk-label-container\"><div class=\"sk-label fitted sk-toggleable\"><input class=\"sk-toggleable__control sk-hidden--visually\" id=\"sk-estimator-id-53\" type=\"checkbox\" ><label for=\"sk-estimator-id-53\" class=\"sk-toggleable__label fitted sk-toggleable__label-arrow fitted\">remainder</label><div class=\"sk-toggleable__content fitted\"><pre>[]</pre></div> </div></div><div class=\"sk-serial\"><div class=\"sk-item\"><div class=\"sk-estimator fitted sk-toggleable\"><input class=\"sk-toggleable__control sk-hidden--visually\" id=\"sk-estimator-id-54\" type=\"checkbox\" ><label for=\"sk-estimator-id-54\" class=\"sk-toggleable__label fitted sk-toggleable__label-arrow fitted\">passthrough</label><div class=\"sk-toggleable__content fitted\"><pre>passthrough</pre></div> </div></div></div></div></div></div></div><div class=\"sk-item sk-dashed-wrapped\"><div class=\"sk-label-container\"><div class=\"sk-label fitted sk-toggleable\"><input class=\"sk-toggleable__control sk-hidden--visually\" id=\"sk-estimator-id-55\" type=\"checkbox\" ><label for=\"sk-estimator-id-55\" class=\"sk-toggleable__label fitted sk-toggleable__label-arrow fitted\">&nbsp;rfregressor: TransformedTargetRegressor<a class=\"sk-estimator-doc-link fitted\" rel=\"noreferrer\" target=\"_blank\" href=\"https://scikit-learn.org/1.5/modules/generated/sklearn.compose.TransformedTargetRegressor.html\">?<span>Documentation for rfregressor: TransformedTargetRegressor</span></a></label><div class=\"sk-toggleable__content fitted\"><pre>TransformedTargetRegressor(func=&lt;ufunc &#x27;log1p&#x27;&gt;, inverse_func=&lt;ufunc &#x27;expm1&#x27;&gt;,\n",
       "                           regressor=RandomForestRegressor(max_features=0.9,\n",
       "                                                           min_samples_leaf=4,\n",
       "                                                           n_estimators=300,\n",
       "                                                           random_state=42))</pre></div> </div></div><div class=\"sk-parallel\"><div class=\"sk-parallel-item\"><div class=\"sk-item\"><div class=\"sk-label-container\"><div class=\"sk-label fitted sk-toggleable\"><input class=\"sk-toggleable__control sk-hidden--visually\" id=\"sk-estimator-id-56\" type=\"checkbox\" ><label for=\"sk-estimator-id-56\" class=\"sk-toggleable__label fitted sk-toggleable__label-arrow fitted\">regressor: RandomForestRegressor</label><div class=\"sk-toggleable__content fitted\"><pre>RandomForestRegressor(max_features=0.9, min_samples_leaf=4, n_estimators=300,\n",
       "                      random_state=42)</pre></div> </div></div><div class=\"sk-serial\"><div class=\"sk-item\"><div class=\"sk-estimator fitted sk-toggleable\"><input class=\"sk-toggleable__control sk-hidden--visually\" id=\"sk-estimator-id-57\" type=\"checkbox\" ><label for=\"sk-estimator-id-57\" class=\"sk-toggleable__label fitted sk-toggleable__label-arrow fitted\">&nbsp;RandomForestRegressor<a class=\"sk-estimator-doc-link fitted\" rel=\"noreferrer\" target=\"_blank\" href=\"https://scikit-learn.org/1.5/modules/generated/sklearn.ensemble.RandomForestRegressor.html\">?<span>Documentation for RandomForestRegressor</span></a></label><div class=\"sk-toggleable__content fitted\"><pre>RandomForestRegressor(max_features=0.9, min_samples_leaf=4, n_estimators=300,\n",
       "                      random_state=42)</pre></div> </div></div></div></div></div></div></div></div></div></div></div>"
      ],
      "text/plain": [
       "Pipeline(steps=[('preprocessor',\n",
       "                 ColumnTransformer(remainder='passthrough',\n",
       "                                   transformers=[('cat_impute_freq',\n",
       "                                                  Pipeline(steps=[('freq_imputer',\n",
       "                                                                   SimpleImputer(strategy='most_frequent')),\n",
       "                                                                  ('freq_to_str',\n",
       "                                                                   FunctionTransformer(func=<function <lambda> at 0x000001B7DA73C2C0>)),\n",
       "                                                                  ('freq_encoder',\n",
       "                                                                   OneHotEncoder(handle_unknown='ignore',\n",
       "                                                                                 sparse_output=False))]),\n",
       "                                                  ['condition...\n",
       "                                                 ('drop', 'drop',\n",
       "                                                  ['id', 'scraped_time',\n",
       "                                                   'category', 'subcategory',\n",
       "                                                   'description_score']),\n",
       "                                                 ('options', 'drop',\n",
       "                                                  ['interior_options',\n",
       "                                                   'exterior_options',\n",
       "                                                   'technology_options'])])),\n",
       "                ('rfregressor',\n",
       "                 TransformedTargetRegressor(func=<ufunc 'log1p'>,\n",
       "                                            inverse_func=<ufunc 'expm1'>,\n",
       "                                            regressor=RandomForestRegressor(max_features=0.9,\n",
       "                                                                            min_samples_leaf=4,\n",
       "                                                                            n_estimators=300,\n",
       "                                                                            random_state=42)))])"
      ]
     },
     "execution_count": 181,
     "metadata": {},
     "output_type": "execute_result"
    }
   ],
   "source": [
    "rf_model.fit(X, y)"
   ]
  },
  {
   "cell_type": "code",
   "execution_count": 182,
   "id": "5917015a",
   "metadata": {},
   "outputs": [
    {
     "data": {
      "text/plain": [
       "(4027, 32)"
      ]
     },
     "execution_count": 182,
     "metadata": {},
     "output_type": "execute_result"
    }
   ],
   "source": [
    "test_df = pd.read_csv('data/test.csv')\n",
    "test_df.shape"
   ]
  },
  {
   "cell_type": "code",
   "execution_count": 184,
   "id": "9862e73a",
   "metadata": {},
   "outputs": [],
   "source": [
    "test_df.rename(columns=cols_map, inplace=True)"
   ]
  },
  {
   "cell_type": "code",
   "execution_count": 185,
   "id": "e962cd90",
   "metadata": {},
   "outputs": [],
   "source": [
    "sub_pred = rf_model.predict(test_df)"
   ]
  },
  {
   "cell_type": "code",
   "execution_count": 190,
   "id": "1e87f91d",
   "metadata": {},
   "outputs": [],
   "source": [
    "sub_df = pd.DataFrame({\n",
    "    'Id': test_df['id'],\n",
    "    'Price': sub_pred\n",
    "})"
   ]
  },
  {
   "cell_type": "code",
   "execution_count": 191,
   "id": "58e76e4b",
   "metadata": {},
   "outputs": [],
   "source": [
    "sub_df.to_csv('submission/sub_1_rf.csv', index=False)"
   ]
  },
  {
   "cell_type": "code",
   "execution_count": null,
   "id": "4007af1d",
   "metadata": {},
   "outputs": [],
   "source": []
  }
 ],
 "metadata": {
  "kernelspec": {
   "display_name": "base",
   "language": "python",
   "name": "python3"
  },
  "language_info": {
   "codemirror_mode": {
    "name": "ipython",
    "version": 3
   },
   "file_extension": ".py",
   "mimetype": "text/x-python",
   "name": "python",
   "nbconvert_exporter": "python",
   "pygments_lexer": "ipython3",
   "version": "3.12.7"
  }
 },
 "nbformat": 4,
 "nbformat_minor": 5
}
