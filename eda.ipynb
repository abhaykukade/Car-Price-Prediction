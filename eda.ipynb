{
 "cells": [
  {
   "cell_type": "markdown",
   "id": "fe374b59",
   "metadata": {},
   "source": [
    "# APIs"
   ]
  },
  {
   "cell_type": "code",
   "execution_count": 172,
   "id": "8722afdd",
   "metadata": {},
   "outputs": [],
   "source": [
    "import numpy as np\n",
    "import pandas as pd\n",
    "import matplotlib.pyplot as plt\n",
    "import seaborn as sns\n",
    "from sklearn.model_selection import train_test_split, GridSearchCV, cross_val_score\n",
    "from sklearn.linear_model import LinearRegression\n",
    "from sklearn.ensemble import RandomForestRegressor\n",
    "from sklearn.pipeline import Pipeline, make_pipeline\n",
    "from sklearn.preprocessing import OneHotEncoder, MultiLabelBinarizer\n",
    "from sklearn.compose import ColumnTransformer\n",
    "from sklearn.impute import SimpleImputer, KNNImputer\n",
    "from sklearn.compose import make_column_selector as selector\n",
    "from sklearn.metrics import root_mean_squared_error\n",
    "from sklearn.base import BaseEstimator, TransformerMixin\n",
    "\n",
    "# %pip install pypalettes\n",
    "import pypalettes\n",
    "from pypalettes import load_cmap\n",
    "\n",
    "import warnings\n",
    "warnings.filterwarnings('ignore', category=PendingDeprecationWarning)"
   ]
  },
  {
   "cell_type": "code",
   "execution_count": 2,
   "id": "91a22461",
   "metadata": {},
   "outputs": [
    {
     "data": {
      "image/png": "[encoded data removed]",
      "text/html": [
       "<div style=\"vertical-align: middle;\"><strong>fleurs_dans_un_vase_de_cristal</strong> </div><div class=\"cmap\"><img alt=\"fleurs_dans_un_vase_de_cristal colormap\" title=\"fleurs_dans_un_vase_de_cristal\" style=\"border: 1px solid #555;\" src=\"data:image/png;base64,iVBORw0KGgoAAAANSUhEUgAAAgAAAABACAYAAABsv8+/AAAALXRFWHRUaXRsZQBmbGV1cnNfZGFuc191bl92YXNlX2RlX2NyaXN0YWwgY29sb3JtYXCyP6v/AAAAM3RFWHREZXNjcmlwdGlvbgBmbGV1cnNfZGFuc191bl92YXNlX2RlX2NyaXN0YWwgY29sb3JtYXCCS/O4AAAAMXRFWHRBdXRob3IATWF0cGxvdGxpYiB2My4xMC4zLCBodHRwczovL21hdHBsb3RsaWIub3Jnhnp4VQAAADN0RVh0U29mdHdhcmUATWF0cGxvdGxpYiB2My4xMC4zLCBodHRwczovL21hdHBsb3RsaWIub3JnI15roQAAAYNJREFUeJzt1lFtwzAARVFvBMJgDIKkhDYGJTIkK4MwKIMi2L6j/M+W7jkInmzZum+f3z+/YzHH45g94eR1PGZPuHhua53Rtm2zJ1zsH2ttuu232RMu9n2fPeFkG2vd2Rhj3L/usydcPF/P2RNObou9tW2sdT5jjDEW/CPfZw8AAP6fAACAIAEAAEECAACCBAAABAkAAAgSAAAQJAAAIEgAAECQAACAIAEAAEECAACCBAAABAkAAAgSAAAQJAAAIEgAAECQAACAIAEAAEECAACCBAAABAkAAAgSAAAQJAAAIEgAAECQAACAIAEAAEECAACCBAAABAkAAAgSAAAQJAAAIEgAAECQAACAIAEAAEECAACCBAAABAkAAAgSAAAQJAAAIEgAAECQAACAIAEAAEECAACCBAAABAkAAAgSAAAQJAAAIEgAAECQAACAIAEAAEECAACCBAAABAkAAAgSAAAQJAAAIEgAAECQAACAIAEAAEECAACCBAAABAkAAAgSAAAQ9AeuhxHJDIOi5QAAAABJRU5ErkJggg==\"></div><div style=\"vertical-align: middle; max-width: 514px; display: flex; justify-content: space-between;\"><div style=\"float: left;\"><div title=\"#78a5c3ff\" style=\"display: inline-block; width: 1em; height: 1em; margin: 0; vertical-align: middle; border: 1px solid #555; background-color: #78a5c3ff;\"></div> under</div><div style=\"margin: 0 auto; display: inline-block;\">bad <div title=\"#00000000\" style=\"display: inline-block; width: 1em; height: 1em; margin: 0; vertical-align: middle; border: 1px solid #555; background-color: #00000000;\"></div></div><div style=\"float: right;\">over <div title=\"#a5693cff\" style=\"display: inline-block; width: 1em; height: 1em; margin: 0; vertical-align: middle; border: 1px solid #555; background-color: #a5693cff;\"></div></div></div>"
      ],
      "text/plain": [
       "<matplotlib.colors.ListedColormap at 0x259e4db52b0>"
      ]
     },
     "execution_count": 2,
     "metadata": {},
     "output_type": "execute_result"
    }
   ],
   "source": [
    "cmap = load_cmap('fleurs_dans_un_vase_de_cristal')\n",
    "cmap"
   ]
  },
  {
   "cell_type": "code",
   "execution_count": 3,
   "id": "f5ab97fa",
   "metadata": {},
   "outputs": [
    {
     "name": "stdout",
     "output_type": "stream",
     "text": [
      "#2D5A3CFF\n"
     ]
    }
   ],
   "source": [
    "print(cmap.colors[4])"
   ]
  },
  {
   "cell_type": "markdown",
   "id": "9340a213",
   "metadata": {},
   "source": [
    "# Approach"
   ]
  },
  {
   "cell_type": "markdown",
   "id": "adaa326e",
   "metadata": {},
   "source": [
    "### Problem Statement\n",
    "Build a ML model to predict recommended sale price for a used car based on past sales trends"
   ]
  },
  {
   "cell_type": "markdown",
   "id": "7358f893",
   "metadata": {},
   "source": [
    "### Model Evaluation\n",
    "\n",
    "The submitted model will be evaluated using Root Mean Squared Error (RMSE) on a hidden test set."
   ]
  },
  {
   "cell_type": "markdown",
   "id": "4d1eb490",
   "metadata": {},
   "source": [
    "### Business Context\n",
    "To be used by individuals to set selling price for their own cars while selling. This will enable them to make an informed decision and set a balanced price for the car, neither too high nor too low."
   ]
  },
  {
   "cell_type": "markdown",
   "id": "e6f288c5",
   "metadata": {},
   "source": [
    "### Model\n",
    "\n",
    "This is a regression task. Our task is to predict 'Price'.\n",
    "\n",
    "Plan:\n",
    "- Check missing values. Impute if required.\n",
    "- Handle categorical variables.\n",
    "- Scaling since we will start with Linear Regression as the Baseline.\n",
    "- Univariate and Bivariate Analysis\n",
    "- Check for outliers\n",
    "- Correlation Analysis\n",
    "- Feature Engineering\n",
    "- Feature Selection\n",
    "- Hyperparameter Tuning"
   ]
  },
  {
   "cell_type": "markdown",
   "id": "b11447a2",
   "metadata": {},
   "source": [
    "# Data Exploration"
   ]
  },
  {
   "cell_type": "markdown",
   "id": "6b10761d",
   "metadata": {},
   "source": [
    "## Loading training data"
   ]
  },
  {
   "cell_type": "code",
   "execution_count": 4,
   "id": "1b89afb1",
   "metadata": {},
   "outputs": [],
   "source": [
    "train_csv = pd.read_csv('data/train.csv')"
   ]
  },
  {
   "cell_type": "code",
   "execution_count": 5,
   "id": "8b77120c",
   "metadata": {},
   "outputs": [
    {
     "data": {
      "text/plain": [
       "(7478, 33)"
      ]
     },
     "execution_count": 5,
     "metadata": {},
     "output_type": "execute_result"
    }
   ],
   "source": [
    "train_csv.shape"
   ]
  },
  {
   "cell_type": "code",
   "execution_count": 6,
   "id": "7d6ca685",
   "metadata": {},
   "outputs": [
    {
     "data": {
      "text/html": [
       "<div>\n",
       "<style scoped>\n",
       "    .dataframe tbody tr th:only-of-type {\n",
       "        vertical-align: middle;\n",
       "    }\n",
       "\n",
       "    .dataframe tbody tr th {\n",
       "        vertical-align: top;\n",
       "    }\n",
       "\n",
       "    .dataframe thead th {\n",
       "        text-align: right;\n",
       "    }\n",
       "</style>\n",
       "<table border=\"1\" class=\"dataframe\">\n",
       "  <thead>\n",
       "    <tr style=\"text-align: right;\">\n",
       "      <th></th>\n",
       "      <th>Id</th>\n",
       "      <th>Scraped_Time</th>\n",
       "      <th>Condition</th>\n",
       "      <th>Car Make</th>\n",
       "      <th>Model</th>\n",
       "      <th>Trim</th>\n",
       "      <th>Year</th>\n",
       "      <th>Kilometers</th>\n",
       "      <th>Body Type</th>\n",
       "      <th>Number of Seats</th>\n",
       "      <th>...</th>\n",
       "      <th>Neighborhood</th>\n",
       "      <th>Category</th>\n",
       "      <th>Subcategory</th>\n",
       "      <th>Interior Options</th>\n",
       "      <th>Exterior Options</th>\n",
       "      <th>Technology Options</th>\n",
       "      <th>Description_Score</th>\n",
       "      <th>Battery Capacity</th>\n",
       "      <th>Battery Range</th>\n",
       "      <th>Price</th>\n",
       "    </tr>\n",
       "  </thead>\n",
       "  <tbody>\n",
       "    <tr>\n",
       "      <th>0</th>\n",
       "      <td>1</td>\n",
       "      <td>2025-02-07 01:58:30</td>\n",
       "      <td>Used</td>\n",
       "      <td>Toyota</td>\n",
       "      <td>Prius</td>\n",
       "      <td>Prius</td>\n",
       "      <td>2010</td>\n",
       "      <td>20,000 - 29,999</td>\n",
       "      <td>Sedan</td>\n",
       "      <td>5</td>\n",
       "      <td>...</td>\n",
       "      <td>Abu Alanda</td>\n",
       "      <td>Cars and Bikes</td>\n",
       "      <td>Cars For Sale</td>\n",
       "      <td>Airbags, Air Condition, Electric Seat Control,...</td>\n",
       "      <td>Panoramic Roof, Electrically Folding Mirrors, ...</td>\n",
       "      <td>Remote Start, Cruise Control, Radar, Navigatio...</td>\n",
       "      <td>فحص كامل</td>\n",
       "      <td>NaN</td>\n",
       "      <td>NaN</td>\n",
       "      <td>9350.0</td>\n",
       "    </tr>\n",
       "    <tr>\n",
       "      <th>1</th>\n",
       "      <td>2</td>\n",
       "      <td>2025-02-07 02:27:18</td>\n",
       "      <td>Used</td>\n",
       "      <td>Honda</td>\n",
       "      <td>Civic</td>\n",
       "      <td>Standard</td>\n",
       "      <td>2000</td>\n",
       "      <td>+200,000</td>\n",
       "      <td>Sedan</td>\n",
       "      <td>4</td>\n",
       "      <td>...</td>\n",
       "      <td>Abu Alanda</td>\n",
       "      <td>Cars and Bikes</td>\n",
       "      <td>Cars For Sale</td>\n",
       "      <td>Airbags, Center Lock, Air Condition, Alarm Sys...</td>\n",
       "      <td>Rim Wheels, Electric Mirrors</td>\n",
       "      <td>ABS Brakes</td>\n",
       "      <td>NaN</td>\n",
       "      <td>NaN</td>\n",
       "      <td>NaN</td>\n",
       "      <td>4200.0</td>\n",
       "    </tr>\n",
       "    <tr>\n",
       "      <th>2</th>\n",
       "      <td>3</td>\n",
       "      <td>2025-02-07 11:55:06</td>\n",
       "      <td>Used</td>\n",
       "      <td>Mitsubishi</td>\n",
       "      <td>Pajero</td>\n",
       "      <td>GLS</td>\n",
       "      <td>2015</td>\n",
       "      <td>110,000 - 119,999</td>\n",
       "      <td>SUV</td>\n",
       "      <td>7</td>\n",
       "      <td>...</td>\n",
       "      <td>Sports City</td>\n",
       "      <td>Cars and Bikes</td>\n",
       "      <td>Cars For Sale</td>\n",
       "      <td>Airbags, Steering Wheel Controls, Electric Win...</td>\n",
       "      <td>Spare Tyre, Rim Wheels, Electrically Folding M...</td>\n",
       "      <td>Media Screen, ABS Brakes, Rear Camera, Tractio...</td>\n",
       "      <td>NaN</td>\n",
       "      <td>NaN</td>\n",
       "      <td>NaN</td>\n",
       "      <td>8900.0</td>\n",
       "    </tr>\n",
       "    <tr>\n",
       "      <th>3</th>\n",
       "      <td>4</td>\n",
       "      <td>2025-02-07 13:25:57</td>\n",
       "      <td>Used</td>\n",
       "      <td>Nissan</td>\n",
       "      <td>Murano</td>\n",
       "      <td>SE</td>\n",
       "      <td>2005</td>\n",
       "      <td>180,000 - 189,999</td>\n",
       "      <td>Sedan</td>\n",
       "      <td>5</td>\n",
       "      <td>...</td>\n",
       "      <td>Jabal Al Amera Rahma</td>\n",
       "      <td>Cars and Bikes</td>\n",
       "      <td>Cars For Sale</td>\n",
       "      <td>Electric Seat Control, Air Condition, AUX / US...</td>\n",
       "      <td>Electrically Folding Mirrors, Electric Mirrors...</td>\n",
       "      <td>Traction Control, Cruise Control, Tyre Pressur...</td>\n",
       "      <td>فحص كامل</td>\n",
       "      <td>NaN</td>\n",
       "      <td>NaN</td>\n",
       "      <td>5500.0</td>\n",
       "    </tr>\n",
       "    <tr>\n",
       "      <th>4</th>\n",
       "      <td>5</td>\n",
       "      <td>2025-02-07 12:57:00</td>\n",
       "      <td>Used</td>\n",
       "      <td>Hyundai</td>\n",
       "      <td>H1</td>\n",
       "      <td>GL</td>\n",
       "      <td>2003</td>\n",
       "      <td>140,000 - 149,999</td>\n",
       "      <td>Bus - Van</td>\n",
       "      <td>5</td>\n",
       "      <td>...</td>\n",
       "      <td>Al Souq</td>\n",
       "      <td>Cars and Bikes</td>\n",
       "      <td>Cars For Sale</td>\n",
       "      <td>Steering Wheel Controls, Electric Windows, Cen...</td>\n",
       "      <td>Rear Sensors, Electric Mirrors, Daytime Runnin...</td>\n",
       "      <td>Bluetooth, Auto Lock System, Traction Control</td>\n",
       "      <td>NaN</td>\n",
       "      <td>NaN</td>\n",
       "      <td>NaN</td>\n",
       "      <td>5000.0</td>\n",
       "    </tr>\n",
       "  </tbody>\n",
       "</table>\n",
       "<p>5 rows × 33 columns</p>\n",
       "</div>"
      ],
      "text/plain": [
       "   Id         Scraped_Time Condition    Car Make   Model      Trim  Year  \\\n",
       "0   1  2025-02-07 01:58:30      Used      Toyota   Prius     Prius  2010   \n",
       "1   2  2025-02-07 02:27:18      Used       Honda   Civic  Standard  2000   \n",
       "2   3  2025-02-07 11:55:06      Used  Mitsubishi  Pajero       GLS  2015   \n",
       "3   4  2025-02-07 13:25:57      Used      Nissan  Murano        SE  2005   \n",
       "4   5  2025-02-07 12:57:00      Used     Hyundai      H1        GL  2003   \n",
       "\n",
       "          Kilometers  Body Type Number of Seats  ...          Neighborhood  \\\n",
       "0    20,000 - 29,999      Sedan               5  ...            Abu Alanda   \n",
       "1           +200,000      Sedan               4  ...            Abu Alanda   \n",
       "2  110,000 - 119,999        SUV               7  ...           Sports City   \n",
       "3  180,000 - 189,999      Sedan               5  ...  Jabal Al Amera Rahma   \n",
       "4  140,000 - 149,999  Bus - Van               5  ...               Al Souq   \n",
       "\n",
       "         Category    Subcategory  \\\n",
       "0  Cars and Bikes  Cars For Sale   \n",
       "1  Cars and Bikes  Cars For Sale   \n",
       "2  Cars and Bikes  Cars For Sale   \n",
       "3  Cars and Bikes  Cars For Sale   \n",
       "4  Cars and Bikes  Cars For Sale   \n",
       "\n",
       "                                    Interior Options  \\\n",
       "0  Airbags, Air Condition, Electric Seat Control,...   \n",
       "1  Airbags, Center Lock, Air Condition, Alarm Sys...   \n",
       "2  Airbags, Steering Wheel Controls, Electric Win...   \n",
       "3  Electric Seat Control, Air Condition, AUX / US...   \n",
       "4  Steering Wheel Controls, Electric Windows, Cen...   \n",
       "\n",
       "                                    Exterior Options  \\\n",
       "0  Panoramic Roof, Electrically Folding Mirrors, ...   \n",
       "1                       Rim Wheels, Electric Mirrors   \n",
       "2  Spare Tyre, Rim Wheels, Electrically Folding M...   \n",
       "3  Electrically Folding Mirrors, Electric Mirrors...   \n",
       "4  Rear Sensors, Electric Mirrors, Daytime Runnin...   \n",
       "\n",
       "                                  Technology Options Description_Score  \\\n",
       "0  Remote Start, Cruise Control, Radar, Navigatio...          فحص كامل   \n",
       "1                                         ABS Brakes               NaN   \n",
       "2  Media Screen, ABS Brakes, Rear Camera, Tractio...               NaN   \n",
       "3  Traction Control, Cruise Control, Tyre Pressur...          فحص كامل   \n",
       "4      Bluetooth, Auto Lock System, Traction Control               NaN   \n",
       "\n",
       "  Battery Capacity Battery Range   Price  \n",
       "0              NaN           NaN  9350.0  \n",
       "1              NaN           NaN  4200.0  \n",
       "2              NaN           NaN  8900.0  \n",
       "3              NaN           NaN  5500.0  \n",
       "4              NaN           NaN  5000.0  \n",
       "\n",
       "[5 rows x 33 columns]"
      ]
     },
     "execution_count": 6,
     "metadata": {},
     "output_type": "execute_result"
    }
   ],
   "source": [
    "train_csv.head()"
   ]
  },
  {
   "cell_type": "code",
   "execution_count": 7,
   "id": "1972229b",
   "metadata": {},
   "outputs": [],
   "source": [
    "updated_col_names = ['Id', 'Scraped_Time', 'Condition', 'Car_Make', 'Model', 'Trim', 'Year',\n",
    "       'Kilometers', 'Body_Type', 'Num_of_Seats', 'Fuel', 'Transmission',\n",
    "       'Engine_Size_cc', 'Exterior_Color', 'Interior_Color',\n",
    "       'Regional_Specs', 'Car_License', 'Insurance', 'Car_Customs',\n",
    "       'Body_Condition', 'Paint', 'Payment_Method', 'City', 'Neighborhood',\n",
    "       'Category', 'Subcategory', 'Interior_Options', 'Exterior_Options',\n",
    "       'Technology_Options', 'Description_Score', 'Battery_Capacity',\n",
    "       'Battery_Range', 'Price']"
   ]
  },
  {
   "cell_type": "code",
   "execution_count": 8,
   "id": "bf88ff93",
   "metadata": {},
   "outputs": [],
   "source": [
    "original_col_names = list(train_csv.columns)"
   ]
  },
  {
   "cell_type": "code",
   "execution_count": 9,
   "id": "6650914c",
   "metadata": {},
   "outputs": [
    {
     "name": "stdout",
     "output_type": "stream",
     "text": [
      "{'Id': 'id', 'Scraped_Time': 'scraped_time', 'Condition': 'condition', 'Car Make': 'car_make', 'Model': 'model', 'Trim': 'trim', 'Year': 'year', 'Kilometers': 'kilometers', 'Body Type': 'body_type', 'Number of Seats': 'num_of_seats', 'Fuel': 'fuel', 'Transmission': 'transmission', 'Engine Size (cc)': 'engine_size_cc', 'Exterior Color': 'exterior_color', 'Interior Color': 'interior_color', 'Regional Specs': 'regional_specs', 'Car License': 'car_license', 'Insurance': 'insurance', 'Car Customs': 'car_customs', 'Body Condition': 'body_condition', 'Paint': 'paint', 'Payment Method': 'payment_method', 'City': 'city', 'Neighborhood': 'neighborhood', 'Category': 'category', 'Subcategory': 'subcategory', 'Interior Options': 'interior_options', 'Exterior Options': 'exterior_options', 'Technology Options': 'technology_options', 'Description_Score': 'description_score', 'Battery Capacity': 'battery_capacity', 'Battery Range': 'battery_range', 'Price': 'price'}\n"
     ]
    }
   ],
   "source": [
    "cols_map = {}\n",
    "for old, new in zip(original_col_names, updated_col_names):\n",
    "    cols_map[old] = new.lower()\n",
    "print(cols_map)   "
   ]
  },
  {
   "cell_type": "code",
   "execution_count": 10,
   "id": "d34eecfa",
   "metadata": {},
   "outputs": [
    {
     "data": {
      "text/plain": [
       "Index(['id', 'scraped_time', 'condition', 'car_make', 'model', 'trim', 'year',\n",
       "       'kilometers', 'body_type', 'num_of_seats', 'fuel', 'transmission',\n",
       "       'engine_size_cc', 'exterior_color', 'interior_color', 'regional_specs',\n",
       "       'car_license', 'insurance', 'car_customs', 'body_condition', 'paint',\n",
       "       'payment_method', 'city', 'neighborhood', 'category', 'subcategory',\n",
       "       'interior_options', 'exterior_options', 'technology_options',\n",
       "       'description_score', 'battery_capacity', 'battery_range', 'price'],\n",
       "      dtype='object')"
      ]
     },
     "execution_count": 10,
     "metadata": {},
     "output_type": "execute_result"
    }
   ],
   "source": [
    "train_csv.rename(columns=cols_map, inplace=True)\n",
    "train_csv.columns"
   ]
  },
  {
   "cell_type": "markdown",
   "id": "64377d05",
   "metadata": {},
   "source": [
    "## Features Exploration"
   ]
  },
  {
   "cell_type": "code",
   "execution_count": 11,
   "id": "8c6a0805",
   "metadata": {},
   "outputs": [
    {
     "data": {
      "text/plain": [
       "Index(['id', 'scraped_time', 'condition', 'car_make', 'model', 'trim', 'year',\n",
       "       'kilometers', 'body_type', 'num_of_seats', 'fuel', 'transmission',\n",
       "       'engine_size_cc', 'exterior_color', 'interior_color', 'regional_specs',\n",
       "       'car_license', 'insurance', 'car_customs', 'body_condition', 'paint',\n",
       "       'payment_method', 'city', 'neighborhood', 'category', 'subcategory',\n",
       "       'interior_options', 'exterior_options', 'technology_options',\n",
       "       'description_score', 'battery_capacity', 'battery_range', 'price'],\n",
       "      dtype='object')"
      ]
     },
     "execution_count": 11,
     "metadata": {},
     "output_type": "execute_result"
    }
   ],
   "source": [
    "train_csv.columns"
   ]
  },
  {
   "cell_type": "code",
   "execution_count": 12,
   "id": "c4504d21",
   "metadata": {},
   "outputs": [
    {
     "data": {
      "text/plain": [
       "7478"
      ]
     },
     "execution_count": 12,
     "metadata": {},
     "output_type": "execute_result"
    }
   ],
   "source": [
    "len(train_csv)"
   ]
  },
  {
   "cell_type": "markdown",
   "id": "a2f2dd58",
   "metadata": {},
   "source": [
    "### scraped_time"
   ]
  },
  {
   "cell_type": "markdown",
   "id": "f7b3afe0",
   "metadata": {},
   "source": [
    "Changing the data type to datetime"
   ]
  },
  {
   "cell_type": "code",
   "execution_count": 13,
   "id": "b03b30fa",
   "metadata": {},
   "outputs": [],
   "source": [
    "train_csv['scraped_time'] = pd.to_datetime(train_csv['scraped_time'])"
   ]
  },
  {
   "cell_type": "code",
   "execution_count": 14,
   "id": "a0b1a0b1",
   "metadata": {},
   "outputs": [
    {
     "name": "stdout",
     "output_type": "stream",
     "text": [
      "datetime64[ns]\n"
     ]
    }
   ],
   "source": [
    "print(train_csv.scraped_time.dtype)"
   ]
  },
  {
   "cell_type": "code",
   "execution_count": 15,
   "id": "2f3a93c7",
   "metadata": {},
   "outputs": [
    {
     "data": {
      "text/plain": [
       "count                             7478\n",
       "mean     2025-02-07 07:29:41.780422656\n",
       "min                2025-02-06 20:16:48\n",
       "25%      2025-02-06 23:46:47.249999872\n",
       "50%                2025-02-07 02:24:16\n",
       "75%         2025-02-07 12:07:14.500000\n",
       "max                2025-02-10 00:11:05\n",
       "Name: scraped_time, dtype: object"
      ]
     },
     "execution_count": 15,
     "metadata": {},
     "output_type": "execute_result"
    }
   ],
   "source": [
    "train_csv.scraped_time.describe()"
   ]
  },
  {
   "cell_type": "markdown",
   "id": "85cc7f39",
   "metadata": {},
   "source": [
    "This feature provides the time when the data was scraped i.e. collected. The date range is Feb 6th to Feb 10th, 2025. This date will not have an impact on our target.\n",
    "\n",
    "If instead, we had the date of transaction, it might had some significance. We could have extracted day of the week, month, day of the month, etc to test for seasonality."
   ]
  },
  {
   "cell_type": "markdown",
   "id": "53951e6a",
   "metadata": {},
   "source": [
    "### condition"
   ]
  },
  {
   "cell_type": "code",
   "execution_count": 16,
   "id": "9183883b",
   "metadata": {},
   "outputs": [
    {
     "data": {
      "text/plain": [
       "count     7475\n",
       "unique       2\n",
       "top       Used\n",
       "freq      7104\n",
       "Name: condition, dtype: object"
      ]
     },
     "execution_count": 16,
     "metadata": {},
     "output_type": "execute_result"
    }
   ],
   "source": [
    "train_csv.condition.describe()"
   ]
  },
  {
   "cell_type": "code",
   "execution_count": 17,
   "id": "aa621bdc",
   "metadata": {},
   "outputs": [
    {
     "data": {
      "text/plain": [
       "condition\n",
       "Used    7104\n",
       "New      371\n",
       "Name: count, dtype: int64"
      ]
     },
     "execution_count": 17,
     "metadata": {},
     "output_type": "execute_result"
    }
   ],
   "source": [
    "train_csv.condition.value_counts()"
   ]
  },
  {
   "cell_type": "markdown",
   "id": "7764714f",
   "metadata": {},
   "source": [
    "3 rows have data missing.\n",
    "\n",
    "We can either use Label or One Hot Encoder for this feature."
   ]
  },
  {
   "cell_type": "code",
   "execution_count": 18,
   "id": "1ad3f310",
   "metadata": {},
   "outputs": [
    {
     "data": {
      "text/html": [
       "<div>\n",
       "<style scoped>\n",
       "    .dataframe tbody tr th:only-of-type {\n",
       "        vertical-align: middle;\n",
       "    }\n",
       "\n",
       "    .dataframe tbody tr th {\n",
       "        vertical-align: top;\n",
       "    }\n",
       "\n",
       "    .dataframe thead tr th {\n",
       "        text-align: left;\n",
       "    }\n",
       "\n",
       "    .dataframe thead tr:last-of-type th {\n",
       "        text-align: right;\n",
       "    }\n",
       "</style>\n",
       "<table border=\"1\" class=\"dataframe\">\n",
       "  <thead>\n",
       "    <tr>\n",
       "      <th></th>\n",
       "      <th colspan=\"2\" halign=\"left\">price</th>\n",
       "    </tr>\n",
       "    <tr>\n",
       "      <th></th>\n",
       "      <th>mean</th>\n",
       "      <th>median</th>\n",
       "    </tr>\n",
       "    <tr>\n",
       "      <th>condition</th>\n",
       "      <th></th>\n",
       "      <th></th>\n",
       "    </tr>\n",
       "  </thead>\n",
       "  <tbody>\n",
       "    <tr>\n",
       "      <th>New</th>\n",
       "      <td>20559.026954</td>\n",
       "      <td>18800.0</td>\n",
       "    </tr>\n",
       "    <tr>\n",
       "      <th>Used</th>\n",
       "      <td>11838.153012</td>\n",
       "      <td>8000.0</td>\n",
       "    </tr>\n",
       "  </tbody>\n",
       "</table>\n",
       "</div>"
      ],
      "text/plain": [
       "                  price         \n",
       "                   mean   median\n",
       "condition                       \n",
       "New        20559.026954  18800.0\n",
       "Used       11838.153012   8000.0"
      ]
     },
     "execution_count": 18,
     "metadata": {},
     "output_type": "execute_result"
    }
   ],
   "source": [
    "df = train_csv[['condition', 'price']]\n",
    "avg_price_by_condn = df.groupby('condition').agg({\n",
    "    'price': ['mean', 'median']})\n",
    "avg_price_by_condn"
   ]
  },
  {
   "cell_type": "markdown",
   "id": "e89e885a",
   "metadata": {},
   "source": [
    "As expected, the average or median Price for New cars is higher than Used cars, almost double in value."
   ]
  },
  {
   "cell_type": "markdown",
   "id": "dac6dc79",
   "metadata": {},
   "source": [
    "### car_make"
   ]
  },
  {
   "cell_type": "code",
   "execution_count": 19,
   "id": "b2a7a99e",
   "metadata": {},
   "outputs": [
    {
     "data": {
      "text/plain": [
       "count        7475\n",
       "unique         74\n",
       "top       Hyundai\n",
       "freq         1289\n",
       "Name: car_make, dtype: object"
      ]
     },
     "execution_count": 19,
     "metadata": {},
     "output_type": "execute_result"
    }
   ],
   "source": [
    "train_csv.car_make.describe()"
   ]
  },
  {
   "cell_type": "markdown",
   "id": "3c37f3ed",
   "metadata": {},
   "source": [
    "There are 74 unique car makers and 3 rows with missing values. \n",
    "\n",
    "Since there are many columns with missing values, I am thinking KNN imputer or a simple median imputer may help."
   ]
  },
  {
   "cell_type": "code",
   "execution_count": 20,
   "id": "5ae477c7",
   "metadata": {},
   "outputs": [
    {
     "data": {
      "text/html": [
       "<div>\n",
       "<style scoped>\n",
       "    .dataframe tbody tr th:only-of-type {\n",
       "        vertical-align: middle;\n",
       "    }\n",
       "\n",
       "    .dataframe tbody tr th {\n",
       "        vertical-align: top;\n",
       "    }\n",
       "\n",
       "    .dataframe thead th {\n",
       "        text-align: right;\n",
       "    }\n",
       "</style>\n",
       "<table border=\"1\" class=\"dataframe\">\n",
       "  <thead>\n",
       "    <tr style=\"text-align: right;\">\n",
       "      <th></th>\n",
       "      <th>car_make</th>\n",
       "      <th>count</th>\n",
       "    </tr>\n",
       "  </thead>\n",
       "  <tbody>\n",
       "    <tr>\n",
       "      <th>0</th>\n",
       "      <td>Hyundai</td>\n",
       "      <td>1289</td>\n",
       "    </tr>\n",
       "    <tr>\n",
       "      <th>1</th>\n",
       "      <td>Kia</td>\n",
       "      <td>965</td>\n",
       "    </tr>\n",
       "    <tr>\n",
       "      <th>2</th>\n",
       "      <td>Toyota</td>\n",
       "      <td>811</td>\n",
       "    </tr>\n",
       "    <tr>\n",
       "      <th>3</th>\n",
       "      <td>Mercedes Benz</td>\n",
       "      <td>518</td>\n",
       "    </tr>\n",
       "    <tr>\n",
       "      <th>4</th>\n",
       "      <td>Mitsubishi</td>\n",
       "      <td>428</td>\n",
       "    </tr>\n",
       "    <tr>\n",
       "      <th>5</th>\n",
       "      <td>Volkswagen</td>\n",
       "      <td>371</td>\n",
       "    </tr>\n",
       "    <tr>\n",
       "      <th>6</th>\n",
       "      <td>Ford</td>\n",
       "      <td>325</td>\n",
       "    </tr>\n",
       "    <tr>\n",
       "      <th>7</th>\n",
       "      <td>Nissan</td>\n",
       "      <td>281</td>\n",
       "    </tr>\n",
       "    <tr>\n",
       "      <th>8</th>\n",
       "      <td>Honda</td>\n",
       "      <td>270</td>\n",
       "    </tr>\n",
       "    <tr>\n",
       "      <th>9</th>\n",
       "      <td>Chevrolet</td>\n",
       "      <td>218</td>\n",
       "    </tr>\n",
       "    <tr>\n",
       "      <th>10</th>\n",
       "      <td>BMW</td>\n",
       "      <td>213</td>\n",
       "    </tr>\n",
       "    <tr>\n",
       "      <th>11</th>\n",
       "      <td>Tesla</td>\n",
       "      <td>201</td>\n",
       "    </tr>\n",
       "    <tr>\n",
       "      <th>12</th>\n",
       "      <td>BYD</td>\n",
       "      <td>124</td>\n",
       "    </tr>\n",
       "    <tr>\n",
       "      <th>13</th>\n",
       "      <td>Peugeot</td>\n",
       "      <td>115</td>\n",
       "    </tr>\n",
       "    <tr>\n",
       "      <th>14</th>\n",
       "      <td>Opel</td>\n",
       "      <td>114</td>\n",
       "    </tr>\n",
       "    <tr>\n",
       "      <th>15</th>\n",
       "      <td>Land Rover</td>\n",
       "      <td>113</td>\n",
       "    </tr>\n",
       "    <tr>\n",
       "      <th>16</th>\n",
       "      <td>Mazda</td>\n",
       "      <td>93</td>\n",
       "    </tr>\n",
       "    <tr>\n",
       "      <th>17</th>\n",
       "      <td>Lexus</td>\n",
       "      <td>90</td>\n",
       "    </tr>\n",
       "    <tr>\n",
       "      <th>18</th>\n",
       "      <td>Jeep</td>\n",
       "      <td>81</td>\n",
       "    </tr>\n",
       "    <tr>\n",
       "      <th>19</th>\n",
       "      <td>Audi</td>\n",
       "      <td>75</td>\n",
       "    </tr>\n",
       "  </tbody>\n",
       "</table>\n",
       "</div>"
      ],
      "text/plain": [
       "         car_make  count\n",
       "0         Hyundai   1289\n",
       "1             Kia    965\n",
       "2          Toyota    811\n",
       "3   Mercedes Benz    518\n",
       "4      Mitsubishi    428\n",
       "5      Volkswagen    371\n",
       "6            Ford    325\n",
       "7          Nissan    281\n",
       "8           Honda    270\n",
       "9       Chevrolet    218\n",
       "10            BMW    213\n",
       "11          Tesla    201\n",
       "12            BYD    124\n",
       "13        Peugeot    115\n",
       "14           Opel    114\n",
       "15     Land Rover    113\n",
       "16          Mazda     93\n",
       "17          Lexus     90\n",
       "18           Jeep     81\n",
       "19           Audi     75"
      ]
     },
     "execution_count": 20,
     "metadata": {},
     "output_type": "execute_result"
    }
   ],
   "source": [
    "top_20_car_makers = train_csv.car_make.value_counts().reset_index()[:20]\n",
    "top_20_car_makers"
   ]
  },
  {
   "cell_type": "code",
   "execution_count": 21,
   "id": "e9112cb8",
   "metadata": {},
   "outputs": [
    {
     "name": "stdout",
     "output_type": "stream",
     "text": [
      "Top 20 car makers contribute to 89.57 % of training data\n"
     ]
    }
   ],
   "source": [
    "print(f'Top 20 car makers contribute to {round(top_20_car_makers['count'].sum()*100/train_csv['car_make'].count(), 2)} % of training data')"
   ]
  },
  {
   "cell_type": "markdown",
   "id": "73f8bf6e",
   "metadata": {},
   "source": [
    "### model"
   ]
  },
  {
   "cell_type": "code",
   "execution_count": 22,
   "id": "f7fa5c36",
   "metadata": {},
   "outputs": [
    {
     "data": {
      "text/plain": [
       "count       7475\n",
       "unique       512\n",
       "top       Avante\n",
       "freq         325\n",
       "Name: model, dtype: object"
      ]
     },
     "execution_count": 22,
     "metadata": {},
     "output_type": "execute_result"
    }
   ],
   "source": [
    "train_csv['model'].describe()"
   ]
  },
  {
   "cell_type": "code",
   "execution_count": 23,
   "id": "ee84ffed",
   "metadata": {},
   "outputs": [
    {
     "data": {
      "text/plain": [
       "model\n",
       "Avante     325\n",
       "Lancer     226\n",
       "E-Class    207\n",
       "Accent     195\n",
       "Prius      187\n",
       "          ... \n",
       "MKX          1\n",
       "Montero      1\n",
       "MG 6         1\n",
       "Macan        1\n",
       "Charade      1\n",
       "Name: count, Length: 512, dtype: int64"
      ]
     },
     "execution_count": 23,
     "metadata": {},
     "output_type": "execute_result"
    }
   ],
   "source": [
    "train_csv['model'].value_counts()"
   ]
  },
  {
   "cell_type": "markdown",
   "id": "ebe8505c",
   "metadata": {},
   "source": [
    "Since there are so many models, some models will be rare. Also, the test data may have a model which is not present in the training data. To handle such cases, I am thinking we need to consider model by car_maker, and while encoding label less common models as unknown/other."
   ]
  },
  {
   "cell_type": "markdown",
   "id": "f01ce0a3",
   "metadata": {},
   "source": [
    "### trim"
   ]
  },
  {
   "cell_type": "code",
   "execution_count": 24,
   "id": "b1a3a478",
   "metadata": {},
   "outputs": [
    {
     "data": {
      "text/plain": [
       "count         6464\n",
       "unique         546\n",
       "top       Standard\n",
       "freq          1330\n",
       "Name: trim, dtype: object"
      ]
     },
     "execution_count": 24,
     "metadata": {},
     "output_type": "execute_result"
    }
   ],
   "source": [
    "train_csv['trim'].describe()"
   ]
  },
  {
   "cell_type": "markdown",
   "id": "fb412333",
   "metadata": {},
   "source": [
    "This feature has a lot of missing values."
   ]
  },
  {
   "cell_type": "code",
   "execution_count": 25,
   "id": "8b466b36",
   "metadata": {},
   "outputs": [
    {
     "data": {
      "text/plain": [
       "trim\n",
       "Standard                          1330\n",
       "Limited                            349\n",
       "SE                                 238\n",
       "EX                                 210\n",
       "E 200                              163\n",
       "                                  ... \n",
       "i3 eDrive40L Yaoye Sports Suit       1\n",
       "WRX                                  1\n",
       "Latitude LUX                         1\n",
       "SV2                                  1\n",
       "PHEV                                 1\n",
       "Name: count, Length: 546, dtype: int64"
      ]
     },
     "execution_count": 25,
     "metadata": {},
     "output_type": "execute_result"
    }
   ],
   "source": [
    "train_csv['trim'].value_counts()"
   ]
  },
  {
   "cell_type": "code",
   "execution_count": 26,
   "id": "1addc7c0",
   "metadata": {},
   "outputs": [
    {
     "data": {
      "text/html": [
       "<div>\n",
       "<style scoped>\n",
       "    .dataframe tbody tr th:only-of-type {\n",
       "        vertical-align: middle;\n",
       "    }\n",
       "\n",
       "    .dataframe tbody tr th {\n",
       "        vertical-align: top;\n",
       "    }\n",
       "\n",
       "    .dataframe thead th {\n",
       "        text-align: right;\n",
       "    }\n",
       "</style>\n",
       "<table border=\"1\" class=\"dataframe\">\n",
       "  <thead>\n",
       "    <tr style=\"text-align: right;\">\n",
       "      <th></th>\n",
       "      <th>trim</th>\n",
       "      <th>count</th>\n",
       "    </tr>\n",
       "  </thead>\n",
       "  <tbody>\n",
       "    <tr>\n",
       "      <th>0</th>\n",
       "      <td>Standard</td>\n",
       "      <td>1330</td>\n",
       "    </tr>\n",
       "    <tr>\n",
       "      <th>1</th>\n",
       "      <td>Limited</td>\n",
       "      <td>349</td>\n",
       "    </tr>\n",
       "    <tr>\n",
       "      <th>2</th>\n",
       "      <td>SE</td>\n",
       "      <td>238</td>\n",
       "    </tr>\n",
       "    <tr>\n",
       "      <th>3</th>\n",
       "      <td>EX</td>\n",
       "      <td>210</td>\n",
       "    </tr>\n",
       "    <tr>\n",
       "      <th>4</th>\n",
       "      <td>E 200</td>\n",
       "      <td>163</td>\n",
       "    </tr>\n",
       "    <tr>\n",
       "      <th>5</th>\n",
       "      <td>GL</td>\n",
       "      <td>130</td>\n",
       "    </tr>\n",
       "    <tr>\n",
       "      <th>6</th>\n",
       "      <td>Prius</td>\n",
       "      <td>121</td>\n",
       "    </tr>\n",
       "    <tr>\n",
       "      <th>7</th>\n",
       "      <td>GLX</td>\n",
       "      <td>117</td>\n",
       "    </tr>\n",
       "    <tr>\n",
       "      <th>8</th>\n",
       "      <td>GLS</td>\n",
       "      <td>113</td>\n",
       "    </tr>\n",
       "    <tr>\n",
       "      <th>9</th>\n",
       "      <td>S</td>\n",
       "      <td>109</td>\n",
       "    </tr>\n",
       "  </tbody>\n",
       "</table>\n",
       "</div>"
      ],
      "text/plain": [
       "       trim  count\n",
       "0  Standard   1330\n",
       "1   Limited    349\n",
       "2        SE    238\n",
       "3        EX    210\n",
       "4     E 200    163\n",
       "5        GL    130\n",
       "6     Prius    121\n",
       "7       GLX    117\n",
       "8       GLS    113\n",
       "9         S    109"
      ]
     },
     "execution_count": 26,
     "metadata": {},
     "output_type": "execute_result"
    }
   ],
   "source": [
    "train_csv['trim'].value_counts().reset_index()[:10]"
   ]
  },
  {
   "cell_type": "markdown",
   "id": "7746c2e2",
   "metadata": {},
   "source": [
    "### year"
   ]
  },
  {
   "cell_type": "code",
   "execution_count": 27,
   "id": "f17b8c44",
   "metadata": {},
   "outputs": [
    {
     "data": {
      "text/plain": [
       "count     7474\n",
       "unique      54\n",
       "top       2022\n",
       "freq       459\n",
       "Name: year, dtype: object"
      ]
     },
     "execution_count": 27,
     "metadata": {},
     "output_type": "execute_result"
    }
   ],
   "source": [
    "train_csv['year'].describe()"
   ]
  },
  {
   "cell_type": "code",
   "execution_count": 28,
   "id": "1de30771",
   "metadata": {},
   "outputs": [],
   "source": [
    "train_csv['year'] = pd.to_numeric(train_csv['year'], errors='coerce')"
   ]
  },
  {
   "cell_type": "code",
   "execution_count": 29,
   "id": "93a19f97",
   "metadata": {},
   "outputs": [
    {
     "name": "stdout",
     "output_type": "stream",
     "text": [
      "<class 'pandas.core.series.Series'>\n",
      "RangeIndex: 7478 entries, 0 to 7477\n",
      "Series name: year\n",
      "Non-Null Count  Dtype  \n",
      "--------------  -----  \n",
      "7470 non-null   float64\n",
      "dtypes: float64(1)\n",
      "memory usage: 58.6 KB\n"
     ]
    }
   ],
   "source": [
    "train_csv['year'].info()"
   ]
  },
  {
   "cell_type": "markdown",
   "id": "532f1970",
   "metadata": {},
   "source": [
    "There are 8 rows with missing values.\n",
    "\n",
    "Instead of keeping year as category, converting it to numeric would help the model to learn how price is affected by manufacturing year i.e. whether a car is old or more recent and extrapolate."
   ]
  },
  {
   "cell_type": "code",
   "execution_count": 30,
   "id": "2356abc2",
   "metadata": {},
   "outputs": [
    {
     "data": {
      "image/png": "[encoded data removed]",
      "text/plain": [
       "<Figure size 600x400 with 1 Axes>"
      ]
     },
     "metadata": {},
     "output_type": "display_data"
    }
   ],
   "source": [
    "fig = plt.figure(figsize=(6,4))\n",
    "plt.scatter(train_csv['year'], train_csv['price'], c='#2D5A3CFF', s=5)\n",
    "plt.xlabel('Year')\n",
    "plt.ylabel('Price')\n",
    "plt.style.use('ggplot')"
   ]
  },
  {
   "cell_type": "markdown",
   "id": "37c0d1e2",
   "metadata": {},
   "source": [
    "This plot clearly shows there are two outliers with price ~1,000,000.\n",
    "Identifying and removing them from this plot."
   ]
  },
  {
   "cell_type": "code",
   "execution_count": 31,
   "id": "40524ead",
   "metadata": {},
   "outputs": [
    {
     "data": {
      "text/html": [
       "<div>\n",
       "<style scoped>\n",
       "    .dataframe tbody tr th:only-of-type {\n",
       "        vertical-align: middle;\n",
       "    }\n",
       "\n",
       "    .dataframe tbody tr th {\n",
       "        vertical-align: top;\n",
       "    }\n",
       "\n",
       "    .dataframe thead th {\n",
       "        text-align: right;\n",
       "    }\n",
       "</style>\n",
       "<table border=\"1\" class=\"dataframe\">\n",
       "  <thead>\n",
       "    <tr style=\"text-align: right;\">\n",
       "      <th></th>\n",
       "      <th>price</th>\n",
       "    </tr>\n",
       "  </thead>\n",
       "  <tbody>\n",
       "    <tr>\n",
       "      <th>508</th>\n",
       "      <td>1000000.0</td>\n",
       "    </tr>\n",
       "    <tr>\n",
       "      <th>5789</th>\n",
       "      <td>999999.0</td>\n",
       "    </tr>\n",
       "    <tr>\n",
       "      <th>3064</th>\n",
       "      <td>207000.0</td>\n",
       "    </tr>\n",
       "    <tr>\n",
       "      <th>1400</th>\n",
       "      <td>173000.0</td>\n",
       "    </tr>\n",
       "    <tr>\n",
       "      <th>2436</th>\n",
       "      <td>138900.0</td>\n",
       "    </tr>\n",
       "  </tbody>\n",
       "</table>\n",
       "</div>"
      ],
      "text/plain": [
       "          price\n",
       "508   1000000.0\n",
       "5789   999999.0\n",
       "3064   207000.0\n",
       "1400   173000.0\n",
       "2436   138900.0"
      ]
     },
     "execution_count": 31,
     "metadata": {},
     "output_type": "execute_result"
    }
   ],
   "source": [
    "train_csv[['price']].sort_values(by='price', ascending=False)[:5]"
   ]
  },
  {
   "cell_type": "markdown",
   "id": "ca2fc0ce",
   "metadata": {},
   "source": [
    "Removing the outliers with index 508 and 5789"
   ]
  },
  {
   "cell_type": "code",
   "execution_count": 32,
   "id": "dc841ccf",
   "metadata": {},
   "outputs": [
    {
     "data": {
      "text/plain": [
       "(7476, 2)"
      ]
     },
     "execution_count": 32,
     "metadata": {},
     "output_type": "execute_result"
    }
   ],
   "source": [
    "df2 = train_csv[['year', 'price']].drop(index=[508, 5789], axis=0)\n",
    "df2.shape"
   ]
  },
  {
   "cell_type": "code",
   "execution_count": 33,
   "id": "781cee3f",
   "metadata": {},
   "outputs": [
    {
     "data": {
      "image/png": "[encoded data removed]",
      "text/plain": [
       "<Figure size 600x400 with 1 Axes>"
      ]
     },
     "metadata": {},
     "output_type": "display_data"
    }
   ],
   "source": [
    "fig = plt.figure(figsize=(6,4))\n",
    "plt.scatter(df2['year'], df2['price'], c='#2D5A3CFF', s=5)\n",
    "plt.xlabel('Year')\n",
    "plt.ylabel('Price')\n",
    "plt.title('Without outliers')\n",
    "plt.style.use('ggplot')"
   ]
  },
  {
   "cell_type": "markdown",
   "id": "19fa33e8",
   "metadata": {},
   "source": [
    "The plot shows that there is some positive correlation between year and price."
   ]
  },
  {
   "cell_type": "markdown",
   "id": "1bffed02",
   "metadata": {},
   "source": [
    "### kilometers"
   ]
  },
  {
   "cell_type": "code",
   "execution_count": 34,
   "id": "51cf3f88",
   "metadata": {},
   "outputs": [
    {
     "data": {
      "text/plain": [
       "count         7471\n",
       "unique          23\n",
       "top       +200,000\n",
       "freq          1349\n",
       "Name: kilometers, dtype: object"
      ]
     },
     "execution_count": 34,
     "metadata": {},
     "output_type": "execute_result"
    }
   ],
   "source": [
    "train_csv['kilometers'].describe()"
   ]
  },
  {
   "cell_type": "code",
   "execution_count": 35,
   "id": "c3dc914f",
   "metadata": {},
   "outputs": [],
   "source": [
    "# train_csv['kilometers'].value_counts().reset_index().sort_values(by='kilometers')"
   ]
  },
  {
   "cell_type": "markdown",
   "id": "d95c2c1e",
   "metadata": {},
   "source": [
    "There can be two approaches:\n",
    "1. Treat as categorical and apply One Hot Encoding\n",
    "2. Take the mid value for each bucket and convert to int"
   ]
  },
  {
   "cell_type": "markdown",
   "id": "6e25f1cc",
   "metadata": {},
   "source": [
    "Validate the kilometers values for New Cars - should be low"
   ]
  },
  {
   "cell_type": "code",
   "execution_count": 36,
   "id": "4fecd47f",
   "metadata": {},
   "outputs": [
    {
     "data": {
      "text/html": [
       "<div>\n",
       "<style scoped>\n",
       "    .dataframe tbody tr th:only-of-type {\n",
       "        vertical-align: middle;\n",
       "    }\n",
       "\n",
       "    .dataframe tbody tr th {\n",
       "        vertical-align: top;\n",
       "    }\n",
       "\n",
       "    .dataframe thead th {\n",
       "        text-align: right;\n",
       "    }\n",
       "</style>\n",
       "<table border=\"1\" class=\"dataframe\">\n",
       "  <thead>\n",
       "    <tr style=\"text-align: right;\">\n",
       "      <th></th>\n",
       "      <th></th>\n",
       "      <th>kilometers</th>\n",
       "    </tr>\n",
       "    <tr>\n",
       "      <th>condition</th>\n",
       "      <th>kilometers</th>\n",
       "      <th></th>\n",
       "    </tr>\n",
       "  </thead>\n",
       "  <tbody>\n",
       "    <tr>\n",
       "      <th rowspan=\"2\" valign=\"top\">New</th>\n",
       "      <th>0</th>\n",
       "      <td>348</td>\n",
       "    </tr>\n",
       "    <tr>\n",
       "      <th>1 - 999</th>\n",
       "      <td>23</td>\n",
       "    </tr>\n",
       "    <tr>\n",
       "      <th rowspan=\"21\" valign=\"top\">Used</th>\n",
       "      <th>+200,000</th>\n",
       "      <td>1349</td>\n",
       "    </tr>\n",
       "    <tr>\n",
       "      <th>1,000 - 9,999</th>\n",
       "      <td>201</td>\n",
       "    </tr>\n",
       "    <tr>\n",
       "      <th>10,000 - 19,999</th>\n",
       "      <td>412</td>\n",
       "    </tr>\n",
       "    <tr>\n",
       "      <th>100,000 - 109,999</th>\n",
       "      <td>537</td>\n",
       "    </tr>\n",
       "    <tr>\n",
       "      <th>110,000 - 119,999</th>\n",
       "      <td>307</td>\n",
       "    </tr>\n",
       "    <tr>\n",
       "      <th>120,000 - 129,999</th>\n",
       "      <td>273</td>\n",
       "    </tr>\n",
       "    <tr>\n",
       "      <th>130,000 - 139,999</th>\n",
       "      <td>259</td>\n",
       "    </tr>\n",
       "    <tr>\n",
       "      <th>140,000 - 149,999</th>\n",
       "      <td>249</td>\n",
       "    </tr>\n",
       "    <tr>\n",
       "      <th>150,000 - 159,999</th>\n",
       "      <td>293</td>\n",
       "    </tr>\n",
       "    <tr>\n",
       "      <th>160,000 - 169,999</th>\n",
       "      <td>226</td>\n",
       "    </tr>\n",
       "    <tr>\n",
       "      <th>170,000 - 179,999</th>\n",
       "      <td>210</td>\n",
       "    </tr>\n",
       "    <tr>\n",
       "      <th>180,000 - 189,999</th>\n",
       "      <td>180</td>\n",
       "    </tr>\n",
       "    <tr>\n",
       "      <th>190,000 - 199,999</th>\n",
       "      <td>322</td>\n",
       "    </tr>\n",
       "    <tr>\n",
       "      <th>20,000 - 29,999</th>\n",
       "      <td>358</td>\n",
       "    </tr>\n",
       "    <tr>\n",
       "      <th>30,000 - 39,999</th>\n",
       "      <td>283</td>\n",
       "    </tr>\n",
       "    <tr>\n",
       "      <th>40,000 - 49,999</th>\n",
       "      <td>295</td>\n",
       "    </tr>\n",
       "    <tr>\n",
       "      <th>50,000 - 59,999</th>\n",
       "      <td>241</td>\n",
       "    </tr>\n",
       "    <tr>\n",
       "      <th>60,000 - 69,999</th>\n",
       "      <td>220</td>\n",
       "    </tr>\n",
       "    <tr>\n",
       "      <th>70,000 - 79,999</th>\n",
       "      <td>259</td>\n",
       "    </tr>\n",
       "    <tr>\n",
       "      <th>80,000 - 89,999</th>\n",
       "      <td>286</td>\n",
       "    </tr>\n",
       "    <tr>\n",
       "      <th>90,000 - 99,999</th>\n",
       "      <td>340</td>\n",
       "    </tr>\n",
       "  </tbody>\n",
       "</table>\n",
       "</div>"
      ],
      "text/plain": [
       "                             kilometers\n",
       "condition kilometers                   \n",
       "New       0                         348\n",
       "          1 - 999                    23\n",
       "Used      +200,000                 1349\n",
       "          1,000 - 9,999             201\n",
       "          10,000 - 19,999           412\n",
       "          100,000 - 109,999         537\n",
       "          110,000 - 119,999         307\n",
       "          120,000 - 129,999         273\n",
       "          130,000 - 139,999         259\n",
       "          140,000 - 149,999         249\n",
       "          150,000 - 159,999         293\n",
       "          160,000 - 169,999         226\n",
       "          170,000 - 179,999         210\n",
       "          180,000 - 189,999         180\n",
       "          190,000 - 199,999         322\n",
       "          20,000 - 29,999           358\n",
       "          30,000 - 39,999           283\n",
       "          40,000 - 49,999           295\n",
       "          50,000 - 59,999           241\n",
       "          60,000 - 69,999           220\n",
       "          70,000 - 79,999           259\n",
       "          80,000 - 89,999           286\n",
       "          90,000 - 99,999           340"
      ]
     },
     "execution_count": 36,
     "metadata": {},
     "output_type": "execute_result"
    }
   ],
   "source": [
    "df = train_csv[['condition', 'kilometers']].groupby(['condition', 'kilometers']).agg({\n",
    "    'kilometers': 'count'\n",
    "})\n",
    "df"
   ]
  },
  {
   "cell_type": "markdown",
   "id": "9dfd0685",
   "metadata": {},
   "source": [
    "### body_type"
   ]
  },
  {
   "cell_type": "code",
   "execution_count": 37,
   "id": "dbb7da8f",
   "metadata": {},
   "outputs": [
    {
     "data": {
      "text/plain": [
       "count      7475\n",
       "unique        7\n",
       "top       Sedan\n",
       "freq       3994\n",
       "Name: body_type, dtype: object"
      ]
     },
     "execution_count": 37,
     "metadata": {},
     "output_type": "execute_result"
    }
   ],
   "source": [
    "train_csv['body_type'].describe()"
   ]
  },
  {
   "cell_type": "code",
   "execution_count": 38,
   "id": "8dc7a450",
   "metadata": {},
   "outputs": [
    {
     "data": {
      "text/plain": [
       "body_type\n",
       "Sedan          3994\n",
       "SUV            1788\n",
       "HatchBack       760\n",
       "PickUp          430\n",
       "Bus - Van       343\n",
       "Coupe           118\n",
       "Convertible      42\n",
       "Name: count, dtype: int64"
      ]
     },
     "execution_count": 38,
     "metadata": {},
     "output_type": "execute_result"
    }
   ],
   "source": [
    "train_csv['body_type'].value_counts()"
   ]
  },
  {
   "cell_type": "markdown",
   "id": "9dadeb8e",
   "metadata": {},
   "source": [
    "### num_of_seats"
   ]
  },
  {
   "cell_type": "code",
   "execution_count": 39,
   "id": "7e5934b0",
   "metadata": {},
   "outputs": [
    {
     "data": {
      "text/plain": [
       "num_of_seats\n",
       "5              5839\n",
       "4               929\n",
       "7               368\n",
       "2               151\n",
       "6                75\n",
       "3                36\n",
       "8                30\n",
       "More than 9      28\n",
       "9                16\n",
       "Name: count, dtype: int64"
      ]
     },
     "execution_count": 39,
     "metadata": {},
     "output_type": "execute_result"
    }
   ],
   "source": [
    "train_csv['num_of_seats'].value_counts()"
   ]
  },
  {
   "cell_type": "markdown",
   "id": "64017ea9",
   "metadata": {},
   "source": [
    "This feature can be converted to numeric. We can combine 'More than 9' with 9."
   ]
  },
  {
   "cell_type": "markdown",
   "id": "8aa2e6a3",
   "metadata": {},
   "source": [
    "### fuel"
   ]
  },
  {
   "cell_type": "code",
   "execution_count": 40,
   "id": "3fc52ce2",
   "metadata": {},
   "outputs": [
    {
     "data": {
      "text/plain": [
       "count         7471\n",
       "unique           6\n",
       "top       Gasoline\n",
       "freq          4070\n",
       "Name: fuel, dtype: object"
      ]
     },
     "execution_count": 40,
     "metadata": {},
     "output_type": "execute_result"
    }
   ],
   "source": [
    "train_csv['fuel'].describe()"
   ]
  },
  {
   "cell_type": "code",
   "execution_count": 41,
   "id": "696fc5f5",
   "metadata": {},
   "outputs": [
    {
     "data": {
      "text/plain": [
       "fuel\n",
       "Gasoline            4070\n",
       "Hybrid              1284\n",
       "Electric            1233\n",
       "Diesel               590\n",
       "Plug-in - Hybrid     165\n",
       "Mild Hybrid          129\n",
       "Name: count, dtype: int64"
      ]
     },
     "execution_count": 41,
     "metadata": {},
     "output_type": "execute_result"
    }
   ],
   "source": [
    "train_csv['fuel'].value_counts()"
   ]
  },
  {
   "cell_type": "markdown",
   "id": "d2b776a6",
   "metadata": {},
   "source": [
    "### No. of Unique values by features"
   ]
  },
  {
   "cell_type": "code",
   "execution_count": 42,
   "id": "f1f06d5f",
   "metadata": {},
   "outputs": [
    {
     "data": {
      "text/plain": [
       "Index(['id', 'scraped_time', 'condition', 'car_make', 'model', 'trim', 'year',\n",
       "       'kilometers', 'body_type', 'num_of_seats', 'fuel', 'transmission',\n",
       "       'engine_size_cc', 'exterior_color', 'interior_color', 'regional_specs',\n",
       "       'car_license', 'insurance', 'car_customs', 'body_condition', 'paint',\n",
       "       'payment_method', 'city', 'neighborhood', 'category', 'subcategory',\n",
       "       'interior_options', 'exterior_options', 'technology_options',\n",
       "       'description_score', 'battery_capacity', 'battery_range', 'price'],\n",
       "      dtype='object')"
      ]
     },
     "execution_count": 42,
     "metadata": {},
     "output_type": "execute_result"
    }
   ],
   "source": [
    "train_csv.columns"
   ]
  },
  {
   "cell_type": "code",
   "execution_count": 43,
   "id": "58c97d2f",
   "metadata": {},
   "outputs": [],
   "source": [
    "X_features = ['condition', 'car_make', 'model', 'trim', 'year',\n",
    "       'kilometers', 'body_type', 'num_of_seats', 'fuel', 'transmission',\n",
    "       'engine_size_cc', 'exterior_color', 'interior_color', 'regional_specs',\n",
    "       'car_license', 'insurance', 'car_customs', 'body_condition', 'paint',\n",
    "       'payment_method', 'city', 'neighborhood', 'category', 'subcategory',\n",
    "       'interior_options', 'exterior_options', 'technology_options',\n",
    "       'description_score', 'battery_capacity', 'battery_range']\n",
    "nunique_feature = {'Feature' : [],\n",
    "                   'Unique_Count' : []}\n",
    "for feature in X_features:\n",
    "    nunique_feature['Feature'].append(feature)\n",
    "    nunique_feature['Unique_Count'].append(len(train_csv[feature].unique()))"
   ]
  },
  {
   "cell_type": "code",
   "execution_count": 44,
   "id": "3ef3711b",
   "metadata": {},
   "outputs": [],
   "source": [
    "nunique_feature_df = pd.DataFrame(nunique_feature)"
   ]
  },
  {
   "cell_type": "code",
   "execution_count": 45,
   "id": "f9a01708",
   "metadata": {},
   "outputs": [
    {
     "data": {
      "text/html": [
       "<div>\n",
       "<style scoped>\n",
       "    .dataframe tbody tr th:only-of-type {\n",
       "        vertical-align: middle;\n",
       "    }\n",
       "\n",
       "    .dataframe tbody tr th {\n",
       "        vertical-align: top;\n",
       "    }\n",
       "\n",
       "    .dataframe thead th {\n",
       "        text-align: right;\n",
       "    }\n",
       "</style>\n",
       "<table border=\"1\" class=\"dataframe\">\n",
       "  <thead>\n",
       "    <tr style=\"text-align: right;\">\n",
       "      <th></th>\n",
       "      <th>Feature</th>\n",
       "      <th>Unique_Count</th>\n",
       "    </tr>\n",
       "  </thead>\n",
       "  <tbody>\n",
       "    <tr>\n",
       "      <th>26</th>\n",
       "      <td>technology_options</td>\n",
       "      <td>4272</td>\n",
       "    </tr>\n",
       "    <tr>\n",
       "      <th>25</th>\n",
       "      <td>exterior_options</td>\n",
       "      <td>3940</td>\n",
       "    </tr>\n",
       "    <tr>\n",
       "      <th>24</th>\n",
       "      <td>interior_options</td>\n",
       "      <td>3251</td>\n",
       "    </tr>\n",
       "    <tr>\n",
       "      <th>3</th>\n",
       "      <td>trim</td>\n",
       "      <td>547</td>\n",
       "    </tr>\n",
       "    <tr>\n",
       "      <th>2</th>\n",
       "      <td>model</td>\n",
       "      <td>513</td>\n",
       "    </tr>\n",
       "    <tr>\n",
       "      <th>21</th>\n",
       "      <td>neighborhood</td>\n",
       "      <td>474</td>\n",
       "    </tr>\n",
       "    <tr>\n",
       "      <th>1</th>\n",
       "      <td>car_make</td>\n",
       "      <td>75</td>\n",
       "    </tr>\n",
       "    <tr>\n",
       "      <th>4</th>\n",
       "      <td>year</td>\n",
       "      <td>54</td>\n",
       "    </tr>\n",
       "    <tr>\n",
       "      <th>27</th>\n",
       "      <td>description_score</td>\n",
       "      <td>32</td>\n",
       "    </tr>\n",
       "    <tr>\n",
       "      <th>12</th>\n",
       "      <td>interior_color</td>\n",
       "      <td>24</td>\n",
       "    </tr>\n",
       "    <tr>\n",
       "      <th>11</th>\n",
       "      <td>exterior_color</td>\n",
       "      <td>24</td>\n",
       "    </tr>\n",
       "    <tr>\n",
       "      <th>5</th>\n",
       "      <td>kilometers</td>\n",
       "      <td>24</td>\n",
       "    </tr>\n",
       "    <tr>\n",
       "      <th>20</th>\n",
       "      <td>city</td>\n",
       "      <td>14</td>\n",
       "    </tr>\n",
       "    <tr>\n",
       "      <th>7</th>\n",
       "      <td>num_of_seats</td>\n",
       "      <td>10</td>\n",
       "    </tr>\n",
       "    <tr>\n",
       "      <th>10</th>\n",
       "      <td>engine_size_cc</td>\n",
       "      <td>9</td>\n",
       "    </tr>\n",
       "    <tr>\n",
       "      <th>6</th>\n",
       "      <td>body_type</td>\n",
       "      <td>8</td>\n",
       "    </tr>\n",
       "    <tr>\n",
       "      <th>13</th>\n",
       "      <td>regional_specs</td>\n",
       "      <td>7</td>\n",
       "    </tr>\n",
       "    <tr>\n",
       "      <th>8</th>\n",
       "      <td>fuel</td>\n",
       "      <td>7</td>\n",
       "    </tr>\n",
       "    <tr>\n",
       "      <th>29</th>\n",
       "      <td>battery_range</td>\n",
       "      <td>7</td>\n",
       "    </tr>\n",
       "    <tr>\n",
       "      <th>28</th>\n",
       "      <td>battery_capacity</td>\n",
       "      <td>6</td>\n",
       "    </tr>\n",
       "    <tr>\n",
       "      <th>17</th>\n",
       "      <td>body_condition</td>\n",
       "      <td>6</td>\n",
       "    </tr>\n",
       "    <tr>\n",
       "      <th>18</th>\n",
       "      <td>paint</td>\n",
       "      <td>5</td>\n",
       "    </tr>\n",
       "    <tr>\n",
       "      <th>15</th>\n",
       "      <td>insurance</td>\n",
       "      <td>4</td>\n",
       "    </tr>\n",
       "    <tr>\n",
       "      <th>19</th>\n",
       "      <td>payment_method</td>\n",
       "      <td>4</td>\n",
       "    </tr>\n",
       "    <tr>\n",
       "      <th>16</th>\n",
       "      <td>car_customs</td>\n",
       "      <td>3</td>\n",
       "    </tr>\n",
       "    <tr>\n",
       "      <th>14</th>\n",
       "      <td>car_license</td>\n",
       "      <td>3</td>\n",
       "    </tr>\n",
       "    <tr>\n",
       "      <th>9</th>\n",
       "      <td>transmission</td>\n",
       "      <td>3</td>\n",
       "    </tr>\n",
       "    <tr>\n",
       "      <th>0</th>\n",
       "      <td>condition</td>\n",
       "      <td>3</td>\n",
       "    </tr>\n",
       "    <tr>\n",
       "      <th>23</th>\n",
       "      <td>subcategory</td>\n",
       "      <td>1</td>\n",
       "    </tr>\n",
       "    <tr>\n",
       "      <th>22</th>\n",
       "      <td>category</td>\n",
       "      <td>1</td>\n",
       "    </tr>\n",
       "  </tbody>\n",
       "</table>\n",
       "</div>"
      ],
      "text/plain": [
       "               Feature  Unique_Count\n",
       "26  technology_options          4272\n",
       "25    exterior_options          3940\n",
       "24    interior_options          3251\n",
       "3                 trim           547\n",
       "2                model           513\n",
       "21        neighborhood           474\n",
       "1             car_make            75\n",
       "4                 year            54\n",
       "27   description_score            32\n",
       "12      interior_color            24\n",
       "11      exterior_color            24\n",
       "5           kilometers            24\n",
       "20                city            14\n",
       "7         num_of_seats            10\n",
       "10      engine_size_cc             9\n",
       "6            body_type             8\n",
       "13      regional_specs             7\n",
       "8                 fuel             7\n",
       "29       battery_range             7\n",
       "28    battery_capacity             6\n",
       "17      body_condition             6\n",
       "18               paint             5\n",
       "15           insurance             4\n",
       "19      payment_method             4\n",
       "16         car_customs             3\n",
       "14         car_license             3\n",
       "9         transmission             3\n",
       "0            condition             3\n",
       "23         subcategory             1\n",
       "22            category             1"
      ]
     },
     "execution_count": 45,
     "metadata": {},
     "output_type": "execute_result"
    }
   ],
   "source": [
    "nunique_feature_df.sort_values(by='Unique_Count', ascending=False, inplace=True)\n",
    "nunique_feature_df"
   ]
  },
  {
   "cell_type": "markdown",
   "id": "94560c34",
   "metadata": {},
   "source": [
    "We need to take a detailed look at technology_options, exterior_options, interior_options, neighborhood as they have very high cardinality.\n",
    "\n",
    "We already looked at model, trim, car_make - we need to encode the values which are more frequent.\n",
    "\n"
   ]
  },
  {
   "cell_type": "markdown",
   "id": "cf2a6596",
   "metadata": {},
   "source": [
    "Let's quickly look at description_score, interior_color, exterior_color."
   ]
  },
  {
   "cell_type": "markdown",
   "id": "910ce229",
   "metadata": {},
   "source": [
    "### description_score"
   ]
  },
  {
   "cell_type": "markdown",
   "id": "40a5459a",
   "metadata": {},
   "source": [
    "Description Score - Score (0–100) representing the completeness of the seller’s description."
   ]
  },
  {
   "cell_type": "code",
   "execution_count": 46,
   "id": "9c2a6dce",
   "metadata": {},
   "outputs": [
    {
     "data": {
      "text/plain": [
       "description_score\n",
       "فحص كامل    1343\n",
       "7            637\n",
       "3            404\n",
       "4            341\n",
       "2            251\n",
       "1             13\n",
       "6              3\n",
       "60             3\n",
       "1500           3\n",
       "20002          2\n",
       "20217          2\n",
       "867            1\n",
       "20062          1\n",
       "20264          1\n",
       "5              1\n",
       "3600           1\n",
       "3820007        1\n",
       "20143          1\n",
       "20073          1\n",
       "400007         1\n",
       "15             1\n",
       "20254          1\n",
       "18002          1\n",
       "1007           1\n",
       "18004          1\n",
       "24             1\n",
       "82             1\n",
       "28             1\n",
       "2013           1\n",
       "2006           1\n",
       "20182          1\n",
       "Name: count, dtype: int64"
      ]
     },
     "execution_count": 46,
     "metadata": {},
     "output_type": "execute_result"
    }
   ],
   "source": [
    "train_csv['description_score'].value_counts()"
   ]
  },
  {
   "cell_type": "markdown",
   "id": "6e2b2c88",
   "metadata": {},
   "source": [
    "The values seem incorrect as they are not in the 0-100 range.\n",
    "\n",
    "I will drop this column."
   ]
  },
  {
   "cell_type": "markdown",
   "id": "6427f985",
   "metadata": {},
   "source": [
    "### interior_color"
   ]
  },
  {
   "cell_type": "code",
   "execution_count": 47,
   "id": "81987f26",
   "metadata": {},
   "outputs": [
    {
     "data": {
      "text/plain": [
       "count      7473\n",
       "unique       23\n",
       "top       Black\n",
       "freq       2884\n",
       "Name: interior_color, dtype: object"
      ]
     },
     "execution_count": 47,
     "metadata": {},
     "output_type": "execute_result"
    }
   ],
   "source": [
    "train_csv['interior_color'].describe()"
   ]
  },
  {
   "cell_type": "code",
   "execution_count": 48,
   "id": "104783cc",
   "metadata": {},
   "outputs": [
    {
     "data": {
      "text/plain": [
       "interior_color\n",
       "Black          2884\n",
       "Beige          1241\n",
       "Nardo Grey      814\n",
       "Grey            721\n",
       "White           468\n",
       "Brown           263\n",
       "Silver          206\n",
       "Red             174\n",
       "Blue            145\n",
       "Burgundy        109\n",
       "Navy Blue        90\n",
       "Bronze           78\n",
       "Tan              73\n",
       "Green            60\n",
       "Orange           49\n",
       "Baby Blue        34\n",
       "Petrol           18\n",
       "Olive Green      16\n",
       "Gold             15\n",
       "Yellow            7\n",
       "Turquoise         4\n",
       "Purple            3\n",
       "Pink              1\n",
       "Name: count, dtype: int64"
      ]
     },
     "execution_count": 48,
     "metadata": {},
     "output_type": "execute_result"
    }
   ],
   "source": [
    "train_csv['interior_color'].value_counts()"
   ]
  },
  {
   "cell_type": "markdown",
   "id": "37d613ef",
   "metadata": {},
   "source": [
    "### exterior_color"
   ]
  },
  {
   "cell_type": "code",
   "execution_count": 49,
   "id": "dc9ea74b",
   "metadata": {},
   "outputs": [
    {
     "data": {
      "text/plain": [
       "exterior_color\n",
       "White          1592\n",
       "Black          1384\n",
       "Silver          982\n",
       "Grey            826\n",
       "Nardo Grey      439\n",
       "Navy Blue       380\n",
       "Blue            322\n",
       "Burgundy        276\n",
       "Red             251\n",
       "Green           180\n",
       "Gold            132\n",
       "Bronze          122\n",
       "Baby Blue       116\n",
       "Brown           104\n",
       "Olive Green      88\n",
       "Petrol           75\n",
       "Beige            64\n",
       "Tan              43\n",
       "Yellow           38\n",
       "Turquoise        27\n",
       "Orange           19\n",
       "Purple           11\n",
       "Pink              2\n",
       "Name: count, dtype: int64"
      ]
     },
     "execution_count": 49,
     "metadata": {},
     "output_type": "execute_result"
    }
   ],
   "source": [
    "train_csv['exterior_color'].value_counts()"
   ]
  },
  {
   "cell_type": "markdown",
   "id": "29e85608",
   "metadata": {},
   "source": [
    "interior_color and exterior_color look ok."
   ]
  },
  {
   "cell_type": "markdown",
   "id": "88d0d0b7",
   "metadata": {},
   "source": [
    "### neighborhood"
   ]
  },
  {
   "cell_type": "code",
   "execution_count": 50,
   "id": "729eb4c0",
   "metadata": {},
   "outputs": [
    {
     "data": {
      "text/plain": [
       "count                    7478\n",
       "unique                    474\n",
       "top       Al mantika Al Hurra\n",
       "freq                      546\n",
       "Name: neighborhood, dtype: object"
      ]
     },
     "execution_count": 50,
     "metadata": {},
     "output_type": "execute_result"
    }
   ],
   "source": [
    "train_csv['neighborhood'].describe()"
   ]
  },
  {
   "cell_type": "code",
   "execution_count": 51,
   "id": "0e5161dc",
   "metadata": {},
   "outputs": [
    {
     "data": {
      "text/plain": [
       "neighborhood\n",
       "Al mantika Al Hurra          546\n",
       "Sports City                  440\n",
       "Tabarboor                    356\n",
       "Jubaiha                      275\n",
       "Other                        198\n",
       "                            ... \n",
       "Al-Mabruka                     1\n",
       "Bowaydet Al Hawamdeh           1\n",
       "Sabha                          1\n",
       "Mojamma' Alshaikh Khaleel      1\n",
       "Shafa Al-Amriya                1\n",
       "Name: count, Length: 474, dtype: int64"
      ]
     },
     "execution_count": 51,
     "metadata": {},
     "output_type": "execute_result"
    }
   ],
   "source": [
    "train_csv['neighborhood'].value_counts()"
   ]
  },
  {
   "cell_type": "markdown",
   "id": "4eee5d3f",
   "metadata": {},
   "source": [
    "I think we can try encoding all values first and then just the top neighborhoods by count."
   ]
  },
  {
   "cell_type": "markdown",
   "id": "4b230a28",
   "metadata": {},
   "source": [
    "### technology_options, exterior_options, interior_options"
   ]
  },
  {
   "cell_type": "code",
   "execution_count": 52,
   "id": "d282edaf",
   "metadata": {},
   "outputs": [
    {
     "data": {
      "text/html": [
       "<div>\n",
       "<style scoped>\n",
       "    .dataframe tbody tr th:only-of-type {\n",
       "        vertical-align: middle;\n",
       "    }\n",
       "\n",
       "    .dataframe tbody tr th {\n",
       "        vertical-align: top;\n",
       "    }\n",
       "\n",
       "    .dataframe thead th {\n",
       "        text-align: right;\n",
       "    }\n",
       "</style>\n",
       "<table border=\"1\" class=\"dataframe\">\n",
       "  <thead>\n",
       "    <tr style=\"text-align: right;\">\n",
       "      <th></th>\n",
       "      <th>technology_options</th>\n",
       "      <th>exterior_options</th>\n",
       "      <th>interior_options</th>\n",
       "    </tr>\n",
       "  </thead>\n",
       "  <tbody>\n",
       "    <tr>\n",
       "      <th>0</th>\n",
       "      <td>Remote Start, Cruise Control, Radar, Navigatio...</td>\n",
       "      <td>Panoramic Roof, Electrically Folding Mirrors, ...</td>\n",
       "      <td>Airbags, Air Condition, Electric Seat Control,...</td>\n",
       "    </tr>\n",
       "    <tr>\n",
       "      <th>1</th>\n",
       "      <td>ABS Brakes</td>\n",
       "      <td>Rim Wheels, Electric Mirrors</td>\n",
       "      <td>Airbags, Center Lock, Air Condition, Alarm Sys...</td>\n",
       "    </tr>\n",
       "    <tr>\n",
       "      <th>2</th>\n",
       "      <td>Media Screen, ABS Brakes, Rear Camera, Tractio...</td>\n",
       "      <td>Spare Tyre, Rim Wheels, Electrically Folding M...</td>\n",
       "      <td>Airbags, Steering Wheel Controls, Electric Win...</td>\n",
       "    </tr>\n",
       "    <tr>\n",
       "      <th>3</th>\n",
       "      <td>Traction Control, Cruise Control, Tyre Pressur...</td>\n",
       "      <td>Electrically Folding Mirrors, Electric Mirrors...</td>\n",
       "      <td>Electric Seat Control, Air Condition, AUX / US...</td>\n",
       "    </tr>\n",
       "    <tr>\n",
       "      <th>4</th>\n",
       "      <td>Bluetooth, Auto Lock System, Traction Control</td>\n",
       "      <td>Rear Sensors, Electric Mirrors, Daytime Runnin...</td>\n",
       "      <td>Steering Wheel Controls, Electric Windows, Cen...</td>\n",
       "    </tr>\n",
       "  </tbody>\n",
       "</table>\n",
       "</div>"
      ],
      "text/plain": [
       "                                  technology_options  \\\n",
       "0  Remote Start, Cruise Control, Radar, Navigatio...   \n",
       "1                                         ABS Brakes   \n",
       "2  Media Screen, ABS Brakes, Rear Camera, Tractio...   \n",
       "3  Traction Control, Cruise Control, Tyre Pressur...   \n",
       "4      Bluetooth, Auto Lock System, Traction Control   \n",
       "\n",
       "                                    exterior_options  \\\n",
       "0  Panoramic Roof, Electrically Folding Mirrors, ...   \n",
       "1                       Rim Wheels, Electric Mirrors   \n",
       "2  Spare Tyre, Rim Wheels, Electrically Folding M...   \n",
       "3  Electrically Folding Mirrors, Electric Mirrors...   \n",
       "4  Rear Sensors, Electric Mirrors, Daytime Runnin...   \n",
       "\n",
       "                                    interior_options  \n",
       "0  Airbags, Air Condition, Electric Seat Control,...  \n",
       "1  Airbags, Center Lock, Air Condition, Alarm Sys...  \n",
       "2  Airbags, Steering Wheel Controls, Electric Win...  \n",
       "3  Electric Seat Control, Air Condition, AUX / US...  \n",
       "4  Steering Wheel Controls, Electric Windows, Cen...  "
      ]
     },
     "execution_count": 52,
     "metadata": {},
     "output_type": "execute_result"
    }
   ],
   "source": [
    "train_csv[['technology_options', 'exterior_options', 'interior_options']].head()"
   ]
  },
  {
   "cell_type": "markdown",
   "id": "797f9b42",
   "metadata": {},
   "source": [
    "As these 3 features have multiple values for each row, we need to explode them and transform as one hot encoding."
   ]
  },
  {
   "cell_type": "markdown",
   "id": "602c1c30",
   "metadata": {},
   "source": [
    "### Remaining low cardinality features"
   ]
  },
  {
   "cell_type": "code",
   "execution_count": 53,
   "id": "fcc0e54a",
   "metadata": {},
   "outputs": [],
   "source": [
    "low_cardinal_features = ['engine_size_cc', 'body_type', 'regional_specs', 'fuel', 'battery_range', 'battery_capacity', \n",
    "                         'body_condition', 'paint', 'insurance', 'payment_method',\t'car_customs', 'car_license', 'transmission',\n",
    "                         'condition', 'subcategory', 'category']"
   ]
  },
  {
   "cell_type": "code",
   "execution_count": 54,
   "id": "bc0b7aeb",
   "metadata": {},
   "outputs": [],
   "source": [
    "df2 = train_csv.drop(index=[508, 5789], axis=0)"
   ]
  },
  {
   "cell_type": "code",
   "execution_count": 55,
   "id": "a7b9ba06",
   "metadata": {},
   "outputs": [
    {
     "data": {
      "image/png": "[encoded data removed]",
      "text/plain": [
       "<Figure size 1000x3200 with 16 Axes>"
      ]
     },
     "metadata": {},
     "output_type": "display_data"
    }
   ],
   "source": [
    "n_cols = 2\n",
    "n_rows = int(np.ceil(len(low_cardinal_features)/n_cols))\n",
    "fig, axes = plt.subplots(n_rows, n_cols, figsize=(n_cols*5, n_rows*4))\n",
    "axes = axes.flatten()\n",
    "for i, feature in enumerate(low_cardinal_features):\n",
    "    # sns.boxplot(data=df2, x=feature, y='price', ax=axes[i])\n",
    "    sns.violinplot(data=df2, x=feature, y='price', ax=axes[i])\n",
    "    # sns.stripplot(data=df2, x=feature, y='price', ax=axes[i])\n",
    "    # axes[i].set_title(feature, size = 12)\n",
    "    axes[i].tick_params(axis='x', rotation=30, labelsize = 8)\n",
    "\n",
    "for j in range(i+1, len(axes)):\n",
    "    fig.delaxes(axes[j])\n",
    "\n",
    "plt.tight_layout()"
   ]
  },
  {
   "cell_type": "markdown",
   "id": "0a85a6ea",
   "metadata": {},
   "source": [
    "### price "
   ]
  },
  {
   "cell_type": "code",
   "execution_count": 56,
   "id": "357fb72c",
   "metadata": {},
   "outputs": [
    {
     "data": {
      "text/plain": [
       "count      7476.000000\n",
       "mean      12002.493178\n",
       "std       12711.808569\n",
       "min         600.000000\n",
       "25%        3587.500000\n",
       "50%        8150.000000\n",
       "75%       16000.000000\n",
       "max      207000.000000\n",
       "Name: price, dtype: float64"
      ]
     },
     "execution_count": 56,
     "metadata": {},
     "output_type": "execute_result"
    }
   ],
   "source": [
    "df2['price'].describe()"
   ]
  },
  {
   "cell_type": "code",
   "execution_count": 57,
   "id": "09d9451d",
   "metadata": {},
   "outputs": [
    {
     "data": {
      "text/plain": [
       "<Axes: xlabel='price', ylabel='Count'>"
      ]
     },
     "execution_count": 57,
     "metadata": {},
     "output_type": "execute_result"
    },
    {
     "data": {
      "image/png": "[encoded data removed]",
      "text/plain": [
       "<Figure size 1200x400 with 2 Axes>"
      ]
     },
     "metadata": {},
     "output_type": "display_data"
    }
   ],
   "source": [
    "fig, axes = plt.subplots(1, 2, figsize=(12, 4))\n",
    "\n",
    "sns.boxplot(data=df2, x='price', ax=axes[0])\n",
    "\n",
    "sns.histplot(data=df2, x='price', color='#2D5A3CFF', ax=axes[1])\n",
    "\n",
    "# sns.histplot(data=df2, x='price', bins=2000, ax=axes[2])"
   ]
  },
  {
   "cell_type": "markdown",
   "id": "50cee994",
   "metadata": {},
   "source": [
    "price follows a log-normal distribution. That is why we need to log-transform it before training the model."
   ]
  },
  {
   "cell_type": "markdown",
   "id": "bd6df7e4",
   "metadata": {},
   "source": [
    "# Analyze Missing Values"
   ]
  },
  {
   "cell_type": "code",
   "execution_count": 58,
   "id": "d83a39eb",
   "metadata": {},
   "outputs": [
    {
     "data": {
      "text/plain": [
       "battery_range         83.38\n",
       "battery_capacity      83.38\n",
       "description_score     59.59\n",
       "engine_size_cc        20.66\n",
       "trim                  13.56\n",
       "paint                  5.04\n",
       "body_condition         4.81\n",
       "year                   0.11\n",
       "car_license            0.09\n",
       "technology_options     0.09\n",
       "payment_method         0.09\n",
       "car_customs            0.09\n",
       "insurance              0.09\n",
       "exterior_options       0.09\n",
       "interior_options       0.09\n",
       "transmission           0.09\n",
       "fuel                   0.09\n",
       "kilometers             0.09\n",
       "num_of_seats           0.08\n",
       "interior_color         0.07\n",
       "exterior_color         0.07\n",
       "regional_specs         0.05\n",
       "body_type              0.04\n",
       "model                  0.04\n",
       "car_make               0.04\n",
       "condition              0.04\n",
       "id                     0.00\n",
       "subcategory            0.00\n",
       "category               0.00\n",
       "neighborhood           0.00\n",
       "city                   0.00\n",
       "scraped_time           0.00\n",
       "price                  0.00\n",
       "dtype: float64"
      ]
     },
     "execution_count": 58,
     "metadata": {},
     "output_type": "execute_result"
    }
   ],
   "source": [
    "null_pcnt_df = round(train_csv.isna().sum(axis=0)*100/len(train_csv),2).sort_values(ascending=False)\n",
    "null_pcnt_df"
   ]
  },
  {
   "cell_type": "markdown",
   "id": "9718c137",
   "metadata": {},
   "source": [
    "Features with greater than 10% null values need to be studied in detail."
   ]
  },
  {
   "cell_type": "code",
   "execution_count": 59,
   "id": "9b6b8e0a",
   "metadata": {},
   "outputs": [
    {
     "data": {
      "text/plain": [
       "battery_range        83.38\n",
       "battery_capacity     83.38\n",
       "description_score    59.59\n",
       "engine_size_cc       20.66\n",
       "trim                 13.56\n",
       "dtype: float64"
      ]
     },
     "execution_count": 59,
     "metadata": {},
     "output_type": "execute_result"
    }
   ],
   "source": [
    "null_pcnt_df[null_pcnt_df>10]"
   ]
  },
  {
   "cell_type": "markdown",
   "id": "339a26f4",
   "metadata": {},
   "source": [
    "## battery_capacity & battery_range"
   ]
  },
  {
   "cell_type": "markdown",
   "id": "73b7209b",
   "metadata": {},
   "source": [
    "Hypothesis: These should have values for only electric vehicles. \n",
    "Check 'fuel' where battery_capacity and battery_range are null and not null."
   ]
  },
  {
   "cell_type": "code",
   "execution_count": 60,
   "id": "4e94e1db",
   "metadata": {},
   "outputs": [
    {
     "data": {
      "text/plain": [
       "fuel\n",
       "Gasoline            4067\n",
       "Hybrid              1278\n",
       "Diesel               589\n",
       "Plug-in - Hybrid     165\n",
       "Mild Hybrid          129\n",
       "Name: count, dtype: int64"
      ]
     },
     "execution_count": 60,
     "metadata": {},
     "output_type": "execute_result"
    }
   ],
   "source": [
    "train_csv[train_csv['battery_capacity'].isna() | train_csv['battery_range'].isna()]['fuel'].value_counts()"
   ]
  },
  {
   "cell_type": "markdown",
   "id": "033083a6",
   "metadata": {},
   "source": [
    "All Electric vehicles have values for battery."
   ]
  },
  {
   "cell_type": "code",
   "execution_count": 61,
   "id": "36f75354",
   "metadata": {},
   "outputs": [
    {
     "data": {
      "text/plain": [
       "fuel\n",
       "Electric    1233\n",
       "Hybrid         6\n",
       "Gasoline       3\n",
       "Diesel         1\n",
       "Name: count, dtype: int64"
      ]
     },
     "execution_count": 61,
     "metadata": {},
     "output_type": "execute_result"
    }
   ],
   "source": [
    "train_csv[train_csv['battery_capacity'].notna() | train_csv['battery_range'].notna()]['fuel'].value_counts()"
   ]
  },
  {
   "cell_type": "markdown",
   "id": "099c1ffc",
   "metadata": {},
   "source": [
    "However, there are some rows with fuel Gasoline and Diesel and battery information as well. \n",
    "The row count for such rows is 4 which may be correct or an error; quicky checking the model name.\n",
    "\n",
    "This also tell us that the other rows with null values for battery_capacity & battery_range are fine. I will just impute nulls with 0s."
   ]
  },
  {
   "cell_type": "code",
   "execution_count": 62,
   "id": "4065fed8",
   "metadata": {},
   "outputs": [
    {
     "data": {
      "text/html": [
       "<div>\n",
       "<style scoped>\n",
       "    .dataframe tbody tr th:only-of-type {\n",
       "        vertical-align: middle;\n",
       "    }\n",
       "\n",
       "    .dataframe tbody tr th {\n",
       "        vertical-align: top;\n",
       "    }\n",
       "\n",
       "    .dataframe thead th {\n",
       "        text-align: right;\n",
       "    }\n",
       "</style>\n",
       "<table border=\"1\" class=\"dataframe\">\n",
       "  <thead>\n",
       "    <tr style=\"text-align: right;\">\n",
       "      <th></th>\n",
       "      <th>car_make</th>\n",
       "      <th>model</th>\n",
       "      <th>trim</th>\n",
       "    </tr>\n",
       "  </thead>\n",
       "  <tbody>\n",
       "    <tr>\n",
       "      <th>5364</th>\n",
       "      <td>Tesla</td>\n",
       "      <td>Model 3</td>\n",
       "      <td>Standard Plus</td>\n",
       "    </tr>\n",
       "    <tr>\n",
       "      <th>5564</th>\n",
       "      <td>Hyundai</td>\n",
       "      <td>Ioniq</td>\n",
       "      <td>Standard</td>\n",
       "    </tr>\n",
       "    <tr>\n",
       "      <th>6599</th>\n",
       "      <td>Ford</td>\n",
       "      <td>F-150 Lightning</td>\n",
       "      <td>Lariat</td>\n",
       "    </tr>\n",
       "    <tr>\n",
       "      <th>6697</th>\n",
       "      <td>Dongfeng</td>\n",
       "      <td>M5</td>\n",
       "      <td>NaN</td>\n",
       "    </tr>\n",
       "  </tbody>\n",
       "</table>\n",
       "</div>"
      ],
      "text/plain": [
       "      car_make            model           trim\n",
       "5364     Tesla          Model 3  Standard Plus\n",
       "5564   Hyundai            Ioniq       Standard\n",
       "6599      Ford  F-150 Lightning         Lariat\n",
       "6697  Dongfeng               M5            NaN"
      ]
     },
     "execution_count": 62,
     "metadata": {},
     "output_type": "execute_result"
    }
   ],
   "source": [
    "train_csv[(train_csv['battery_capacity'].notna() | train_csv['battery_range'].notna()) & \n",
    "          train_csv['fuel'].isin(['Gasoline', 'Diesel'])][['car_make', 'model', 'trim']]"
   ]
  },
  {
   "cell_type": "markdown",
   "id": "883c69c1",
   "metadata": {},
   "source": [
    "All these cars are clearly Electric - the fuel value is incorrect."
   ]
  },
  {
   "cell_type": "markdown",
   "id": "a8d7e8c3",
   "metadata": {},
   "source": [
    "## engine_size_cc"
   ]
  },
  {
   "cell_type": "code",
   "execution_count": 63,
   "id": "7ab3fa27",
   "metadata": {},
   "outputs": [
    {
     "data": {
      "text/plain": [
       "array(['2,000 - 2,999 cc', '1,000 - 1,999 cc', '3,000 - 3,999 cc', nan,\n",
       "       '4,000 - 4,999 cc', '0 - 499 cc', '500 - 999 cc',\n",
       "       '5,000 - 5,999 cc', 'More than 6,000 cc'], dtype=object)"
      ]
     },
     "execution_count": 63,
     "metadata": {},
     "output_type": "execute_result"
    }
   ],
   "source": [
    "train_csv['engine_size_cc'].unique()"
   ]
  },
  {
   "cell_type": "markdown",
   "id": "ebfc9abf",
   "metadata": {},
   "source": [
    "Similarly, the cars with fuel - Electric should have null values for engine_size."
   ]
  },
  {
   "cell_type": "code",
   "execution_count": 64,
   "id": "dd7f299f",
   "metadata": {},
   "outputs": [
    {
     "data": {
      "text/plain": [
       "fuel\n",
       "Electric            1226\n",
       "Gasoline             221\n",
       "Diesel                46\n",
       "Hybrid                36\n",
       "Plug-in - Hybrid       7\n",
       "Mild Hybrid            2\n",
       "Name: count, dtype: int64"
      ]
     },
     "execution_count": 64,
     "metadata": {},
     "output_type": "execute_result"
    }
   ],
   "source": [
    "train_csv[train_csv['engine_size_cc'].isna()]['fuel'].value_counts()"
   ]
  },
  {
   "cell_type": "markdown",
   "id": "8ff38e15",
   "metadata": {},
   "source": [
    "So, the majority of the rows with null values for engine_size are Electric. \n",
    "\n",
    "Although, there are some Gas, Diesel and Hybrid cars as well with null values. These need to be imputed."
   ]
  },
  {
   "cell_type": "code",
   "execution_count": 65,
   "id": "5dd85e09",
   "metadata": {},
   "outputs": [
    {
     "data": {
      "text/plain": [
       "fuel\n",
       "Gasoline            3849\n",
       "Hybrid              1248\n",
       "Diesel               544\n",
       "Plug-in - Hybrid     158\n",
       "Mild Hybrid          127\n",
       "Electric               7\n",
       "Name: count, dtype: int64"
      ]
     },
     "execution_count": 65,
     "metadata": {},
     "output_type": "execute_result"
    }
   ],
   "source": [
    "train_csv[train_csv['engine_size_cc'].notna()]['fuel'].value_counts()"
   ]
  },
  {
   "cell_type": "markdown",
   "id": "6b439db3",
   "metadata": {},
   "source": [
    "Checking the 7 Electric cars from above."
   ]
  },
  {
   "cell_type": "code",
   "execution_count": 66,
   "id": "2bcb01e4",
   "metadata": {},
   "outputs": [
    {
     "data": {
      "text/html": [
       "<div>\n",
       "<style scoped>\n",
       "    .dataframe tbody tr th:only-of-type {\n",
       "        vertical-align: middle;\n",
       "    }\n",
       "\n",
       "    .dataframe tbody tr th {\n",
       "        vertical-align: top;\n",
       "    }\n",
       "\n",
       "    .dataframe thead th {\n",
       "        text-align: right;\n",
       "    }\n",
       "</style>\n",
       "<table border=\"1\" class=\"dataframe\">\n",
       "  <thead>\n",
       "    <tr style=\"text-align: right;\">\n",
       "      <th></th>\n",
       "      <th>car_make</th>\n",
       "      <th>model</th>\n",
       "      <th>trim</th>\n",
       "    </tr>\n",
       "  </thead>\n",
       "  <tbody>\n",
       "    <tr>\n",
       "      <th>1371</th>\n",
       "      <td>Nissan</td>\n",
       "      <td>Sunny</td>\n",
       "      <td>SL</td>\n",
       "    </tr>\n",
       "    <tr>\n",
       "      <th>1453</th>\n",
       "      <td>Hyundai</td>\n",
       "      <td>Ioniq</td>\n",
       "      <td>NaN</td>\n",
       "    </tr>\n",
       "    <tr>\n",
       "      <th>3728</th>\n",
       "      <td>Hyundai</td>\n",
       "      <td>Ioniq</td>\n",
       "      <td>5</td>\n",
       "    </tr>\n",
       "    <tr>\n",
       "      <th>3809</th>\n",
       "      <td>Nissan</td>\n",
       "      <td>Sunny</td>\n",
       "      <td>SL</td>\n",
       "    </tr>\n",
       "    <tr>\n",
       "      <th>5276</th>\n",
       "      <td>Hyundai</td>\n",
       "      <td>Ioniq</td>\n",
       "      <td>Standard</td>\n",
       "    </tr>\n",
       "    <tr>\n",
       "      <th>6157</th>\n",
       "      <td>Toyota</td>\n",
       "      <td>Camry</td>\n",
       "      <td>XLE</td>\n",
       "    </tr>\n",
       "    <tr>\n",
       "      <th>6456</th>\n",
       "      <td>Toyota</td>\n",
       "      <td>RAV 4</td>\n",
       "      <td>XLE</td>\n",
       "    </tr>\n",
       "  </tbody>\n",
       "</table>\n",
       "</div>"
      ],
      "text/plain": [
       "     car_make  model      trim\n",
       "1371   Nissan  Sunny        SL\n",
       "1453  Hyundai  Ioniq       NaN\n",
       "3728  Hyundai  Ioniq         5\n",
       "3809   Nissan  Sunny        SL\n",
       "5276  Hyundai  Ioniq  Standard\n",
       "6157   Toyota  Camry       XLE\n",
       "6456   Toyota  RAV 4       XLE"
      ]
     },
     "execution_count": 66,
     "metadata": {},
     "output_type": "execute_result"
    }
   ],
   "source": [
    "train_csv[train_csv['engine_size_cc'].notna() & (train_csv['fuel']=='Electric')][['car_make', 'model', 'trim']]"
   ]
  },
  {
   "cell_type": "markdown",
   "id": "b3f20026",
   "metadata": {},
   "source": [
    "Nissan and Toyota cars from above are not Electric and should be corrected."
   ]
  },
  {
   "cell_type": "markdown",
   "id": "3e40c808",
   "metadata": {},
   "source": [
    "## trim"
   ]
  },
  {
   "cell_type": "markdown",
   "id": "56cddf1f",
   "metadata": {},
   "source": [
    "I believe the nulls in this feature can be imputed with 0, as there can be cars with no trim info.\n",
    "\n",
    "Checking which cars have no trim information-"
   ]
  },
  {
   "cell_type": "code",
   "execution_count": 67,
   "id": "d18165ff",
   "metadata": {},
   "outputs": [],
   "source": [
    "cars_no_trim = train_csv[train_csv['trim'].isna()][['car_make', 'model']].value_counts().reset_index()"
   ]
  },
  {
   "cell_type": "code",
   "execution_count": 68,
   "id": "c958f5af",
   "metadata": {},
   "outputs": [
    {
     "data": {
      "text/html": [
       "<div>\n",
       "<style scoped>\n",
       "    .dataframe tbody tr th:only-of-type {\n",
       "        vertical-align: middle;\n",
       "    }\n",
       "\n",
       "    .dataframe tbody tr th {\n",
       "        vertical-align: top;\n",
       "    }\n",
       "\n",
       "    .dataframe thead th {\n",
       "        text-align: right;\n",
       "    }\n",
       "</style>\n",
       "<table border=\"1\" class=\"dataframe\">\n",
       "  <thead>\n",
       "    <tr style=\"text-align: right;\">\n",
       "      <th></th>\n",
       "      <th>car_make</th>\n",
       "      <th>model</th>\n",
       "      <th>count</th>\n",
       "    </tr>\n",
       "  </thead>\n",
       "  <tbody>\n",
       "    <tr>\n",
       "      <th>0</th>\n",
       "      <td>Hyundai</td>\n",
       "      <td>H 100</td>\n",
       "      <td>91</td>\n",
       "    </tr>\n",
       "    <tr>\n",
       "      <th>1</th>\n",
       "      <td>Opel</td>\n",
       "      <td>Vectra</td>\n",
       "      <td>44</td>\n",
       "    </tr>\n",
       "    <tr>\n",
       "      <th>2</th>\n",
       "      <td>Kia</td>\n",
       "      <td>Spectra</td>\n",
       "      <td>40</td>\n",
       "    </tr>\n",
       "    <tr>\n",
       "      <th>3</th>\n",
       "      <td>Kia</td>\n",
       "      <td>Pregio</td>\n",
       "      <td>28</td>\n",
       "    </tr>\n",
       "    <tr>\n",
       "      <th>4</th>\n",
       "      <td>BYD</td>\n",
       "      <td>Seagull</td>\n",
       "      <td>28</td>\n",
       "    </tr>\n",
       "    <tr>\n",
       "      <th>5</th>\n",
       "      <td>BYD</td>\n",
       "      <td>Song Plus</td>\n",
       "      <td>28</td>\n",
       "    </tr>\n",
       "    <tr>\n",
       "      <th>6</th>\n",
       "      <td>Opel</td>\n",
       "      <td>Kadett</td>\n",
       "      <td>25</td>\n",
       "    </tr>\n",
       "    <tr>\n",
       "      <th>7</th>\n",
       "      <td>Daewoo</td>\n",
       "      <td>Lanos</td>\n",
       "      <td>23</td>\n",
       "    </tr>\n",
       "    <tr>\n",
       "      <th>8</th>\n",
       "      <td>Chevrolet</td>\n",
       "      <td>Bolt</td>\n",
       "      <td>20</td>\n",
       "    </tr>\n",
       "    <tr>\n",
       "      <th>9</th>\n",
       "      <td>Changan</td>\n",
       "      <td>E-Star</td>\n",
       "      <td>20</td>\n",
       "    </tr>\n",
       "    <tr>\n",
       "      <th>10</th>\n",
       "      <td>Daewoo</td>\n",
       "      <td>Nubira</td>\n",
       "      <td>17</td>\n",
       "    </tr>\n",
       "    <tr>\n",
       "      <th>11</th>\n",
       "      <td>Kia</td>\n",
       "      <td>Shuma</td>\n",
       "      <td>16</td>\n",
       "    </tr>\n",
       "    <tr>\n",
       "      <th>12</th>\n",
       "      <td>Hyundai</td>\n",
       "      <td>Atos</td>\n",
       "      <td>16</td>\n",
       "    </tr>\n",
       "    <tr>\n",
       "      <th>13</th>\n",
       "      <td>BYD</td>\n",
       "      <td>E2</td>\n",
       "      <td>15</td>\n",
       "    </tr>\n",
       "    <tr>\n",
       "      <th>14</th>\n",
       "      <td>Ford</td>\n",
       "      <td>C-MAX</td>\n",
       "      <td>14</td>\n",
       "    </tr>\n",
       "    <tr>\n",
       "      <th>15</th>\n",
       "      <td>Chevrolet</td>\n",
       "      <td>Menlo</td>\n",
       "      <td>12</td>\n",
       "    </tr>\n",
       "    <tr>\n",
       "      <th>16</th>\n",
       "      <td>Daewoo</td>\n",
       "      <td>Cielo</td>\n",
       "      <td>12</td>\n",
       "    </tr>\n",
       "    <tr>\n",
       "      <th>17</th>\n",
       "      <td>Isuzu</td>\n",
       "      <td>Other</td>\n",
       "      <td>11</td>\n",
       "    </tr>\n",
       "    <tr>\n",
       "      <th>18</th>\n",
       "      <td>BYD</td>\n",
       "      <td>Han</td>\n",
       "      <td>11</td>\n",
       "    </tr>\n",
       "  </tbody>\n",
       "</table>\n",
       "</div>"
      ],
      "text/plain": [
       "     car_make      model  count\n",
       "0     Hyundai      H 100     91\n",
       "1        Opel     Vectra     44\n",
       "2         Kia    Spectra     40\n",
       "3         Kia     Pregio     28\n",
       "4         BYD    Seagull     28\n",
       "5         BYD  Song Plus     28\n",
       "6        Opel     Kadett     25\n",
       "7      Daewoo      Lanos     23\n",
       "8   Chevrolet       Bolt     20\n",
       "9     Changan     E-Star     20\n",
       "10     Daewoo     Nubira     17\n",
       "11        Kia      Shuma     16\n",
       "12    Hyundai       Atos     16\n",
       "13        BYD         E2     15\n",
       "14       Ford      C-MAX     14\n",
       "15  Chevrolet      Menlo     12\n",
       "16     Daewoo      Cielo     12\n",
       "17      Isuzu      Other     11\n",
       "18        BYD        Han     11"
      ]
     },
     "execution_count": 68,
     "metadata": {},
     "output_type": "execute_result"
    }
   ],
   "source": [
    "cars_no_trim[cars_no_trim['count']>10]"
   ]
  },
  {
   "cell_type": "code",
   "execution_count": 69,
   "id": "ea2ed260",
   "metadata": {},
   "outputs": [
    {
     "data": {
      "text/plain": [
       "Series([], Name: count, dtype: int64)"
      ]
     },
     "execution_count": 69,
     "metadata": {},
     "output_type": "execute_result"
    }
   ],
   "source": [
    "train_csv[(train_csv['car_make']=='Kia') & (train_csv['model']=='Spectra')][['car_make', 'model', 'trim']].value_counts()"
   ]
  },
  {
   "cell_type": "markdown",
   "id": "5f1cc925",
   "metadata": {},
   "source": [
    "# GroupBasedModeImputer"
   ]
  },
  {
   "cell_type": "code",
   "execution_count": 70,
   "id": "9d1947c2",
   "metadata": {},
   "outputs": [],
   "source": [
    "class GroupBasedModeImputer(BaseEstimator, TransformerMixin):\n",
    "    def __init__(self, group_col, target_col):\n",
    "        self.group_col = group_col\n",
    "        self.target_col = target_col\n",
    "        self.fill_values = {}\n",
    "    \n",
    "    def fit(self, X, y=None):\n",
    "        df = pd.DataFrame(X, columns=[self.group_col, self.target_col])\n",
    "        self.fill_values = (\n",
    "            df.groupby(self.group_col)[self.target_col]\n",
    "            .agg(lambda x: x.mode().iloc[0] if not x.mode().empty else np.nan)\n",
    "            .to_dict()\n",
    "        )\n",
    "        return self\n",
    "    \n",
    "    def transform(self, X):\n",
    "        df = pd.DataFrame(X, columns=[self.group_col, self.target_col])\n",
    "        df[self.target_col] = df.apply(\n",
    "            lambda row: self.fill_values.get(row[self.group_col], np.nan)\n",
    "            if pd.isna(row[self.target_col])\n",
    "            else row[self.target_col],\n",
    "            axis=1\n",
    "        )\n",
    "        return df[self.target_col].to_frame()\n"
   ]
  },
  {
   "cell_type": "markdown",
   "id": "f7f1bb1d",
   "metadata": {},
   "source": [
    "# Preprocessor Pipeline"
   ]
  },
  {
   "cell_type": "code",
   "execution_count": 72,
   "id": "8b204556",
   "metadata": {},
   "outputs": [
    {
     "data": {
      "text/plain": [
       "Index(['id', 'scraped_time', 'condition', 'car_make', 'model', 'trim', 'year',\n",
       "       'kilometers', 'body_type', 'num_of_seats', 'fuel', 'transmission',\n",
       "       'engine_size_cc', 'exterior_color', 'interior_color', 'regional_specs',\n",
       "       'car_license', 'insurance', 'car_customs', 'body_condition', 'paint',\n",
       "       'payment_method', 'city', 'neighborhood', 'category', 'subcategory',\n",
       "       'interior_options', 'exterior_options', 'technology_options',\n",
       "       'description_score', 'battery_capacity', 'battery_range', 'price'],\n",
       "      dtype='object')"
      ]
     },
     "execution_count": 72,
     "metadata": {},
     "output_type": "execute_result"
    }
   ],
   "source": [
    "train_csv.columns"
   ]
  },
  {
   "cell_type": "code",
   "execution_count": 198,
   "id": "48ee1997",
   "metadata": {},
   "outputs": [],
   "source": [
    "drop_features = ['id', 'scraped_time', 'price', 'category', 'subcategory', 'description_score']\n",
    "options_features = ['interior_options', 'exterior_options', 'technology_options']\n",
    "cat_features_imp_zero = ['trim', 'engine_size_cc', 'battery_capacity', 'battery_range', 'neighborhood']\n",
    "cat_features_imp_freq = ['condition', 'car_make', 'year',\n",
    "       'kilometers', 'body_type', 'num_of_seats', 'fuel', 'transmission', \n",
    "       'exterior_color', 'interior_color', 'regional_specs',\n",
    "       'car_license', 'insurance', 'car_customs', 'body_condition', 'paint',\n",
    "       'payment_method', 'city']"
   ]
  },
  {
   "cell_type": "code",
   "execution_count": 185,
   "id": "4b55db17",
   "metadata": {},
   "outputs": [
    {
     "data": {
      "text/plain": [
       "32"
      ]
     },
     "execution_count": 185,
     "metadata": {},
     "output_type": "execute_result"
    }
   ],
   "source": [
    "len(drop_features) + len(options_features) + len(cat_features_imp_freq) + len(cat_features_imp_zero)"
   ]
  },
  {
   "cell_type": "code",
   "execution_count": 187,
   "id": "b039bb85",
   "metadata": {},
   "outputs": [],
   "source": [
    "cat_impute_freq_pipeline = Pipeline(steps=[\n",
    "    ('freq_imputer', SimpleImputer(strategy='most_frequent'))\n",
    "])"
   ]
  },
  {
   "cell_type": "code",
   "execution_count": 188,
   "id": "d9177e03",
   "metadata": {},
   "outputs": [],
   "source": [
    "cat_impute_zero_pipeline = Pipeline(steps=[\n",
    "    ('zero_imputer', SimpleImputer(strategy='constant', fill_value=0))\n",
    "])"
   ]
  },
  {
   "cell_type": "code",
   "execution_count": 214,
   "id": "0fa94121",
   "metadata": {},
   "outputs": [],
   "source": [
    "model_impute_pipeline = Pipeline(steps=[\n",
    "    ('group_imputer', GroupBasedModeImputer(group_col='car_make', target_col='model'))\n",
    "])"
   ]
  },
  {
   "cell_type": "code",
   "execution_count": 215,
   "id": "d1423f1c",
   "metadata": {},
   "outputs": [],
   "source": [
    "preprocessor = ColumnTransformer(transformers=[\n",
    "    ('cat_impute_freq', cat_impute_freq_pipeline, cat_features_imp_freq),\n",
    "    ('cat_impute_zero', cat_impute_zero_pipeline, cat_features_imp_zero),\n",
    "    ('model_impute', model_impute_pipeline, ['car_make', 'model']),\n",
    "    ('drop', 'drop', drop_features),\n",
    "    ('options', 'drop', options_features)\n",
    "], remainder='passthrough')"
   ]
  },
  {
   "cell_type": "code",
   "execution_count": 216,
   "id": "0de8dabe",
   "metadata": {},
   "outputs": [
    {
     "data": {
      "text/html": [
       "<style>#sk-container-id-2 {\n",
       "  /* Definition of color scheme common for light and dark mode */\n",
       "  --sklearn-color-text: black;\n",
       "  --sklearn-color-line: gray;\n",
       "  /* Definition of color scheme for unfitted estimators */\n",
       "  --sklearn-color-unfitted-level-0: #fff5e6;\n",
       "  --sklearn-color-unfitted-level-1: #f6e4d2;\n",
       "  --sklearn-color-unfitted-level-2: #ffe0b3;\n",
       "  --sklearn-color-unfitted-level-3: chocolate;\n",
       "  /* Definition of color scheme for fitted estimators */\n",
       "  --sklearn-color-fitted-level-0: #f0f8ff;\n",
       "  --sklearn-color-fitted-level-1: #d4ebff;\n",
       "  --sklearn-color-fitted-level-2: #b3dbfd;\n",
       "  --sklearn-color-fitted-level-3: cornflowerblue;\n",
       "\n",
       "  /* Specific color for light theme */\n",
       "  --sklearn-color-text-on-default-background: var(--sg-text-color, var(--theme-code-foreground, var(--jp-content-font-color1, black)));\n",
       "  --sklearn-color-background: var(--sg-background-color, var(--theme-background, var(--jp-layout-color0, white)));\n",
       "  --sklearn-color-border-box: var(--sg-text-color, var(--theme-code-foreground, var(--jp-content-font-color1, black)));\n",
       "  --sklearn-color-icon: #696969;\n",
       "\n",
       "  @media (prefers-color-scheme: dark) {\n",
       "    /* Redefinition of color scheme for dark theme */\n",
       "    --sklearn-color-text-on-default-background: var(--sg-text-color, var(--theme-code-foreground, var(--jp-content-font-color1, white)));\n",
       "    --sklearn-color-background: var(--sg-background-color, var(--theme-background, var(--jp-layout-color0, #111)));\n",
       "    --sklearn-color-border-box: var(--sg-text-color, var(--theme-code-foreground, var(--jp-content-font-color1, white)));\n",
       "    --sklearn-color-icon: #878787;\n",
       "  }\n",
       "}\n",
       "\n",
       "#sk-container-id-2 {\n",
       "  color: var(--sklearn-color-text);\n",
       "}\n",
       "\n",
       "#sk-container-id-2 pre {\n",
       "  padding: 0;\n",
       "}\n",
       "\n",
       "#sk-container-id-2 input.sk-hidden--visually {\n",
       "  border: 0;\n",
       "  clip: rect(1px 1px 1px 1px);\n",
       "  clip: rect(1px, 1px, 1px, 1px);\n",
       "  height: 1px;\n",
       "  margin: -1px;\n",
       "  overflow: hidden;\n",
       "  padding: 0;\n",
       "  position: absolute;\n",
       "  width: 1px;\n",
       "}\n",
       "\n",
       "#sk-container-id-2 div.sk-dashed-wrapped {\n",
       "  border: 1px dashed var(--sklearn-color-line);\n",
       "  margin: 0 0.4em 0.5em 0.4em;\n",
       "  box-sizing: border-box;\n",
       "  padding-bottom: 0.4em;\n",
       "  background-color: var(--sklearn-color-background);\n",
       "}\n",
       "\n",
       "#sk-container-id-2 div.sk-container {\n",
       "  /* jupyter's `normalize.less` sets `[hidden] { display: none; }`\n",
       "     but bootstrap.min.css set `[hidden] { display: none !important; }`\n",
       "     so we also need the `!important` here to be able to override the\n",
       "     default hidden behavior on the sphinx rendered scikit-learn.org.\n",
       "     See: https://github.com/scikit-learn/scikit-learn/issues/21755 */\n",
       "  display: inline-block !important;\n",
       "  position: relative;\n",
       "}\n",
       "\n",
       "#sk-container-id-2 div.sk-text-repr-fallback {\n",
       "  display: none;\n",
       "}\n",
       "\n",
       "div.sk-parallel-item,\n",
       "div.sk-serial,\n",
       "div.sk-item {\n",
       "  /* draw centered vertical line to link estimators */\n",
       "  background-image: linear-gradient(var(--sklearn-color-text-on-default-background), var(--sklearn-color-text-on-default-background));\n",
       "  background-size: 2px 100%;\n",
       "  background-repeat: no-repeat;\n",
       "  background-position: center center;\n",
       "}\n",
       "\n",
       "/* Parallel-specific style estimator block */\n",
       "\n",
       "#sk-container-id-2 div.sk-parallel-item::after {\n",
       "  content: \"\";\n",
       "  width: 100%;\n",
       "  border-bottom: 2px solid var(--sklearn-color-text-on-default-background);\n",
       "  flex-grow: 1;\n",
       "}\n",
       "\n",
       "#sk-container-id-2 div.sk-parallel {\n",
       "  display: flex;\n",
       "  align-items: stretch;\n",
       "  justify-content: center;\n",
       "  background-color: var(--sklearn-color-background);\n",
       "  position: relative;\n",
       "}\n",
       "\n",
       "#sk-container-id-2 div.sk-parallel-item {\n",
       "  display: flex;\n",
       "  flex-direction: column;\n",
       "}\n",
       "\n",
       "#sk-container-id-2 div.sk-parallel-item:first-child::after {\n",
       "  align-self: flex-end;\n",
       "  width: 50%;\n",
       "}\n",
       "\n",
       "#sk-container-id-2 div.sk-parallel-item:last-child::after {\n",
       "  align-self: flex-start;\n",
       "  width: 50%;\n",
       "}\n",
       "\n",
       "#sk-container-id-2 div.sk-parallel-item:only-child::after {\n",
       "  width: 0;\n",
       "}\n",
       "\n",
       "/* Serial-specific style estimator block */\n",
       "\n",
       "#sk-container-id-2 div.sk-serial {\n",
       "  display: flex;\n",
       "  flex-direction: column;\n",
       "  align-items: center;\n",
       "  background-color: var(--sklearn-color-background);\n",
       "  padding-right: 1em;\n",
       "  padding-left: 1em;\n",
       "}\n",
       "\n",
       "\n",
       "/* Toggleable style: style used for estimator/Pipeline/ColumnTransformer box that is\n",
       "clickable and can be expanded/collapsed.\n",
       "- Pipeline and ColumnTransformer use this feature and define the default style\n",
       "- Estimators will overwrite some part of the style using the `sk-estimator` class\n",
       "*/\n",
       "\n",
       "/* Pipeline and ColumnTransformer style (default) */\n",
       "\n",
       "#sk-container-id-2 div.sk-toggleable {\n",
       "  /* Default theme specific background. It is overwritten whether we have a\n",
       "  specific estimator or a Pipeline/ColumnTransformer */\n",
       "  background-color: var(--sklearn-color-background);\n",
       "}\n",
       "\n",
       "/* Toggleable label */\n",
       "#sk-container-id-2 label.sk-toggleable__label {\n",
       "  cursor: pointer;\n",
       "  display: block;\n",
       "  width: 100%;\n",
       "  margin-bottom: 0;\n",
       "  padding: 0.5em;\n",
       "  box-sizing: border-box;\n",
       "  text-align: center;\n",
       "}\n",
       "\n",
       "#sk-container-id-2 label.sk-toggleable__label-arrow:before {\n",
       "  /* Arrow on the left of the label */\n",
       "  content: \"▸\";\n",
       "  float: left;\n",
       "  margin-right: 0.25em;\n",
       "  color: var(--sklearn-color-icon);\n",
       "}\n",
       "\n",
       "#sk-container-id-2 label.sk-toggleable__label-arrow:hover:before {\n",
       "  color: var(--sklearn-color-text);\n",
       "}\n",
       "\n",
       "/* Toggleable content - dropdown */\n",
       "\n",
       "#sk-container-id-2 div.sk-toggleable__content {\n",
       "  max-height: 0;\n",
       "  max-width: 0;\n",
       "  overflow: hidden;\n",
       "  text-align: left;\n",
       "  /* unfitted */\n",
       "  background-color: var(--sklearn-color-unfitted-level-0);\n",
       "}\n",
       "\n",
       "#sk-container-id-2 div.sk-toggleable__content.fitted {\n",
       "  /* fitted */\n",
       "  background-color: var(--sklearn-color-fitted-level-0);\n",
       "}\n",
       "\n",
       "#sk-container-id-2 div.sk-toggleable__content pre {\n",
       "  margin: 0.2em;\n",
       "  border-radius: 0.25em;\n",
       "  color: var(--sklearn-color-text);\n",
       "  /* unfitted */\n",
       "  background-color: var(--sklearn-color-unfitted-level-0);\n",
       "}\n",
       "\n",
       "#sk-container-id-2 div.sk-toggleable__content.fitted pre {\n",
       "  /* unfitted */\n",
       "  background-color: var(--sklearn-color-fitted-level-0);\n",
       "}\n",
       "\n",
       "#sk-container-id-2 input.sk-toggleable__control:checked~div.sk-toggleable__content {\n",
       "  /* Expand drop-down */\n",
       "  max-height: 200px;\n",
       "  max-width: 100%;\n",
       "  overflow: auto;\n",
       "}\n",
       "\n",
       "#sk-container-id-2 input.sk-toggleable__control:checked~label.sk-toggleable__label-arrow:before {\n",
       "  content: \"▾\";\n",
       "}\n",
       "\n",
       "/* Pipeline/ColumnTransformer-specific style */\n",
       "\n",
       "#sk-container-id-2 div.sk-label input.sk-toggleable__control:checked~label.sk-toggleable__label {\n",
       "  color: var(--sklearn-color-text);\n",
       "  background-color: var(--sklearn-color-unfitted-level-2);\n",
       "}\n",
       "\n",
       "#sk-container-id-2 div.sk-label.fitted input.sk-toggleable__control:checked~label.sk-toggleable__label {\n",
       "  background-color: var(--sklearn-color-fitted-level-2);\n",
       "}\n",
       "\n",
       "/* Estimator-specific style */\n",
       "\n",
       "/* Colorize estimator box */\n",
       "#sk-container-id-2 div.sk-estimator input.sk-toggleable__control:checked~label.sk-toggleable__label {\n",
       "  /* unfitted */\n",
       "  background-color: var(--sklearn-color-unfitted-level-2);\n",
       "}\n",
       "\n",
       "#sk-container-id-2 div.sk-estimator.fitted input.sk-toggleable__control:checked~label.sk-toggleable__label {\n",
       "  /* fitted */\n",
       "  background-color: var(--sklearn-color-fitted-level-2);\n",
       "}\n",
       "\n",
       "#sk-container-id-2 div.sk-label label.sk-toggleable__label,\n",
       "#sk-container-id-2 div.sk-label label {\n",
       "  /* The background is the default theme color */\n",
       "  color: var(--sklearn-color-text-on-default-background);\n",
       "}\n",
       "\n",
       "/* On hover, darken the color of the background */\n",
       "#sk-container-id-2 div.sk-label:hover label.sk-toggleable__label {\n",
       "  color: var(--sklearn-color-text);\n",
       "  background-color: var(--sklearn-color-unfitted-level-2);\n",
       "}\n",
       "\n",
       "/* Label box, darken color on hover, fitted */\n",
       "#sk-container-id-2 div.sk-label.fitted:hover label.sk-toggleable__label.fitted {\n",
       "  color: var(--sklearn-color-text);\n",
       "  background-color: var(--sklearn-color-fitted-level-2);\n",
       "}\n",
       "\n",
       "/* Estimator label */\n",
       "\n",
       "#sk-container-id-2 div.sk-label label {\n",
       "  font-family: monospace;\n",
       "  font-weight: bold;\n",
       "  display: inline-block;\n",
       "  line-height: 1.2em;\n",
       "}\n",
       "\n",
       "#sk-container-id-2 div.sk-label-container {\n",
       "  text-align: center;\n",
       "}\n",
       "\n",
       "/* Estimator-specific */\n",
       "#sk-container-id-2 div.sk-estimator {\n",
       "  font-family: monospace;\n",
       "  border: 1px dotted var(--sklearn-color-border-box);\n",
       "  border-radius: 0.25em;\n",
       "  box-sizing: border-box;\n",
       "  margin-bottom: 0.5em;\n",
       "  /* unfitted */\n",
       "  background-color: var(--sklearn-color-unfitted-level-0);\n",
       "}\n",
       "\n",
       "#sk-container-id-2 div.sk-estimator.fitted {\n",
       "  /* fitted */\n",
       "  background-color: var(--sklearn-color-fitted-level-0);\n",
       "}\n",
       "\n",
       "/* on hover */\n",
       "#sk-container-id-2 div.sk-estimator:hover {\n",
       "  /* unfitted */\n",
       "  background-color: var(--sklearn-color-unfitted-level-2);\n",
       "}\n",
       "\n",
       "#sk-container-id-2 div.sk-estimator.fitted:hover {\n",
       "  /* fitted */\n",
       "  background-color: var(--sklearn-color-fitted-level-2);\n",
       "}\n",
       "\n",
       "/* Specification for estimator info (e.g. \"i\" and \"?\") */\n",
       "\n",
       "/* Common style for \"i\" and \"?\" */\n",
       "\n",
       ".sk-estimator-doc-link,\n",
       "a:link.sk-estimator-doc-link,\n",
       "a:visited.sk-estimator-doc-link {\n",
       "  float: right;\n",
       "  font-size: smaller;\n",
       "  line-height: 1em;\n",
       "  font-family: monospace;\n",
       "  background-color: var(--sklearn-color-background);\n",
       "  border-radius: 1em;\n",
       "  height: 1em;\n",
       "  width: 1em;\n",
       "  text-decoration: none !important;\n",
       "  margin-left: 1ex;\n",
       "  /* unfitted */\n",
       "  border: var(--sklearn-color-unfitted-level-1) 1pt solid;\n",
       "  color: var(--sklearn-color-unfitted-level-1);\n",
       "}\n",
       "\n",
       ".sk-estimator-doc-link.fitted,\n",
       "a:link.sk-estimator-doc-link.fitted,\n",
       "a:visited.sk-estimator-doc-link.fitted {\n",
       "  /* fitted */\n",
       "  border: var(--sklearn-color-fitted-level-1) 1pt solid;\n",
       "  color: var(--sklearn-color-fitted-level-1);\n",
       "}\n",
       "\n",
       "/* On hover */\n",
       "div.sk-estimator:hover .sk-estimator-doc-link:hover,\n",
       ".sk-estimator-doc-link:hover,\n",
       "div.sk-label-container:hover .sk-estimator-doc-link:hover,\n",
       ".sk-estimator-doc-link:hover {\n",
       "  /* unfitted */\n",
       "  background-color: var(--sklearn-color-unfitted-level-3);\n",
       "  color: var(--sklearn-color-background);\n",
       "  text-decoration: none;\n",
       "}\n",
       "\n",
       "div.sk-estimator.fitted:hover .sk-estimator-doc-link.fitted:hover,\n",
       ".sk-estimator-doc-link.fitted:hover,\n",
       "div.sk-label-container:hover .sk-estimator-doc-link.fitted:hover,\n",
       ".sk-estimator-doc-link.fitted:hover {\n",
       "  /* fitted */\n",
       "  background-color: var(--sklearn-color-fitted-level-3);\n",
       "  color: var(--sklearn-color-background);\n",
       "  text-decoration: none;\n",
       "}\n",
       "\n",
       "/* Span, style for the box shown on hovering the info icon */\n",
       ".sk-estimator-doc-link span {\n",
       "  display: none;\n",
       "  z-index: 9999;\n",
       "  position: relative;\n",
       "  font-weight: normal;\n",
       "  right: .2ex;\n",
       "  padding: .5ex;\n",
       "  margin: .5ex;\n",
       "  width: min-content;\n",
       "  min-width: 20ex;\n",
       "  max-width: 50ex;\n",
       "  color: var(--sklearn-color-text);\n",
       "  box-shadow: 2pt 2pt 4pt #999;\n",
       "  /* unfitted */\n",
       "  background: var(--sklearn-color-unfitted-level-0);\n",
       "  border: .5pt solid var(--sklearn-color-unfitted-level-3);\n",
       "}\n",
       "\n",
       ".sk-estimator-doc-link.fitted span {\n",
       "  /* fitted */\n",
       "  background: var(--sklearn-color-fitted-level-0);\n",
       "  border: var(--sklearn-color-fitted-level-3);\n",
       "}\n",
       "\n",
       ".sk-estimator-doc-link:hover span {\n",
       "  display: block;\n",
       "}\n",
       "\n",
       "/* \"?\"-specific style due to the `<a>` HTML tag */\n",
       "\n",
       "#sk-container-id-2 a.estimator_doc_link {\n",
       "  float: right;\n",
       "  font-size: 1rem;\n",
       "  line-height: 1em;\n",
       "  font-family: monospace;\n",
       "  background-color: var(--sklearn-color-background);\n",
       "  border-radius: 1rem;\n",
       "  height: 1rem;\n",
       "  width: 1rem;\n",
       "  text-decoration: none;\n",
       "  /* unfitted */\n",
       "  color: var(--sklearn-color-unfitted-level-1);\n",
       "  border: var(--sklearn-color-unfitted-level-1) 1pt solid;\n",
       "}\n",
       "\n",
       "#sk-container-id-2 a.estimator_doc_link.fitted {\n",
       "  /* fitted */\n",
       "  border: var(--sklearn-color-fitted-level-1) 1pt solid;\n",
       "  color: var(--sklearn-color-fitted-level-1);\n",
       "}\n",
       "\n",
       "/* On hover */\n",
       "#sk-container-id-2 a.estimator_doc_link:hover {\n",
       "  /* unfitted */\n",
       "  background-color: var(--sklearn-color-unfitted-level-3);\n",
       "  color: var(--sklearn-color-background);\n",
       "  text-decoration: none;\n",
       "}\n",
       "\n",
       "#sk-container-id-2 a.estimator_doc_link.fitted:hover {\n",
       "  /* fitted */\n",
       "  background-color: var(--sklearn-color-fitted-level-3);\n",
       "}\n",
       "</style><div id=\"sk-container-id-2\" class=\"sk-top-container\"><div class=\"sk-text-repr-fallback\"><pre>ColumnTransformer(remainder=&#x27;passthrough&#x27;,\n",
       "                  transformers=[(&#x27;cat_impute_freq&#x27;,\n",
       "                                 Pipeline(steps=[(&#x27;freq_imputer&#x27;,\n",
       "                                                  SimpleImputer(strategy=&#x27;most_frequent&#x27;))]),\n",
       "                                 [&#x27;condition&#x27;, &#x27;car_make&#x27;, &#x27;year&#x27;, &#x27;kilometers&#x27;,\n",
       "                                  &#x27;body_type&#x27;, &#x27;num_of_seats&#x27;, &#x27;fuel&#x27;,\n",
       "                                  &#x27;transmission&#x27;, &#x27;exterior_color&#x27;,\n",
       "                                  &#x27;interior_color&#x27;, &#x27;regional_specs&#x27;,\n",
       "                                  &#x27;car_license&#x27;, &#x27;insurance&#x27;, &#x27;car_customs&#x27;,\n",
       "                                  &#x27;body_condition&#x27;...\n",
       "                                 [&#x27;trim&#x27;, &#x27;engine_size_cc&#x27;, &#x27;battery_capacity&#x27;,\n",
       "                                  &#x27;battery_range&#x27;, &#x27;neighborhood&#x27;]),\n",
       "                                (&#x27;model_impute&#x27;,\n",
       "                                 Pipeline(steps=[(&#x27;group_imputer&#x27;,\n",
       "                                                  GroupBasedModeImputer(group_col=&#x27;car_make&#x27;,\n",
       "                                                                        target_col=&#x27;model&#x27;))]),\n",
       "                                 [&#x27;car_make&#x27;, &#x27;model&#x27;]),\n",
       "                                (&#x27;drop&#x27;, &#x27;drop&#x27;,\n",
       "                                 [&#x27;id&#x27;, &#x27;scraped_time&#x27;, &#x27;price&#x27;, &#x27;category&#x27;,\n",
       "                                  &#x27;subcategory&#x27;, &#x27;description_score&#x27;]),\n",
       "                                (&#x27;options&#x27;, &#x27;drop&#x27;,\n",
       "                                 [&#x27;interior_options&#x27;, &#x27;exterior_options&#x27;,\n",
       "                                  &#x27;technology_options&#x27;])])</pre><b>In a Jupyter environment, please rerun this cell to show the HTML representation or trust the notebook. <br />On GitHub, the HTML representation is unable to render, please try loading this page with nbviewer.org.</b></div><div class=\"sk-container\" hidden><div class=\"sk-item sk-dashed-wrapped\"><div class=\"sk-label-container\"><div class=\"sk-label fitted sk-toggleable\"><input class=\"sk-toggleable__control sk-hidden--visually\" id=\"sk-estimator-id-14\" type=\"checkbox\" ><label for=\"sk-estimator-id-14\" class=\"sk-toggleable__label fitted sk-toggleable__label-arrow fitted\">&nbsp;&nbsp;ColumnTransformer<a class=\"sk-estimator-doc-link fitted\" rel=\"noreferrer\" target=\"_blank\" href=\"https://scikit-learn.org/1.5/modules/generated/sklearn.compose.ColumnTransformer.html\">?<span>Documentation for ColumnTransformer</span></a><span class=\"sk-estimator-doc-link fitted\">i<span>Fitted</span></span></label><div class=\"sk-toggleable__content fitted\"><pre>ColumnTransformer(remainder=&#x27;passthrough&#x27;,\n",
       "                  transformers=[(&#x27;cat_impute_freq&#x27;,\n",
       "                                 Pipeline(steps=[(&#x27;freq_imputer&#x27;,\n",
       "                                                  SimpleImputer(strategy=&#x27;most_frequent&#x27;))]),\n",
       "                                 [&#x27;condition&#x27;, &#x27;car_make&#x27;, &#x27;year&#x27;, &#x27;kilometers&#x27;,\n",
       "                                  &#x27;body_type&#x27;, &#x27;num_of_seats&#x27;, &#x27;fuel&#x27;,\n",
       "                                  &#x27;transmission&#x27;, &#x27;exterior_color&#x27;,\n",
       "                                  &#x27;interior_color&#x27;, &#x27;regional_specs&#x27;,\n",
       "                                  &#x27;car_license&#x27;, &#x27;insurance&#x27;, &#x27;car_customs&#x27;,\n",
       "                                  &#x27;body_condition&#x27;...\n",
       "                                 [&#x27;trim&#x27;, &#x27;engine_size_cc&#x27;, &#x27;battery_capacity&#x27;,\n",
       "                                  &#x27;battery_range&#x27;, &#x27;neighborhood&#x27;]),\n",
       "                                (&#x27;model_impute&#x27;,\n",
       "                                 Pipeline(steps=[(&#x27;group_imputer&#x27;,\n",
       "                                                  GroupBasedModeImputer(group_col=&#x27;car_make&#x27;,\n",
       "                                                                        target_col=&#x27;model&#x27;))]),\n",
       "                                 [&#x27;car_make&#x27;, &#x27;model&#x27;]),\n",
       "                                (&#x27;drop&#x27;, &#x27;drop&#x27;,\n",
       "                                 [&#x27;id&#x27;, &#x27;scraped_time&#x27;, &#x27;price&#x27;, &#x27;category&#x27;,\n",
       "                                  &#x27;subcategory&#x27;, &#x27;description_score&#x27;]),\n",
       "                                (&#x27;options&#x27;, &#x27;drop&#x27;,\n",
       "                                 [&#x27;interior_options&#x27;, &#x27;exterior_options&#x27;,\n",
       "                                  &#x27;technology_options&#x27;])])</pre></div> </div></div><div class=\"sk-parallel\"><div class=\"sk-parallel-item\"><div class=\"sk-item\"><div class=\"sk-label-container\"><div class=\"sk-label fitted sk-toggleable\"><input class=\"sk-toggleable__control sk-hidden--visually\" id=\"sk-estimator-id-15\" type=\"checkbox\" ><label for=\"sk-estimator-id-15\" class=\"sk-toggleable__label fitted sk-toggleable__label-arrow fitted\">cat_impute_freq</label><div class=\"sk-toggleable__content fitted\"><pre>[&#x27;condition&#x27;, &#x27;car_make&#x27;, &#x27;year&#x27;, &#x27;kilometers&#x27;, &#x27;body_type&#x27;, &#x27;num_of_seats&#x27;, &#x27;fuel&#x27;, &#x27;transmission&#x27;, &#x27;exterior_color&#x27;, &#x27;interior_color&#x27;, &#x27;regional_specs&#x27;, &#x27;car_license&#x27;, &#x27;insurance&#x27;, &#x27;car_customs&#x27;, &#x27;body_condition&#x27;, &#x27;paint&#x27;, &#x27;payment_method&#x27;, &#x27;city&#x27;]</pre></div> </div></div><div class=\"sk-serial\"><div class=\"sk-item\"><div class=\"sk-serial\"><div class=\"sk-item\"><div class=\"sk-estimator fitted sk-toggleable\"><input class=\"sk-toggleable__control sk-hidden--visually\" id=\"sk-estimator-id-16\" type=\"checkbox\" ><label for=\"sk-estimator-id-16\" class=\"sk-toggleable__label fitted sk-toggleable__label-arrow fitted\">&nbsp;SimpleImputer<a class=\"sk-estimator-doc-link fitted\" rel=\"noreferrer\" target=\"_blank\" href=\"https://scikit-learn.org/1.5/modules/generated/sklearn.impute.SimpleImputer.html\">?<span>Documentation for SimpleImputer</span></a></label><div class=\"sk-toggleable__content fitted\"><pre>SimpleImputer(strategy=&#x27;most_frequent&#x27;)</pre></div> </div></div></div></div></div></div></div><div class=\"sk-parallel-item\"><div class=\"sk-item\"><div class=\"sk-label-container\"><div class=\"sk-label fitted sk-toggleable\"><input class=\"sk-toggleable__control sk-hidden--visually\" id=\"sk-estimator-id-17\" type=\"checkbox\" ><label for=\"sk-estimator-id-17\" class=\"sk-toggleable__label fitted sk-toggleable__label-arrow fitted\">cat_impute_zero</label><div class=\"sk-toggleable__content fitted\"><pre>[&#x27;trim&#x27;, &#x27;engine_size_cc&#x27;, &#x27;battery_capacity&#x27;, &#x27;battery_range&#x27;, &#x27;neighborhood&#x27;]</pre></div> </div></div><div class=\"sk-serial\"><div class=\"sk-item\"><div class=\"sk-serial\"><div class=\"sk-item\"><div class=\"sk-estimator fitted sk-toggleable\"><input class=\"sk-toggleable__control sk-hidden--visually\" id=\"sk-estimator-id-18\" type=\"checkbox\" ><label for=\"sk-estimator-id-18\" class=\"sk-toggleable__label fitted sk-toggleable__label-arrow fitted\">&nbsp;SimpleImputer<a class=\"sk-estimator-doc-link fitted\" rel=\"noreferrer\" target=\"_blank\" href=\"https://scikit-learn.org/1.5/modules/generated/sklearn.impute.SimpleImputer.html\">?<span>Documentation for SimpleImputer</span></a></label><div class=\"sk-toggleable__content fitted\"><pre>SimpleImputer(fill_value=0, strategy=&#x27;constant&#x27;)</pre></div> </div></div></div></div></div></div></div><div class=\"sk-parallel-item\"><div class=\"sk-item\"><div class=\"sk-label-container\"><div class=\"sk-label fitted sk-toggleable\"><input class=\"sk-toggleable__control sk-hidden--visually\" id=\"sk-estimator-id-19\" type=\"checkbox\" ><label for=\"sk-estimator-id-19\" class=\"sk-toggleable__label fitted sk-toggleable__label-arrow fitted\">model_impute</label><div class=\"sk-toggleable__content fitted\"><pre>[&#x27;car_make&#x27;, &#x27;model&#x27;]</pre></div> </div></div><div class=\"sk-serial\"><div class=\"sk-item\"><div class=\"sk-serial\"><div class=\"sk-item\"><div class=\"sk-estimator fitted sk-toggleable\"><input class=\"sk-toggleable__control sk-hidden--visually\" id=\"sk-estimator-id-20\" type=\"checkbox\" ><label for=\"sk-estimator-id-20\" class=\"sk-toggleable__label fitted sk-toggleable__label-arrow fitted\">GroupBasedModeImputer</label><div class=\"sk-toggleable__content fitted\"><pre>GroupBasedModeImputer(group_col=&#x27;car_make&#x27;, target_col=&#x27;model&#x27;)</pre></div> </div></div></div></div></div></div></div><div class=\"sk-parallel-item\"><div class=\"sk-item\"><div class=\"sk-label-container\"><div class=\"sk-label fitted sk-toggleable\"><input class=\"sk-toggleable__control sk-hidden--visually\" id=\"sk-estimator-id-21\" type=\"checkbox\" ><label for=\"sk-estimator-id-21\" class=\"sk-toggleable__label fitted sk-toggleable__label-arrow fitted\">drop</label><div class=\"sk-toggleable__content fitted\"><pre>[&#x27;id&#x27;, &#x27;scraped_time&#x27;, &#x27;price&#x27;, &#x27;category&#x27;, &#x27;subcategory&#x27;, &#x27;description_score&#x27;]</pre></div> </div></div><div class=\"sk-serial\"><div class=\"sk-item\"><div class=\"sk-estimator fitted sk-toggleable\"><input class=\"sk-toggleable__control sk-hidden--visually\" id=\"sk-estimator-id-22\" type=\"checkbox\" ><label for=\"sk-estimator-id-22\" class=\"sk-toggleable__label fitted sk-toggleable__label-arrow fitted\">drop</label><div class=\"sk-toggleable__content fitted\"><pre>drop</pre></div> </div></div></div></div></div><div class=\"sk-parallel-item\"><div class=\"sk-item\"><div class=\"sk-label-container\"><div class=\"sk-label fitted sk-toggleable\"><input class=\"sk-toggleable__control sk-hidden--visually\" id=\"sk-estimator-id-23\" type=\"checkbox\" ><label for=\"sk-estimator-id-23\" class=\"sk-toggleable__label fitted sk-toggleable__label-arrow fitted\">options</label><div class=\"sk-toggleable__content fitted\"><pre>[&#x27;interior_options&#x27;, &#x27;exterior_options&#x27;, &#x27;technology_options&#x27;]</pre></div> </div></div><div class=\"sk-serial\"><div class=\"sk-item\"><div class=\"sk-estimator fitted sk-toggleable\"><input class=\"sk-toggleable__control sk-hidden--visually\" id=\"sk-estimator-id-24\" type=\"checkbox\" ><label for=\"sk-estimator-id-24\" class=\"sk-toggleable__label fitted sk-toggleable__label-arrow fitted\">drop</label><div class=\"sk-toggleable__content fitted\"><pre>drop</pre></div> </div></div></div></div></div><div class=\"sk-parallel-item\"><div class=\"sk-item\"><div class=\"sk-label-container\"><div class=\"sk-label fitted sk-toggleable\"><input class=\"sk-toggleable__control sk-hidden--visually\" id=\"sk-estimator-id-25\" type=\"checkbox\" ><label for=\"sk-estimator-id-25\" class=\"sk-toggleable__label fitted sk-toggleable__label-arrow fitted\">remainder</label><div class=\"sk-toggleable__content fitted\"><pre>[]</pre></div> </div></div><div class=\"sk-serial\"><div class=\"sk-item\"><div class=\"sk-estimator fitted sk-toggleable\"><input class=\"sk-toggleable__control sk-hidden--visually\" id=\"sk-estimator-id-26\" type=\"checkbox\" ><label for=\"sk-estimator-id-26\" class=\"sk-toggleable__label fitted sk-toggleable__label-arrow fitted\">passthrough</label><div class=\"sk-toggleable__content fitted\"><pre>passthrough</pre></div> </div></div></div></div></div></div></div></div></div>"
      ],
      "text/plain": [
       "ColumnTransformer(remainder='passthrough',\n",
       "                  transformers=[('cat_impute_freq',\n",
       "                                 Pipeline(steps=[('freq_imputer',\n",
       "                                                  SimpleImputer(strategy='most_frequent'))]),\n",
       "                                 ['condition', 'car_make', 'year', 'kilometers',\n",
       "                                  'body_type', 'num_of_seats', 'fuel',\n",
       "                                  'transmission', 'exterior_color',\n",
       "                                  'interior_color', 'regional_specs',\n",
       "                                  'car_license', 'insurance', 'car_customs',\n",
       "                                  'body_condition'...\n",
       "                                 ['trim', 'engine_size_cc', 'battery_capacity',\n",
       "                                  'battery_range', 'neighborhood']),\n",
       "                                ('model_impute',\n",
       "                                 Pipeline(steps=[('group_imputer',\n",
       "                                                  GroupBasedModeImputer(group_col='car_make',\n",
       "                                                                        target_col='model'))]),\n",
       "                                 ['car_make', 'model']),\n",
       "                                ('drop', 'drop',\n",
       "                                 ['id', 'scraped_time', 'price', 'category',\n",
       "                                  'subcategory', 'description_score']),\n",
       "                                ('options', 'drop',\n",
       "                                 ['interior_options', 'exterior_options',\n",
       "                                  'technology_options'])])"
      ]
     },
     "execution_count": 216,
     "metadata": {},
     "output_type": "execute_result"
    }
   ],
   "source": [
    "preprocessor.fit(train_csv)"
   ]
  },
  {
   "cell_type": "code",
   "execution_count": 217,
   "id": "79b82314",
   "metadata": {},
   "outputs": [],
   "source": [
    "train_csv_processed = preprocessor.transform(train_csv)"
   ]
  },
  {
   "cell_type": "code",
   "execution_count": 218,
   "id": "c62b98d7",
   "metadata": {},
   "outputs": [
    {
     "data": {
      "text/plain": [
       "(7478, 24)"
      ]
     },
     "execution_count": 218,
     "metadata": {},
     "output_type": "execute_result"
    }
   ],
   "source": [
    "train_csv_processed.shape"
   ]
  },
  {
   "cell_type": "code",
   "execution_count": 223,
   "id": "9841fc24",
   "metadata": {},
   "outputs": [],
   "source": [
    "processed_df = pd.DataFrame(train_csv_processed)"
   ]
  },
  {
   "cell_type": "markdown",
   "id": "4126f5cc",
   "metadata": {},
   "source": [
    "Checking if there are still any null values"
   ]
  },
  {
   "cell_type": "code",
   "execution_count": 225,
   "id": "146a51a6",
   "metadata": {},
   "outputs": [
    {
     "name": "stdout",
     "output_type": "stream",
     "text": [
      "Contains NaN: True\n"
     ]
    }
   ],
   "source": [
    "has_nan = processed_df.isnull().values.any()\n",
    "print('Contains NaN:', has_nan)"
   ]
  },
  {
   "cell_type": "code",
   "execution_count": 226,
   "id": "7574f556",
   "metadata": {},
   "outputs": [
    {
     "name": "stdout",
     "output_type": "stream",
     "text": [
      "23    3\n",
      "dtype: int64\n"
     ]
    }
   ],
   "source": [
    "nan_cols = processed_df.isnull().sum()\n",
    "print(nan_cols[nan_cols > 0])"
   ]
  },
  {
   "cell_type": "markdown",
   "id": "cfa27ef6",
   "metadata": {},
   "source": [
    "Last column - 'model' has NaN"
   ]
  },
  {
   "cell_type": "code",
   "execution_count": 231,
   "id": "dd1b95d5",
   "metadata": {},
   "outputs": [
    {
     "data": {
      "text/html": [
       "<div>\n",
       "<style scoped>\n",
       "    .dataframe tbody tr th:only-of-type {\n",
       "        vertical-align: middle;\n",
       "    }\n",
       "\n",
       "    .dataframe tbody tr th {\n",
       "        vertical-align: top;\n",
       "    }\n",
       "\n",
       "    .dataframe thead th {\n",
       "        text-align: right;\n",
       "    }\n",
       "</style>\n",
       "<table border=\"1\" class=\"dataframe\">\n",
       "  <thead>\n",
       "    <tr style=\"text-align: right;\">\n",
       "      <th></th>\n",
       "      <th>0</th>\n",
       "      <th>1</th>\n",
       "      <th>2</th>\n",
       "      <th>3</th>\n",
       "      <th>4</th>\n",
       "      <th>5</th>\n",
       "      <th>6</th>\n",
       "      <th>7</th>\n",
       "      <th>8</th>\n",
       "      <th>9</th>\n",
       "      <th>...</th>\n",
       "      <th>14</th>\n",
       "      <th>15</th>\n",
       "      <th>16</th>\n",
       "      <th>17</th>\n",
       "      <th>18</th>\n",
       "      <th>19</th>\n",
       "      <th>20</th>\n",
       "      <th>21</th>\n",
       "      <th>22</th>\n",
       "      <th>23</th>\n",
       "    </tr>\n",
       "  </thead>\n",
       "  <tbody>\n",
       "    <tr>\n",
       "      <th>175</th>\n",
       "      <td>Used</td>\n",
       "      <td>Hyundai</td>\n",
       "      <td>2022</td>\n",
       "      <td>+200,000</td>\n",
       "      <td>Sedan</td>\n",
       "      <td>5</td>\n",
       "      <td>Gasoline</td>\n",
       "      <td>Automatic</td>\n",
       "      <td>White</td>\n",
       "      <td>Black</td>\n",
       "      <td>...</td>\n",
       "      <td>Excellent with no defects</td>\n",
       "      <td>Original Paint</td>\n",
       "      <td>Cash Only</td>\n",
       "      <td>Amman</td>\n",
       "      <td>0</td>\n",
       "      <td>0</td>\n",
       "      <td>0</td>\n",
       "      <td>0</td>\n",
       "      <td>Khalda</td>\n",
       "      <td>NaN</td>\n",
       "    </tr>\n",
       "    <tr>\n",
       "      <th>913</th>\n",
       "      <td>Used</td>\n",
       "      <td>Hyundai</td>\n",
       "      <td>2022</td>\n",
       "      <td>+200,000</td>\n",
       "      <td>Sedan</td>\n",
       "      <td>5</td>\n",
       "      <td>Gasoline</td>\n",
       "      <td>Automatic</td>\n",
       "      <td>White</td>\n",
       "      <td>Black</td>\n",
       "      <td>...</td>\n",
       "      <td>Excellent with no defects</td>\n",
       "      <td>Original Paint</td>\n",
       "      <td>Cash Only</td>\n",
       "      <td>Zarqa</td>\n",
       "      <td>0</td>\n",
       "      <td>0</td>\n",
       "      <td>0</td>\n",
       "      <td>0</td>\n",
       "      <td>Russayfah</td>\n",
       "      <td>NaN</td>\n",
       "    </tr>\n",
       "    <tr>\n",
       "      <th>7067</th>\n",
       "      <td>Used</td>\n",
       "      <td>Hyundai</td>\n",
       "      <td>2022</td>\n",
       "      <td>+200,000</td>\n",
       "      <td>Sedan</td>\n",
       "      <td>5</td>\n",
       "      <td>Gasoline</td>\n",
       "      <td>Automatic</td>\n",
       "      <td>White</td>\n",
       "      <td>Black</td>\n",
       "      <td>...</td>\n",
       "      <td>Excellent with no defects</td>\n",
       "      <td>Original Paint</td>\n",
       "      <td>Cash Only</td>\n",
       "      <td>Irbid</td>\n",
       "      <td>0</td>\n",
       "      <td>0</td>\n",
       "      <td>0</td>\n",
       "      <td>0</td>\n",
       "      <td>Al Hay Al Sharqy</td>\n",
       "      <td>NaN</td>\n",
       "    </tr>\n",
       "  </tbody>\n",
       "</table>\n",
       "<p>3 rows × 24 columns</p>\n",
       "</div>"
      ],
      "text/plain": [
       "        0        1     2         3      4  5         6          7      8   \\\n",
       "175   Used  Hyundai  2022  +200,000  Sedan  5  Gasoline  Automatic  White   \n",
       "913   Used  Hyundai  2022  +200,000  Sedan  5  Gasoline  Automatic  White   \n",
       "7067  Used  Hyundai  2022  +200,000  Sedan  5  Gasoline  Automatic  White   \n",
       "\n",
       "         9   ...                         14              15         16     17  \\\n",
       "175   Black  ...  Excellent with no defects  Original Paint  Cash Only  Amman   \n",
       "913   Black  ...  Excellent with no defects  Original Paint  Cash Only  Zarqa   \n",
       "7067  Black  ...  Excellent with no defects  Original Paint  Cash Only  Irbid   \n",
       "\n",
       "     18 19 20 21                22   23  \n",
       "175   0  0  0  0            Khalda  NaN  \n",
       "913   0  0  0  0         Russayfah  NaN  \n",
       "7067  0  0  0  0  Al Hay Al Sharqy  NaN  \n",
       "\n",
       "[3 rows x 24 columns]"
      ]
     },
     "execution_count": 231,
     "metadata": {},
     "output_type": "execute_result"
    }
   ],
   "source": [
    "processed_df[processed_df.isnull().sum(axis=1) > 0]"
   ]
  },
  {
   "cell_type": "markdown",
   "id": "15f008ee",
   "metadata": {},
   "source": [
    "In the original df, the same 3 rows had NaN values. These rows have NaN values for all important columns. So, it is better to drop them."
   ]
  },
  {
   "cell_type": "code",
   "execution_count": 234,
   "id": "f522091f",
   "metadata": {},
   "outputs": [
    {
     "data": {
      "text/html": [
       "<div>\n",
       "<style scoped>\n",
       "    .dataframe tbody tr th:only-of-type {\n",
       "        vertical-align: middle;\n",
       "    }\n",
       "\n",
       "    .dataframe tbody tr th {\n",
       "        vertical-align: top;\n",
       "    }\n",
       "\n",
       "    .dataframe thead th {\n",
       "        text-align: right;\n",
       "    }\n",
       "</style>\n",
       "<table border=\"1\" class=\"dataframe\">\n",
       "  <thead>\n",
       "    <tr style=\"text-align: right;\">\n",
       "      <th></th>\n",
       "      <th>id</th>\n",
       "      <th>scraped_time</th>\n",
       "      <th>condition</th>\n",
       "      <th>car_make</th>\n",
       "      <th>model</th>\n",
       "      <th>trim</th>\n",
       "      <th>year</th>\n",
       "      <th>kilometers</th>\n",
       "      <th>body_type</th>\n",
       "      <th>num_of_seats</th>\n",
       "      <th>...</th>\n",
       "      <th>neighborhood</th>\n",
       "      <th>category</th>\n",
       "      <th>subcategory</th>\n",
       "      <th>interior_options</th>\n",
       "      <th>exterior_options</th>\n",
       "      <th>technology_options</th>\n",
       "      <th>description_score</th>\n",
       "      <th>battery_capacity</th>\n",
       "      <th>battery_range</th>\n",
       "      <th>price</th>\n",
       "    </tr>\n",
       "  </thead>\n",
       "  <tbody>\n",
       "    <tr>\n",
       "      <th>175</th>\n",
       "      <td>176</td>\n",
       "      <td>2025-02-07 12:59:20</td>\n",
       "      <td>NaN</td>\n",
       "      <td>NaN</td>\n",
       "      <td>NaN</td>\n",
       "      <td>NaN</td>\n",
       "      <td>NaN</td>\n",
       "      <td>NaN</td>\n",
       "      <td>NaN</td>\n",
       "      <td>NaN</td>\n",
       "      <td>...</td>\n",
       "      <td>Khalda</td>\n",
       "      <td>Cars and Bikes</td>\n",
       "      <td>Cars For Sale</td>\n",
       "      <td>NaN</td>\n",
       "      <td>NaN</td>\n",
       "      <td>NaN</td>\n",
       "      <td>NaN</td>\n",
       "      <td>NaN</td>\n",
       "      <td>NaN</td>\n",
       "      <td>1750.0</td>\n",
       "    </tr>\n",
       "    <tr>\n",
       "      <th>913</th>\n",
       "      <td>914</td>\n",
       "      <td>2025-02-07 12:52:11</td>\n",
       "      <td>NaN</td>\n",
       "      <td>NaN</td>\n",
       "      <td>NaN</td>\n",
       "      <td>NaN</td>\n",
       "      <td>NaN</td>\n",
       "      <td>NaN</td>\n",
       "      <td>NaN</td>\n",
       "      <td>NaN</td>\n",
       "      <td>...</td>\n",
       "      <td>Russayfah</td>\n",
       "      <td>Cars and Bikes</td>\n",
       "      <td>Cars For Sale</td>\n",
       "      <td>NaN</td>\n",
       "      <td>NaN</td>\n",
       "      <td>NaN</td>\n",
       "      <td>NaN</td>\n",
       "      <td>NaN</td>\n",
       "      <td>NaN</td>\n",
       "      <td>2000.0</td>\n",
       "    </tr>\n",
       "    <tr>\n",
       "      <th>7067</th>\n",
       "      <td>7068</td>\n",
       "      <td>2025-02-07 13:20:26</td>\n",
       "      <td>NaN</td>\n",
       "      <td>NaN</td>\n",
       "      <td>NaN</td>\n",
       "      <td>NaN</td>\n",
       "      <td>NaN</td>\n",
       "      <td>NaN</td>\n",
       "      <td>NaN</td>\n",
       "      <td>NaN</td>\n",
       "      <td>...</td>\n",
       "      <td>Al Hay Al Sharqy</td>\n",
       "      <td>Cars and Bikes</td>\n",
       "      <td>Cars For Sale</td>\n",
       "      <td>NaN</td>\n",
       "      <td>NaN</td>\n",
       "      <td>NaN</td>\n",
       "      <td>NaN</td>\n",
       "      <td>NaN</td>\n",
       "      <td>NaN</td>\n",
       "      <td>1250.0</td>\n",
       "    </tr>\n",
       "  </tbody>\n",
       "</table>\n",
       "<p>3 rows × 33 columns</p>\n",
       "</div>"
      ],
      "text/plain": [
       "        id         scraped_time condition car_make model trim year kilometers  \\\n",
       "175    176  2025-02-07 12:59:20       NaN      NaN   NaN  NaN  NaN        NaN   \n",
       "913    914  2025-02-07 12:52:11       NaN      NaN   NaN  NaN  NaN        NaN   \n",
       "7067  7068  2025-02-07 13:20:26       NaN      NaN   NaN  NaN  NaN        NaN   \n",
       "\n",
       "     body_type num_of_seats  ...      neighborhood        category  \\\n",
       "175        NaN          NaN  ...            Khalda  Cars and Bikes   \n",
       "913        NaN          NaN  ...         Russayfah  Cars and Bikes   \n",
       "7067       NaN          NaN  ...  Al Hay Al Sharqy  Cars and Bikes   \n",
       "\n",
       "        subcategory interior_options exterior_options technology_options  \\\n",
       "175   Cars For Sale              NaN              NaN                NaN   \n",
       "913   Cars For Sale              NaN              NaN                NaN   \n",
       "7067  Cars For Sale              NaN              NaN                NaN   \n",
       "\n",
       "     description_score battery_capacity battery_range   price  \n",
       "175                NaN              NaN           NaN  1750.0  \n",
       "913                NaN              NaN           NaN  2000.0  \n",
       "7067               NaN              NaN           NaN  1250.0  \n",
       "\n",
       "[3 rows x 33 columns]"
      ]
     },
     "execution_count": 234,
     "metadata": {},
     "output_type": "execute_result"
    }
   ],
   "source": [
    "train_csv[train_csv['model'].isnull()]"
   ]
  },
  {
   "cell_type": "markdown",
   "id": "862df024",
   "metadata": {},
   "source": [
    "I will use this preprocessor pipeline along with an estimator to create a baseline model.\n",
    "\n",
    "The three features — ['interior_options', 'exterior_options', 'technology_options'] will be processed next for 2nd version of the model."
   ]
  },
  {
   "cell_type": "markdown",
   "id": "22326a17",
   "metadata": {},
   "source": [
    "## Options Custom Transformer"
   ]
  },
  {
   "cell_type": "code",
   "execution_count": 207,
   "id": "800f8227",
   "metadata": {},
   "outputs": [],
   "source": [
    "class MultiLabelBinarizerTransformer(BaseEstimator, TransformerMixin):\n",
    "    def __init__(self, columns=None):\n",
    "        self.columns = columns\n",
    "        self.encoders = {}\n",
    "\n",
    "    def fit(self, X, y=None):\n",
    "        for col in self.columns:\n",
    "            cleaned = X[col].fillna('').apply(lambda x: [i.strip() for i in str(x).split(',') if i.strip()])\n",
    "            mlb = MultiLabelBinarizer()\n",
    "            mlb.fit(cleaned)\n",
    "            self.encoders[col] = mlb\n",
    "        return self\n",
    "    \n",
    "    def transform(self, X):\n",
    "        outputs = []\n",
    "        for col in self.columns:\n",
    "            cleaned = X[col].fillna('').apply(lambda x: [i.strip() for i in str(x).split(',') if i.strip()])\n",
    "            mlb = self.encoders[col]\n",
    "            transformed = mlb.transform(cleaned)\n",
    "            outputs.append(transformed)\n",
    "        return np.hstack(outputs)\n",
    "    \n",
    "    def get_feature_names_out(self):\n",
    "        return [f'{col}_{cls}' for col, mlb in self.encoders.items() for cls in mlb.classes_]"
   ]
  },
  {
   "cell_type": "markdown",
   "id": "14aac89d",
   "metadata": {},
   "source": [
    "Checking Output"
   ]
  },
  {
   "cell_type": "code",
   "execution_count": 210,
   "id": "ea5b120d",
   "metadata": {},
   "outputs": [],
   "source": [
    "preprocessor2 = ColumnTransformer(transformers=[\n",
    "    ('multiopt', MultiLabelBinarizerTransformer(columns=options_features), options_features)\n",
    "], remainder='passthrough')"
   ]
  },
  {
   "cell_type": "code",
   "execution_count": 211,
   "id": "94801d09",
   "metadata": {},
   "outputs": [],
   "source": [
    "preprocessor2.fit(train_csv)\n",
    "train_csv_processed_2 = preprocessor2.transform(train_csv)"
   ]
  },
  {
   "cell_type": "code",
   "execution_count": 212,
   "id": "72098e2c",
   "metadata": {},
   "outputs": [
    {
     "data": {
      "text/plain": [
       "(7478, 83)"
      ]
     },
     "execution_count": 212,
     "metadata": {},
     "output_type": "execute_result"
    }
   ],
   "source": [
    "train_csv_processed_2.shape"
   ]
  },
  {
   "cell_type": "code",
   "execution_count": 215,
   "id": "61652fe5",
   "metadata": {},
   "outputs": [
    {
     "data": {
      "text/html": [
       "<div>\n",
       "<style scoped>\n",
       "    .dataframe tbody tr th:only-of-type {\n",
       "        vertical-align: middle;\n",
       "    }\n",
       "\n",
       "    .dataframe tbody tr th {\n",
       "        vertical-align: top;\n",
       "    }\n",
       "\n",
       "    .dataframe thead th {\n",
       "        text-align: right;\n",
       "    }\n",
       "</style>\n",
       "<table border=\"1\" class=\"dataframe\">\n",
       "  <thead>\n",
       "    <tr style=\"text-align: right;\">\n",
       "      <th></th>\n",
       "      <th>0</th>\n",
       "      <th>1</th>\n",
       "      <th>2</th>\n",
       "      <th>3</th>\n",
       "      <th>4</th>\n",
       "      <th>5</th>\n",
       "      <th>6</th>\n",
       "      <th>7</th>\n",
       "      <th>8</th>\n",
       "      <th>9</th>\n",
       "      <th>...</th>\n",
       "      <th>45</th>\n",
       "      <th>46</th>\n",
       "      <th>47</th>\n",
       "      <th>48</th>\n",
       "      <th>49</th>\n",
       "      <th>50</th>\n",
       "      <th>51</th>\n",
       "      <th>52</th>\n",
       "      <th>53</th>\n",
       "      <th>54</th>\n",
       "    </tr>\n",
       "  </thead>\n",
       "  <tbody>\n",
       "    <tr>\n",
       "      <th>0</th>\n",
       "      <td>1</td>\n",
       "      <td>1</td>\n",
       "      <td>1</td>\n",
       "      <td>1</td>\n",
       "      <td>1</td>\n",
       "      <td>1</td>\n",
       "      <td>0</td>\n",
       "      <td>1</td>\n",
       "      <td>1</td>\n",
       "      <td>0</td>\n",
       "      <td>...</td>\n",
       "      <td>1</td>\n",
       "      <td>1</td>\n",
       "      <td>1</td>\n",
       "      <td>0</td>\n",
       "      <td>1</td>\n",
       "      <td>1</td>\n",
       "      <td>0</td>\n",
       "      <td>1</td>\n",
       "      <td>1</td>\n",
       "      <td>2025-02-07 01:58:30</td>\n",
       "    </tr>\n",
       "    <tr>\n",
       "      <th>1</th>\n",
       "      <td>1</td>\n",
       "      <td>1</td>\n",
       "      <td>1</td>\n",
       "      <td>1</td>\n",
       "      <td>0</td>\n",
       "      <td>1</td>\n",
       "      <td>0</td>\n",
       "      <td>0</td>\n",
       "      <td>0</td>\n",
       "      <td>0</td>\n",
       "      <td>...</td>\n",
       "      <td>0</td>\n",
       "      <td>0</td>\n",
       "      <td>0</td>\n",
       "      <td>0</td>\n",
       "      <td>0</td>\n",
       "      <td>0</td>\n",
       "      <td>0</td>\n",
       "      <td>0</td>\n",
       "      <td>2</td>\n",
       "      <td>2025-02-07 02:27:18</td>\n",
       "    </tr>\n",
       "    <tr>\n",
       "      <th>2</th>\n",
       "      <td>1</td>\n",
       "      <td>1</td>\n",
       "      <td>1</td>\n",
       "      <td>0</td>\n",
       "      <td>1</td>\n",
       "      <td>1</td>\n",
       "      <td>0</td>\n",
       "      <td>0</td>\n",
       "      <td>1</td>\n",
       "      <td>0</td>\n",
       "      <td>...</td>\n",
       "      <td>0</td>\n",
       "      <td>1</td>\n",
       "      <td>0</td>\n",
       "      <td>0</td>\n",
       "      <td>1</td>\n",
       "      <td>1</td>\n",
       "      <td>1</td>\n",
       "      <td>0</td>\n",
       "      <td>3</td>\n",
       "      <td>2025-02-07 11:55:06</td>\n",
       "    </tr>\n",
       "    <tr>\n",
       "      <th>3</th>\n",
       "      <td>1</td>\n",
       "      <td>1</td>\n",
       "      <td>1</td>\n",
       "      <td>1</td>\n",
       "      <td>0</td>\n",
       "      <td>1</td>\n",
       "      <td>0</td>\n",
       "      <td>1</td>\n",
       "      <td>1</td>\n",
       "      <td>0</td>\n",
       "      <td>...</td>\n",
       "      <td>0</td>\n",
       "      <td>1</td>\n",
       "      <td>0</td>\n",
       "      <td>0</td>\n",
       "      <td>0</td>\n",
       "      <td>1</td>\n",
       "      <td>1</td>\n",
       "      <td>0</td>\n",
       "      <td>4</td>\n",
       "      <td>2025-02-07 13:25:57</td>\n",
       "    </tr>\n",
       "    <tr>\n",
       "      <th>4</th>\n",
       "      <td>1</td>\n",
       "      <td>1</td>\n",
       "      <td>0</td>\n",
       "      <td>0</td>\n",
       "      <td>1</td>\n",
       "      <td>1</td>\n",
       "      <td>0</td>\n",
       "      <td>0</td>\n",
       "      <td>1</td>\n",
       "      <td>0</td>\n",
       "      <td>...</td>\n",
       "      <td>0</td>\n",
       "      <td>0</td>\n",
       "      <td>0</td>\n",
       "      <td>0</td>\n",
       "      <td>0</td>\n",
       "      <td>1</td>\n",
       "      <td>0</td>\n",
       "      <td>0</td>\n",
       "      <td>5</td>\n",
       "      <td>2025-02-07 12:57:00</td>\n",
       "    </tr>\n",
       "  </tbody>\n",
       "</table>\n",
       "<p>5 rows × 55 columns</p>\n",
       "</div>"
      ],
      "text/plain": [
       "  0  1  2  3  4  5  6  7  8  9   ... 45 46 47 48 49 50 51 52 53  \\\n",
       "0  1  1  1  1  1  1  0  1  1  0  ...  1  1  1  0  1  1  0  1  1   \n",
       "1  1  1  1  1  0  1  0  0  0  0  ...  0  0  0  0  0  0  0  0  2   \n",
       "2  1  1  1  0  1  1  0  0  1  0  ...  0  1  0  0  1  1  1  0  3   \n",
       "3  1  1  1  1  0  1  0  1  1  0  ...  0  1  0  0  0  1  1  0  4   \n",
       "4  1  1  0  0  1  1  0  0  1  0  ...  0  0  0  0  0  1  0  0  5   \n",
       "\n",
       "                   54  \n",
       "0 2025-02-07 01:58:30  \n",
       "1 2025-02-07 02:27:18  \n",
       "2 2025-02-07 11:55:06  \n",
       "3 2025-02-07 13:25:57  \n",
       "4 2025-02-07 12:57:00  \n",
       "\n",
       "[5 rows x 55 columns]"
      ]
     },
     "execution_count": 215,
     "metadata": {},
     "output_type": "execute_result"
    }
   ],
   "source": [
    "processed_df_2 = pd.DataFrame(train_csv_processed_2)\n",
    "processed_df_2.iloc[:5, :55]"
   ]
  },
  {
   "cell_type": "code",
   "execution_count": 218,
   "id": "8ed6789c",
   "metadata": {},
   "outputs": [
    {
     "data": {
      "text/plain": [
       "['interior_options_AUX / USB Input',\n",
       " 'interior_options_Air Condition',\n",
       " 'interior_options_Airbags',\n",
       " 'interior_options_Alarm System',\n",
       " 'interior_options_CD player',\n",
       " 'interior_options_Center Lock',\n",
       " 'interior_options_Cooled Seats',\n",
       " 'interior_options_Electric Seat Control',\n",
       " 'interior_options_Electric Windows',\n",
       " 'interior_options_Electric rear seat',\n",
       " 'interior_options_Heated Seats',\n",
       " 'interior_options_Heated Steering Wheel',\n",
       " 'interior_options_Leather Seats',\n",
       " 'interior_options_Memory Seats',\n",
       " 'interior_options_Sport Seats',\n",
       " 'interior_options_Steering Wheel Controls',\n",
       " 'exterior_options_Back Hook',\n",
       " 'exterior_options_Daytime Running Lights',\n",
       " 'exterior_options_Electric Mirrors',\n",
       " 'exterior_options_Electrically Folding Mirrors',\n",
       " 'exterior_options_Front Sensors',\n",
       " 'exterior_options_Keyless Entry',\n",
       " 'exterior_options_LED Lights',\n",
       " 'exterior_options_Panoramic Roof',\n",
       " 'exterior_options_Rear Sensors',\n",
       " 'exterior_options_Rim Wheels',\n",
       " 'exterior_options_Spare Tyre',\n",
       " 'exterior_options_Sports Package',\n",
       " 'exterior_options_Sunroof',\n",
       " 'exterior_options_Xenon Lights',\n",
       " 'technology_options_360° Camera',\n",
       " 'technology_options_ABS Brakes',\n",
       " 'technology_options_Android Auto',\n",
       " 'technology_options_Apple CarPlay',\n",
       " 'technology_options_Auto Lock System',\n",
       " 'technology_options_Blind Spot Alert',\n",
       " 'technology_options_Bluetooth',\n",
       " 'technology_options_Cruise Control',\n",
       " 'technology_options_Diff Lock',\n",
       " 'technology_options_Forward Collision Alert',\n",
       " 'technology_options_Hud Projector',\n",
       " 'technology_options_Lane Departure Alert',\n",
       " 'technology_options_Media Screen',\n",
       " 'technology_options_Navigation system / maps',\n",
       " 'technology_options_Park assist',\n",
       " 'technology_options_Radar',\n",
       " 'technology_options_Rear Camera',\n",
       " 'technology_options_Remote Start',\n",
       " 'technology_options_Sport Suspension',\n",
       " 'technology_options_Touch Screen',\n",
       " 'technology_options_Traction Control',\n",
       " 'technology_options_Tyre Pressure Monitoring',\n",
       " 'technology_options_Voice Control']"
      ]
     },
     "execution_count": 218,
     "metadata": {},
     "output_type": "execute_result"
    }
   ],
   "source": [
    "(preprocessor2.named_transformers_['multiopt'].get_feature_names_out())"
   ]
  },
  {
   "cell_type": "code",
   "execution_count": null,
   "id": "88a868df",
   "metadata": {},
   "outputs": [],
   "source": []
  }
 ],
 "metadata": {
  "kernelspec": {
   "display_name": "base",
   "language": "python",
   "name": "python3"
  },
  "language_info": {
   "codemirror_mode": {
    "name": "ipython",
    "version": 3
   },
   "file_extension": ".py",
   "mimetype": "text/x-python",
   "name": "python",
   "nbconvert_exporter": "python",
   "pygments_lexer": "ipython3",
   "version": "3.12.7"
  }
 },
 "nbformat": 4,
 "nbformat_minor": 5
}
