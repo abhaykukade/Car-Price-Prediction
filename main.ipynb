{
 "cells": [
  {
   "cell_type": "markdown",
   "id": "fe374b59",
   "metadata": {},
   "source": [
    "# APIs"
   ]
  },
  {
   "cell_type": "code",
   "execution_count": 181,
   "id": "8722afdd",
   "metadata": {},
   "outputs": [],
   "source": [
    "import numpy as np\n",
    "import pandas as pd\n",
    "import matplotlib.pyplot as plt\n",
    "from sklearn.model_selection import train_test_split, GridSearchCV, cross_val_score\n",
    "from sklearn.linear_model import LinearRegression\n",
    "from sklearn.ensemble import RandomForestRegressor\n",
    "from sklearn.pipeline import Pipeline, make_pipeline\n",
    "from sklearn.preprocessing import OneHotEncoder\n",
    "from sklearn.compose import ColumnTransformer"
   ]
  },
  {
   "cell_type": "markdown",
   "id": "9340a213",
   "metadata": {},
   "source": [
    "# Approach"
   ]
  },
  {
   "cell_type": "markdown",
   "id": "adaa326e",
   "metadata": {},
   "source": [
    "### Problem Statement\n",
    "Build a ML model to predict recommended sale price for a used car based on past sales trends"
   ]
  },
  {
   "cell_type": "markdown",
   "id": "7358f893",
   "metadata": {},
   "source": [
    "### Model Evaluation\n",
    "\n",
    "The submitted model will be evaluated using Root Mean Squared Error (RMSE) on a hidden test set."
   ]
  },
  {
   "cell_type": "markdown",
   "id": "4d1eb490",
   "metadata": {},
   "source": [
    "### Business Context\n",
    "To be used by individuals to set selling price for their own cars while selling. This will enable them to make an informed decision and set a balanced price for the car, neither too high nor too low."
   ]
  },
  {
   "cell_type": "markdown",
   "id": "e6f288c5",
   "metadata": {},
   "source": [
    "### Model\n",
    "\n",
    "This is a regression task. Our task is to predict 'Price'.\n",
    "\n",
    "Plan:\n",
    "- Check missing values. Impute if required.\n",
    "- Handle categorical variables.\n",
    "- Scaling since we will start with Linear Regression as the Baseline.\n",
    "- Univariate and Bivariate Analysis\n",
    "- Check for outliers\n",
    "- Correlation Analysis\n",
    "- Feature Engineering\n",
    "- Feature Selection\n",
    "- Hyperparameter Tuning"
   ]
  },
  {
   "cell_type": "markdown",
   "id": "b11447a2",
   "metadata": {},
   "source": [
    "# Data Exploration"
   ]
  },
  {
   "cell_type": "markdown",
   "id": "6b10761d",
   "metadata": {},
   "source": [
    "## Loading training data"
   ]
  },
  {
   "cell_type": "code",
   "execution_count": 90,
   "id": "1b89afb1",
   "metadata": {},
   "outputs": [],
   "source": [
    "train_csv = pd.read_csv('data/train.csv')"
   ]
  },
  {
   "cell_type": "code",
   "execution_count": 91,
   "id": "8b77120c",
   "metadata": {},
   "outputs": [
    {
     "data": {
      "text/plain": [
       "(7478, 33)"
      ]
     },
     "execution_count": 91,
     "metadata": {},
     "output_type": "execute_result"
    }
   ],
   "source": [
    "train_csv.shape"
   ]
  },
  {
   "cell_type": "code",
   "execution_count": 92,
   "id": "7d6ca685",
   "metadata": {},
   "outputs": [
    {
     "data": {
      "text/html": [
       "<div>\n",
       "<style scoped>\n",
       "    .dataframe tbody tr th:only-of-type {\n",
       "        vertical-align: middle;\n",
       "    }\n",
       "\n",
       "    .dataframe tbody tr th {\n",
       "        vertical-align: top;\n",
       "    }\n",
       "\n",
       "    .dataframe thead th {\n",
       "        text-align: right;\n",
       "    }\n",
       "</style>\n",
       "<table border=\"1\" class=\"dataframe\">\n",
       "  <thead>\n",
       "    <tr style=\"text-align: right;\">\n",
       "      <th></th>\n",
       "      <th>Id</th>\n",
       "      <th>Scraped_Time</th>\n",
       "      <th>Condition</th>\n",
       "      <th>Car Make</th>\n",
       "      <th>Model</th>\n",
       "      <th>Trim</th>\n",
       "      <th>Year</th>\n",
       "      <th>Kilometers</th>\n",
       "      <th>Body Type</th>\n",
       "      <th>Number of Seats</th>\n",
       "      <th>...</th>\n",
       "      <th>Neighborhood</th>\n",
       "      <th>Category</th>\n",
       "      <th>Subcategory</th>\n",
       "      <th>Interior Options</th>\n",
       "      <th>Exterior Options</th>\n",
       "      <th>Technology Options</th>\n",
       "      <th>Description_Score</th>\n",
       "      <th>Battery Capacity</th>\n",
       "      <th>Battery Range</th>\n",
       "      <th>Price</th>\n",
       "    </tr>\n",
       "  </thead>\n",
       "  <tbody>\n",
       "    <tr>\n",
       "      <th>0</th>\n",
       "      <td>1</td>\n",
       "      <td>2025-02-07 01:58:30</td>\n",
       "      <td>Used</td>\n",
       "      <td>Toyota</td>\n",
       "      <td>Prius</td>\n",
       "      <td>Prius</td>\n",
       "      <td>2010</td>\n",
       "      <td>20,000 - 29,999</td>\n",
       "      <td>Sedan</td>\n",
       "      <td>5</td>\n",
       "      <td>...</td>\n",
       "      <td>Abu Alanda</td>\n",
       "      <td>Cars and Bikes</td>\n",
       "      <td>Cars For Sale</td>\n",
       "      <td>Airbags, Air Condition, Electric Seat Control,...</td>\n",
       "      <td>Panoramic Roof, Electrically Folding Mirrors, ...</td>\n",
       "      <td>Remote Start, Cruise Control, Radar, Navigatio...</td>\n",
       "      <td>فحص كامل</td>\n",
       "      <td>NaN</td>\n",
       "      <td>NaN</td>\n",
       "      <td>9350.0</td>\n",
       "    </tr>\n",
       "    <tr>\n",
       "      <th>1</th>\n",
       "      <td>2</td>\n",
       "      <td>2025-02-07 02:27:18</td>\n",
       "      <td>Used</td>\n",
       "      <td>Honda</td>\n",
       "      <td>Civic</td>\n",
       "      <td>Standard</td>\n",
       "      <td>2000</td>\n",
       "      <td>+200,000</td>\n",
       "      <td>Sedan</td>\n",
       "      <td>4</td>\n",
       "      <td>...</td>\n",
       "      <td>Abu Alanda</td>\n",
       "      <td>Cars and Bikes</td>\n",
       "      <td>Cars For Sale</td>\n",
       "      <td>Airbags, Center Lock, Air Condition, Alarm Sys...</td>\n",
       "      <td>Rim Wheels, Electric Mirrors</td>\n",
       "      <td>ABS Brakes</td>\n",
       "      <td>NaN</td>\n",
       "      <td>NaN</td>\n",
       "      <td>NaN</td>\n",
       "      <td>4200.0</td>\n",
       "    </tr>\n",
       "    <tr>\n",
       "      <th>2</th>\n",
       "      <td>3</td>\n",
       "      <td>2025-02-07 11:55:06</td>\n",
       "      <td>Used</td>\n",
       "      <td>Mitsubishi</td>\n",
       "      <td>Pajero</td>\n",
       "      <td>GLS</td>\n",
       "      <td>2015</td>\n",
       "      <td>110,000 - 119,999</td>\n",
       "      <td>SUV</td>\n",
       "      <td>7</td>\n",
       "      <td>...</td>\n",
       "      <td>Sports City</td>\n",
       "      <td>Cars and Bikes</td>\n",
       "      <td>Cars For Sale</td>\n",
       "      <td>Airbags, Steering Wheel Controls, Electric Win...</td>\n",
       "      <td>Spare Tyre, Rim Wheels, Electrically Folding M...</td>\n",
       "      <td>Media Screen, ABS Brakes, Rear Camera, Tractio...</td>\n",
       "      <td>NaN</td>\n",
       "      <td>NaN</td>\n",
       "      <td>NaN</td>\n",
       "      <td>8900.0</td>\n",
       "    </tr>\n",
       "    <tr>\n",
       "      <th>3</th>\n",
       "      <td>4</td>\n",
       "      <td>2025-02-07 13:25:57</td>\n",
       "      <td>Used</td>\n",
       "      <td>Nissan</td>\n",
       "      <td>Murano</td>\n",
       "      <td>SE</td>\n",
       "      <td>2005</td>\n",
       "      <td>180,000 - 189,999</td>\n",
       "      <td>Sedan</td>\n",
       "      <td>5</td>\n",
       "      <td>...</td>\n",
       "      <td>Jabal Al Amera Rahma</td>\n",
       "      <td>Cars and Bikes</td>\n",
       "      <td>Cars For Sale</td>\n",
       "      <td>Electric Seat Control, Air Condition, AUX / US...</td>\n",
       "      <td>Electrically Folding Mirrors, Electric Mirrors...</td>\n",
       "      <td>Traction Control, Cruise Control, Tyre Pressur...</td>\n",
       "      <td>فحص كامل</td>\n",
       "      <td>NaN</td>\n",
       "      <td>NaN</td>\n",
       "      <td>5500.0</td>\n",
       "    </tr>\n",
       "    <tr>\n",
       "      <th>4</th>\n",
       "      <td>5</td>\n",
       "      <td>2025-02-07 12:57:00</td>\n",
       "      <td>Used</td>\n",
       "      <td>Hyundai</td>\n",
       "      <td>H1</td>\n",
       "      <td>GL</td>\n",
       "      <td>2003</td>\n",
       "      <td>140,000 - 149,999</td>\n",
       "      <td>Bus - Van</td>\n",
       "      <td>5</td>\n",
       "      <td>...</td>\n",
       "      <td>Al Souq</td>\n",
       "      <td>Cars and Bikes</td>\n",
       "      <td>Cars For Sale</td>\n",
       "      <td>Steering Wheel Controls, Electric Windows, Cen...</td>\n",
       "      <td>Rear Sensors, Electric Mirrors, Daytime Runnin...</td>\n",
       "      <td>Bluetooth, Auto Lock System, Traction Control</td>\n",
       "      <td>NaN</td>\n",
       "      <td>NaN</td>\n",
       "      <td>NaN</td>\n",
       "      <td>5000.0</td>\n",
       "    </tr>\n",
       "  </tbody>\n",
       "</table>\n",
       "<p>5 rows × 33 columns</p>\n",
       "</div>"
      ],
      "text/plain": [
       "   Id         Scraped_Time Condition    Car Make   Model      Trim  Year  \\\n",
       "0   1  2025-02-07 01:58:30      Used      Toyota   Prius     Prius  2010   \n",
       "1   2  2025-02-07 02:27:18      Used       Honda   Civic  Standard  2000   \n",
       "2   3  2025-02-07 11:55:06      Used  Mitsubishi  Pajero       GLS  2015   \n",
       "3   4  2025-02-07 13:25:57      Used      Nissan  Murano        SE  2005   \n",
       "4   5  2025-02-07 12:57:00      Used     Hyundai      H1        GL  2003   \n",
       "\n",
       "          Kilometers  Body Type Number of Seats  ...          Neighborhood  \\\n",
       "0    20,000 - 29,999      Sedan               5  ...            Abu Alanda   \n",
       "1           +200,000      Sedan               4  ...            Abu Alanda   \n",
       "2  110,000 - 119,999        SUV               7  ...           Sports City   \n",
       "3  180,000 - 189,999      Sedan               5  ...  Jabal Al Amera Rahma   \n",
       "4  140,000 - 149,999  Bus - Van               5  ...               Al Souq   \n",
       "\n",
       "         Category    Subcategory  \\\n",
       "0  Cars and Bikes  Cars For Sale   \n",
       "1  Cars and Bikes  Cars For Sale   \n",
       "2  Cars and Bikes  Cars For Sale   \n",
       "3  Cars and Bikes  Cars For Sale   \n",
       "4  Cars and Bikes  Cars For Sale   \n",
       "\n",
       "                                    Interior Options  \\\n",
       "0  Airbags, Air Condition, Electric Seat Control,...   \n",
       "1  Airbags, Center Lock, Air Condition, Alarm Sys...   \n",
       "2  Airbags, Steering Wheel Controls, Electric Win...   \n",
       "3  Electric Seat Control, Air Condition, AUX / US...   \n",
       "4  Steering Wheel Controls, Electric Windows, Cen...   \n",
       "\n",
       "                                    Exterior Options  \\\n",
       "0  Panoramic Roof, Electrically Folding Mirrors, ...   \n",
       "1                       Rim Wheels, Electric Mirrors   \n",
       "2  Spare Tyre, Rim Wheels, Electrically Folding M...   \n",
       "3  Electrically Folding Mirrors, Electric Mirrors...   \n",
       "4  Rear Sensors, Electric Mirrors, Daytime Runnin...   \n",
       "\n",
       "                                  Technology Options Description_Score  \\\n",
       "0  Remote Start, Cruise Control, Radar, Navigatio...          فحص كامل   \n",
       "1                                         ABS Brakes               NaN   \n",
       "2  Media Screen, ABS Brakes, Rear Camera, Tractio...               NaN   \n",
       "3  Traction Control, Cruise Control, Tyre Pressur...          فحص كامل   \n",
       "4      Bluetooth, Auto Lock System, Traction Control               NaN   \n",
       "\n",
       "  Battery Capacity Battery Range   Price  \n",
       "0              NaN           NaN  9350.0  \n",
       "1              NaN           NaN  4200.0  \n",
       "2              NaN           NaN  8900.0  \n",
       "3              NaN           NaN  5500.0  \n",
       "4              NaN           NaN  5000.0  \n",
       "\n",
       "[5 rows x 33 columns]"
      ]
     },
     "execution_count": 92,
     "metadata": {},
     "output_type": "execute_result"
    }
   ],
   "source": [
    "train_csv.head()"
   ]
  },
  {
   "cell_type": "code",
   "execution_count": 114,
   "id": "1972229b",
   "metadata": {},
   "outputs": [],
   "source": [
    "updated_col_names = ['Id', 'Scraped_Time', 'Condition', 'Car_Make', 'Model', 'Trim', 'Year',\n",
    "       'Kilometers', 'Body_Type', 'Num_of_Seats', 'Fuel', 'Transmission',\n",
    "       'Engine_Size_cc', 'Exterior_Color', 'Interior_Color',\n",
    "       'Regional_Specs', 'Car_License', 'Insurance', 'Car_Customs',\n",
    "       'Body_Condition', 'Paint', 'Payment_Method', 'City', 'Neighborhood',\n",
    "       'Category', 'Subcategory', 'Interior_Options', 'Exterior_Options',\n",
    "       'Technology_Options', 'Description_Score', 'Battery_Capacity',\n",
    "       'Battery_Range', 'Price']"
   ]
  },
  {
   "cell_type": "code",
   "execution_count": 120,
   "id": "bf88ff93",
   "metadata": {},
   "outputs": [],
   "source": [
    "original_col_names = list(train_csv.columns)"
   ]
  },
  {
   "cell_type": "code",
   "execution_count": 122,
   "id": "6650914c",
   "metadata": {},
   "outputs": [
    {
     "name": "stdout",
     "output_type": "stream",
     "text": [
      "{'Id': 'id', 'Scraped_Time': 'scraped_time', 'Condition': 'condition', 'Car Make': 'car_make', 'Model': 'model', 'Trim': 'trim', 'Year': 'year', 'Kilometers': 'kilometers', 'Body Type': 'body_type', 'Number of Seats': 'num_of_seats', 'Fuel': 'fuel', 'Transmission': 'transmission', 'Engine Size (cc)': 'engine_size_cc', 'Exterior Color': 'exterior_color', 'Interior Color': 'interior_color', 'Regional Specs': 'regional_specs', 'Car License': 'car_license', 'Insurance': 'insurance', 'Car Customs': 'car_customs', 'Body Condition': 'body_condition', 'Paint': 'paint', 'Payment Method': 'payment_method', 'City': 'city', 'Neighborhood': 'neighborhood', 'Category': 'category', 'Subcategory': 'subcategory', 'Interior Options': 'interior_options', 'Exterior Options': 'exterior_options', 'Technology Options': 'technology_options', 'Description_Score': 'description_score', 'Battery Capacity': 'battery_capacity', 'Battery Range': 'battery_range', 'Price': 'price'}\n"
     ]
    }
   ],
   "source": [
    "cols_map = {}\n",
    "for old, new in zip(original_col_names, updated_col_names):\n",
    "    cols_map[old] = new.lower()\n",
    "print(cols_map)   "
   ]
  },
  {
   "cell_type": "code",
   "execution_count": 126,
   "id": "d34eecfa",
   "metadata": {},
   "outputs": [
    {
     "data": {
      "text/plain": [
       "Index(['id', 'scraped_time', 'condition', 'car_make', 'model', 'trim', 'year',\n",
       "       'kilometers', 'body_type', 'num_of_seats', 'fuel', 'transmission',\n",
       "       'engine_size_cc', 'exterior_color', 'interior_color', 'regional_specs',\n",
       "       'car_license', 'insurance', 'car_customs', 'body_condition', 'paint',\n",
       "       'payment_method', 'city', 'neighborhood', 'category', 'subcategory',\n",
       "       'interior_options', 'exterior_options', 'technology_options',\n",
       "       'description_score', 'battery_capacity', 'battery_range', 'price'],\n",
       "      dtype='object')"
      ]
     },
     "execution_count": 126,
     "metadata": {},
     "output_type": "execute_result"
    }
   ],
   "source": [
    "train_csv.rename(columns=cols_map, inplace=True)\n",
    "train_csv.columns"
   ]
  },
  {
   "cell_type": "markdown",
   "id": "42267338",
   "metadata": {},
   "source": [
    "## Check missing values"
   ]
  },
  {
   "cell_type": "code",
   "execution_count": 127,
   "id": "5634d651",
   "metadata": {},
   "outputs": [
    {
     "name": "stdout",
     "output_type": "stream",
     "text": [
      "<class 'pandas.core.frame.DataFrame'>\n",
      "RangeIndex: 7478 entries, 0 to 7477\n",
      "Data columns (total 33 columns):\n",
      " #   Column              Non-Null Count  Dtype         \n",
      "---  ------              --------------  -----         \n",
      " 0   id                  7478 non-null   int64         \n",
      " 1   scraped_time        7478 non-null   datetime64[ns]\n",
      " 2   condition           7475 non-null   object        \n",
      " 3   car_make            7475 non-null   object        \n",
      " 4   model               7475 non-null   object        \n",
      " 5   trim                6464 non-null   object        \n",
      " 6   year                7474 non-null   object        \n",
      " 7   kilometers          7471 non-null   object        \n",
      " 8   body_type           7475 non-null   object        \n",
      " 9   num_of_seats        7472 non-null   object        \n",
      " 10  fuel                7471 non-null   object        \n",
      " 11  transmission        7471 non-null   object        \n",
      " 12  engine_size_cc      5933 non-null   object        \n",
      " 13  exterior_color      7473 non-null   object        \n",
      " 14  interior_color      7473 non-null   object        \n",
      " 15  regional_specs      7474 non-null   object        \n",
      " 16  car_license         7471 non-null   object        \n",
      " 17  insurance           7471 non-null   object        \n",
      " 18  car_customs         7471 non-null   object        \n",
      " 19  body_condition      7118 non-null   object        \n",
      " 20  paint               7101 non-null   object        \n",
      " 21  payment_method      7471 non-null   object        \n",
      " 22  city                7478 non-null   object        \n",
      " 23  neighborhood        7478 non-null   object        \n",
      " 24  category            7478 non-null   object        \n",
      " 25  subcategory         7478 non-null   object        \n",
      " 26  interior_options    7471 non-null   object        \n",
      " 27  exterior_options    7471 non-null   object        \n",
      " 28  technology_options  7471 non-null   object        \n",
      " 29  description_score   3022 non-null   object        \n",
      " 30  battery_capacity    1243 non-null   object        \n",
      " 31  battery_range       1243 non-null   object        \n",
      " 32  price               7478 non-null   float64       \n",
      "dtypes: datetime64[ns](1), float64(1), int64(1), object(30)\n",
      "memory usage: 1.9+ MB\n"
     ]
    }
   ],
   "source": [
    "train_csv.info()"
   ]
  },
  {
   "cell_type": "code",
   "execution_count": 128,
   "id": "c7744703",
   "metadata": {},
   "outputs": [],
   "source": [
    "null_pcnt_df = round(train_csv.isna().sum(axis=0)*100/len(train_csv),2)"
   ]
  },
  {
   "cell_type": "markdown",
   "id": "08e1ced0",
   "metadata": {},
   "source": [
    "Features with greater than 10% null values need to be studied in detail."
   ]
  },
  {
   "cell_type": "code",
   "execution_count": 129,
   "id": "709a6df6",
   "metadata": {},
   "outputs": [
    {
     "data": {
      "text/plain": [
       "trim                 13.56\n",
       "engine_size_cc       20.66\n",
       "description_score    59.59\n",
       "battery_capacity     83.38\n",
       "battery_range        83.38\n",
       "dtype: float64"
      ]
     },
     "execution_count": 129,
     "metadata": {},
     "output_type": "execute_result"
    }
   ],
   "source": [
    "null_pcnt_df[null_pcnt_df>10]"
   ]
  },
  {
   "cell_type": "markdown",
   "id": "64377d05",
   "metadata": {},
   "source": [
    "## Data Cleaning and transformation"
   ]
  },
  {
   "cell_type": "code",
   "execution_count": 130,
   "id": "8c6a0805",
   "metadata": {},
   "outputs": [
    {
     "data": {
      "text/plain": [
       "Index(['id', 'scraped_time', 'condition', 'car_make', 'model', 'trim', 'year',\n",
       "       'kilometers', 'body_type', 'num_of_seats', 'fuel', 'transmission',\n",
       "       'engine_size_cc', 'exterior_color', 'interior_color', 'regional_specs',\n",
       "       'car_license', 'insurance', 'car_customs', 'body_condition', 'paint',\n",
       "       'payment_method', 'city', 'neighborhood', 'category', 'subcategory',\n",
       "       'interior_options', 'exterior_options', 'technology_options',\n",
       "       'description_score', 'battery_capacity', 'battery_range', 'price'],\n",
       "      dtype='object')"
      ]
     },
     "execution_count": 130,
     "metadata": {},
     "output_type": "execute_result"
    }
   ],
   "source": [
    "train_csv.columns"
   ]
  },
  {
   "cell_type": "code",
   "execution_count": 159,
   "id": "c4504d21",
   "metadata": {},
   "outputs": [
    {
     "data": {
      "text/plain": [
       "7478"
      ]
     },
     "execution_count": 159,
     "metadata": {},
     "output_type": "execute_result"
    }
   ],
   "source": [
    "len(train_csv)"
   ]
  },
  {
   "cell_type": "markdown",
   "id": "a2f2dd58",
   "metadata": {},
   "source": [
    "### scraped_time"
   ]
  },
  {
   "cell_type": "markdown",
   "id": "f7b3afe0",
   "metadata": {},
   "source": [
    "Changing the data type to datetime"
   ]
  },
  {
   "cell_type": "code",
   "execution_count": 131,
   "id": "b03b30fa",
   "metadata": {},
   "outputs": [],
   "source": [
    "train_csv['scraped_time'] = pd.to_datetime(train_csv['scraped_time'])"
   ]
  },
  {
   "cell_type": "code",
   "execution_count": 133,
   "id": "a0b1a0b1",
   "metadata": {},
   "outputs": [
    {
     "name": "stdout",
     "output_type": "stream",
     "text": [
      "datetime64[ns]\n"
     ]
    }
   ],
   "source": [
    "print(train_csv.scraped_time.dtype)"
   ]
  },
  {
   "cell_type": "code",
   "execution_count": 134,
   "id": "2f3a93c7",
   "metadata": {},
   "outputs": [
    {
     "data": {
      "text/plain": [
       "count                             7478\n",
       "mean     2025-02-07 07:29:41.780422656\n",
       "min                2025-02-06 20:16:48\n",
       "25%      2025-02-06 23:46:47.249999872\n",
       "50%                2025-02-07 02:24:16\n",
       "75%         2025-02-07 12:07:14.500000\n",
       "max                2025-02-10 00:11:05\n",
       "Name: scraped_time, dtype: object"
      ]
     },
     "execution_count": 134,
     "metadata": {},
     "output_type": "execute_result"
    }
   ],
   "source": [
    "train_csv.scraped_time.describe()"
   ]
  },
  {
   "cell_type": "markdown",
   "id": "85cc7f39",
   "metadata": {},
   "source": [
    "This feature provides the time when the data was scraped i.e. collected. The date range is Feb 6th to Feb 10th, 2025. This date will not have an impact on our target.\n",
    "\n",
    "If instead, we had the date of transaction, it might had some significance. We could have extracted day of the week, month, day of the month, etc to test for seasonality."
   ]
  },
  {
   "cell_type": "markdown",
   "id": "53951e6a",
   "metadata": {},
   "source": [
    "### condition"
   ]
  },
  {
   "cell_type": "code",
   "execution_count": 135,
   "id": "9183883b",
   "metadata": {},
   "outputs": [
    {
     "data": {
      "text/plain": [
       "count     7475\n",
       "unique       2\n",
       "top       Used\n",
       "freq      7104\n",
       "Name: condition, dtype: object"
      ]
     },
     "execution_count": 135,
     "metadata": {},
     "output_type": "execute_result"
    }
   ],
   "source": [
    "train_csv.condition.describe()"
   ]
  },
  {
   "cell_type": "code",
   "execution_count": 136,
   "id": "aa621bdc",
   "metadata": {},
   "outputs": [
    {
     "data": {
      "text/plain": [
       "condition\n",
       "Used    7104\n",
       "New      371\n",
       "Name: count, dtype: int64"
      ]
     },
     "execution_count": 136,
     "metadata": {},
     "output_type": "execute_result"
    }
   ],
   "source": [
    "train_csv.condition.value_counts()"
   ]
  },
  {
   "cell_type": "markdown",
   "id": "7764714f",
   "metadata": {},
   "source": [
    "3 rows have data missing.\n",
    "\n",
    "We can either use Label or One Hot Encoder for this feature."
   ]
  },
  {
   "cell_type": "code",
   "execution_count": 137,
   "id": "1ad3f310",
   "metadata": {},
   "outputs": [
    {
     "data": {
      "text/html": [
       "<div>\n",
       "<style scoped>\n",
       "    .dataframe tbody tr th:only-of-type {\n",
       "        vertical-align: middle;\n",
       "    }\n",
       "\n",
       "    .dataframe tbody tr th {\n",
       "        vertical-align: top;\n",
       "    }\n",
       "\n",
       "    .dataframe thead tr th {\n",
       "        text-align: left;\n",
       "    }\n",
       "\n",
       "    .dataframe thead tr:last-of-type th {\n",
       "        text-align: right;\n",
       "    }\n",
       "</style>\n",
       "<table border=\"1\" class=\"dataframe\">\n",
       "  <thead>\n",
       "    <tr>\n",
       "      <th></th>\n",
       "      <th colspan=\"2\" halign=\"left\">price</th>\n",
       "    </tr>\n",
       "    <tr>\n",
       "      <th></th>\n",
       "      <th>mean</th>\n",
       "      <th>median</th>\n",
       "    </tr>\n",
       "    <tr>\n",
       "      <th>condition</th>\n",
       "      <th></th>\n",
       "      <th></th>\n",
       "    </tr>\n",
       "  </thead>\n",
       "  <tbody>\n",
       "    <tr>\n",
       "      <th>New</th>\n",
       "      <td>20559.026954</td>\n",
       "      <td>18800.0</td>\n",
       "    </tr>\n",
       "    <tr>\n",
       "      <th>Used</th>\n",
       "      <td>11838.153012</td>\n",
       "      <td>8000.0</td>\n",
       "    </tr>\n",
       "  </tbody>\n",
       "</table>\n",
       "</div>"
      ],
      "text/plain": [
       "                  price         \n",
       "                   mean   median\n",
       "condition                       \n",
       "New        20559.026954  18800.0\n",
       "Used       11838.153012   8000.0"
      ]
     },
     "execution_count": 137,
     "metadata": {},
     "output_type": "execute_result"
    }
   ],
   "source": [
    "df = train_csv[['condition', 'price']]\n",
    "avg_price_by_condn = df.groupby('condition').agg({\n",
    "    'price': ['mean', 'median']})\n",
    "avg_price_by_condn"
   ]
  },
  {
   "cell_type": "markdown",
   "id": "e89e885a",
   "metadata": {},
   "source": [
    "As expected, the average or median Price for New cars is higher than Used cars, almost double in value."
   ]
  },
  {
   "cell_type": "markdown",
   "id": "dac6dc79",
   "metadata": {},
   "source": [
    "### car_make"
   ]
  },
  {
   "cell_type": "code",
   "execution_count": 138,
   "id": "b2a7a99e",
   "metadata": {},
   "outputs": [
    {
     "data": {
      "text/plain": [
       "count        7475\n",
       "unique         74\n",
       "top       Hyundai\n",
       "freq         1289\n",
       "Name: car_make, dtype: object"
      ]
     },
     "execution_count": 138,
     "metadata": {},
     "output_type": "execute_result"
    }
   ],
   "source": [
    "train_csv.car_make.describe()"
   ]
  },
  {
   "cell_type": "markdown",
   "id": "3c37f3ed",
   "metadata": {},
   "source": [
    "There are 74 unique car makers and 3 rows with missing values. \n",
    "\n",
    "Since there are many columns with missing values, I am thinking KNN imputer or a simple median imputer may help."
   ]
  },
  {
   "cell_type": "code",
   "execution_count": 154,
   "id": "5ae477c7",
   "metadata": {},
   "outputs": [
    {
     "data": {
      "text/html": [
       "<div>\n",
       "<style scoped>\n",
       "    .dataframe tbody tr th:only-of-type {\n",
       "        vertical-align: middle;\n",
       "    }\n",
       "\n",
       "    .dataframe tbody tr th {\n",
       "        vertical-align: top;\n",
       "    }\n",
       "\n",
       "    .dataframe thead th {\n",
       "        text-align: right;\n",
       "    }\n",
       "</style>\n",
       "<table border=\"1\" class=\"dataframe\">\n",
       "  <thead>\n",
       "    <tr style=\"text-align: right;\">\n",
       "      <th></th>\n",
       "      <th>car_make</th>\n",
       "      <th>count</th>\n",
       "    </tr>\n",
       "  </thead>\n",
       "  <tbody>\n",
       "    <tr>\n",
       "      <th>0</th>\n",
       "      <td>Hyundai</td>\n",
       "      <td>1289</td>\n",
       "    </tr>\n",
       "    <tr>\n",
       "      <th>1</th>\n",
       "      <td>Kia</td>\n",
       "      <td>965</td>\n",
       "    </tr>\n",
       "    <tr>\n",
       "      <th>2</th>\n",
       "      <td>Toyota</td>\n",
       "      <td>811</td>\n",
       "    </tr>\n",
       "    <tr>\n",
       "      <th>3</th>\n",
       "      <td>Mercedes Benz</td>\n",
       "      <td>518</td>\n",
       "    </tr>\n",
       "    <tr>\n",
       "      <th>4</th>\n",
       "      <td>Mitsubishi</td>\n",
       "      <td>428</td>\n",
       "    </tr>\n",
       "    <tr>\n",
       "      <th>5</th>\n",
       "      <td>Volkswagen</td>\n",
       "      <td>371</td>\n",
       "    </tr>\n",
       "    <tr>\n",
       "      <th>6</th>\n",
       "      <td>Ford</td>\n",
       "      <td>325</td>\n",
       "    </tr>\n",
       "    <tr>\n",
       "      <th>7</th>\n",
       "      <td>Nissan</td>\n",
       "      <td>281</td>\n",
       "    </tr>\n",
       "    <tr>\n",
       "      <th>8</th>\n",
       "      <td>Honda</td>\n",
       "      <td>270</td>\n",
       "    </tr>\n",
       "    <tr>\n",
       "      <th>9</th>\n",
       "      <td>Chevrolet</td>\n",
       "      <td>218</td>\n",
       "    </tr>\n",
       "    <tr>\n",
       "      <th>10</th>\n",
       "      <td>BMW</td>\n",
       "      <td>213</td>\n",
       "    </tr>\n",
       "    <tr>\n",
       "      <th>11</th>\n",
       "      <td>Tesla</td>\n",
       "      <td>201</td>\n",
       "    </tr>\n",
       "    <tr>\n",
       "      <th>12</th>\n",
       "      <td>BYD</td>\n",
       "      <td>124</td>\n",
       "    </tr>\n",
       "    <tr>\n",
       "      <th>13</th>\n",
       "      <td>Peugeot</td>\n",
       "      <td>115</td>\n",
       "    </tr>\n",
       "    <tr>\n",
       "      <th>14</th>\n",
       "      <td>Opel</td>\n",
       "      <td>114</td>\n",
       "    </tr>\n",
       "    <tr>\n",
       "      <th>15</th>\n",
       "      <td>Land Rover</td>\n",
       "      <td>113</td>\n",
       "    </tr>\n",
       "    <tr>\n",
       "      <th>16</th>\n",
       "      <td>Mazda</td>\n",
       "      <td>93</td>\n",
       "    </tr>\n",
       "    <tr>\n",
       "      <th>17</th>\n",
       "      <td>Lexus</td>\n",
       "      <td>90</td>\n",
       "    </tr>\n",
       "    <tr>\n",
       "      <th>18</th>\n",
       "      <td>Jeep</td>\n",
       "      <td>81</td>\n",
       "    </tr>\n",
       "    <tr>\n",
       "      <th>19</th>\n",
       "      <td>Audi</td>\n",
       "      <td>75</td>\n",
       "    </tr>\n",
       "  </tbody>\n",
       "</table>\n",
       "</div>"
      ],
      "text/plain": [
       "         car_make  count\n",
       "0         Hyundai   1289\n",
       "1             Kia    965\n",
       "2          Toyota    811\n",
       "3   Mercedes Benz    518\n",
       "4      Mitsubishi    428\n",
       "5      Volkswagen    371\n",
       "6            Ford    325\n",
       "7          Nissan    281\n",
       "8           Honda    270\n",
       "9       Chevrolet    218\n",
       "10            BMW    213\n",
       "11          Tesla    201\n",
       "12            BYD    124\n",
       "13        Peugeot    115\n",
       "14           Opel    114\n",
       "15     Land Rover    113\n",
       "16          Mazda     93\n",
       "17          Lexus     90\n",
       "18           Jeep     81\n",
       "19           Audi     75"
      ]
     },
     "execution_count": 154,
     "metadata": {},
     "output_type": "execute_result"
    }
   ],
   "source": [
    "top_20_car_makers = train_csv.car_make.value_counts().reset_index()[:20]\n",
    "top_20_car_makers"
   ]
  },
  {
   "cell_type": "code",
   "execution_count": 155,
   "id": "e9112cb8",
   "metadata": {},
   "outputs": [
    {
     "name": "stdout",
     "output_type": "stream",
     "text": [
      "Top 20 car makers contribute to 89.57 % of training data\n"
     ]
    }
   ],
   "source": [
    "print(f'Top 20 car makers contribute to {round(top_20_car_makers['count'].sum()*100/train_csv['car_make'].count(), 2)} % of training data')"
   ]
  },
  {
   "cell_type": "markdown",
   "id": "73f8bf6e",
   "metadata": {},
   "source": [
    "### model"
   ]
  },
  {
   "cell_type": "code",
   "execution_count": 162,
   "id": "f7fa5c36",
   "metadata": {},
   "outputs": [
    {
     "data": {
      "text/plain": [
       "count       7475\n",
       "unique       512\n",
       "top       Avante\n",
       "freq         325\n",
       "Name: model, dtype: object"
      ]
     },
     "execution_count": 162,
     "metadata": {},
     "output_type": "execute_result"
    }
   ],
   "source": [
    "train_csv['model'].describe()"
   ]
  },
  {
   "cell_type": "code",
   "execution_count": 161,
   "id": "ee84ffed",
   "metadata": {},
   "outputs": [
    {
     "data": {
      "text/plain": [
       "model\n",
       "Avante     325\n",
       "Lancer     226\n",
       "E-Class    207\n",
       "Accent     195\n",
       "Prius      187\n",
       "          ... \n",
       "MKX          1\n",
       "Montero      1\n",
       "MG 6         1\n",
       "Macan        1\n",
       "Charade      1\n",
       "Name: count, Length: 512, dtype: int64"
      ]
     },
     "execution_count": 161,
     "metadata": {},
     "output_type": "execute_result"
    }
   ],
   "source": [
    "train_csv['model'].value_counts()"
   ]
  },
  {
   "cell_type": "markdown",
   "id": "ebe8505c",
   "metadata": {},
   "source": [
    "Since there are so many models, some models will be rare. Also, the test data may have a model which is not present in the training data. To handle such cases, I am thinking we need to consider model by car_maker, and while encoding label less common models as unknown/other."
   ]
  },
  {
   "cell_type": "markdown",
   "id": "f01ce0a3",
   "metadata": {},
   "source": [
    "### Trim"
   ]
  },
  {
   "cell_type": "code",
   "execution_count": 163,
   "id": "b1a3a478",
   "metadata": {},
   "outputs": [
    {
     "data": {
      "text/plain": [
       "count         6464\n",
       "unique         546\n",
       "top       Standard\n",
       "freq          1330\n",
       "Name: trim, dtype: object"
      ]
     },
     "execution_count": 163,
     "metadata": {},
     "output_type": "execute_result"
    }
   ],
   "source": [
    "train_csv['trim'].describe()"
   ]
  },
  {
   "cell_type": "markdown",
   "id": "fb412333",
   "metadata": {},
   "source": [
    "This feature has a lot of missing values."
   ]
  },
  {
   "cell_type": "code",
   "execution_count": 164,
   "id": "8b466b36",
   "metadata": {},
   "outputs": [
    {
     "data": {
      "text/plain": [
       "trim\n",
       "Standard                          1330\n",
       "Limited                            349\n",
       "SE                                 238\n",
       "EX                                 210\n",
       "E 200                              163\n",
       "                                  ... \n",
       "i3 eDrive40L Yaoye Sports Suit       1\n",
       "WRX                                  1\n",
       "Latitude LUX                         1\n",
       "SV2                                  1\n",
       "PHEV                                 1\n",
       "Name: count, Length: 546, dtype: int64"
      ]
     },
     "execution_count": 164,
     "metadata": {},
     "output_type": "execute_result"
    }
   ],
   "source": [
    "train_csv['trim'].value_counts()"
   ]
  },
  {
   "cell_type": "code",
   "execution_count": 165,
   "id": "1addc7c0",
   "metadata": {},
   "outputs": [
    {
     "data": {
      "text/html": [
       "<div>\n",
       "<style scoped>\n",
       "    .dataframe tbody tr th:only-of-type {\n",
       "        vertical-align: middle;\n",
       "    }\n",
       "\n",
       "    .dataframe tbody tr th {\n",
       "        vertical-align: top;\n",
       "    }\n",
       "\n",
       "    .dataframe thead th {\n",
       "        text-align: right;\n",
       "    }\n",
       "</style>\n",
       "<table border=\"1\" class=\"dataframe\">\n",
       "  <thead>\n",
       "    <tr style=\"text-align: right;\">\n",
       "      <th></th>\n",
       "      <th>trim</th>\n",
       "      <th>count</th>\n",
       "    </tr>\n",
       "  </thead>\n",
       "  <tbody>\n",
       "    <tr>\n",
       "      <th>0</th>\n",
       "      <td>Standard</td>\n",
       "      <td>1330</td>\n",
       "    </tr>\n",
       "    <tr>\n",
       "      <th>1</th>\n",
       "      <td>Limited</td>\n",
       "      <td>349</td>\n",
       "    </tr>\n",
       "    <tr>\n",
       "      <th>2</th>\n",
       "      <td>SE</td>\n",
       "      <td>238</td>\n",
       "    </tr>\n",
       "    <tr>\n",
       "      <th>3</th>\n",
       "      <td>EX</td>\n",
       "      <td>210</td>\n",
       "    </tr>\n",
       "    <tr>\n",
       "      <th>4</th>\n",
       "      <td>E 200</td>\n",
       "      <td>163</td>\n",
       "    </tr>\n",
       "    <tr>\n",
       "      <th>5</th>\n",
       "      <td>GL</td>\n",
       "      <td>130</td>\n",
       "    </tr>\n",
       "    <tr>\n",
       "      <th>6</th>\n",
       "      <td>Prius</td>\n",
       "      <td>121</td>\n",
       "    </tr>\n",
       "    <tr>\n",
       "      <th>7</th>\n",
       "      <td>GLX</td>\n",
       "      <td>117</td>\n",
       "    </tr>\n",
       "    <tr>\n",
       "      <th>8</th>\n",
       "      <td>GLS</td>\n",
       "      <td>113</td>\n",
       "    </tr>\n",
       "    <tr>\n",
       "      <th>9</th>\n",
       "      <td>S</td>\n",
       "      <td>109</td>\n",
       "    </tr>\n",
       "  </tbody>\n",
       "</table>\n",
       "</div>"
      ],
      "text/plain": [
       "       trim  count\n",
       "0  Standard   1330\n",
       "1   Limited    349\n",
       "2        SE    238\n",
       "3        EX    210\n",
       "4     E 200    163\n",
       "5        GL    130\n",
       "6     Prius    121\n",
       "7       GLX    117\n",
       "8       GLS    113\n",
       "9         S    109"
      ]
     },
     "execution_count": 165,
     "metadata": {},
     "output_type": "execute_result"
    }
   ],
   "source": [
    "train_csv['trim'].value_counts().reset_index()[:10]"
   ]
  },
  {
   "cell_type": "markdown",
   "id": "e1171473",
   "metadata": {},
   "source": [
    "# Splitting Training data into Train and Test sets"
   ]
  },
  {
   "cell_type": "code",
   "execution_count": 172,
   "id": "ef1725aa",
   "metadata": {},
   "outputs": [],
   "source": [
    "y = train_csv['price']\n",
    "X = train_csv.drop(columns=['price', 'scraped_time', 'id'])\n",
    "X_train, X_test, y_train, y_test = train_test_split(X, y, random_state=0, shuffle=True)"
   ]
  },
  {
   "cell_type": "code",
   "execution_count": 173,
   "id": "5ddbf59d",
   "metadata": {},
   "outputs": [
    {
     "name": "stdout",
     "output_type": "stream",
     "text": [
      "(5608, 30) (5608,) \n",
      " (1870, 30) (1870,)\n"
     ]
    }
   ],
   "source": [
    "print(X_train.shape, y_train.shape,'\\n', X_test.shape, y_test.shape)"
   ]
  },
  {
   "cell_type": "markdown",
   "id": "bc715603",
   "metadata": {},
   "source": [
    "# Baseline Model"
   ]
  },
  {
   "cell_type": "markdown",
   "id": "f561114f",
   "metadata": {},
   "source": [
    "Random Forest"
   ]
  },
  {
   "cell_type": "code",
   "execution_count": 174,
   "id": "a82c0b33",
   "metadata": {},
   "outputs": [
    {
     "name": "stdout",
     "output_type": "stream",
     "text": [
      "Category Columns:\n",
      "Index(['condition', 'car_make', 'model', 'trim', 'year', 'kilometers',\n",
      "       'body_type', 'num_of_seats', 'fuel', 'transmission', 'engine_size_cc',\n",
      "       'exterior_color', 'interior_color', 'regional_specs', 'car_license',\n",
      "       'insurance', 'car_customs', 'body_condition', 'paint', 'payment_method',\n",
      "       'city', 'neighborhood', 'category', 'subcategory', 'interior_options',\n",
      "       'exterior_options', 'technology_options', 'description_score',\n",
      "       'battery_capacity', 'battery_range'],\n",
      "      dtype='object')\n",
      "Numerical Columns:\n",
      "Index([], dtype='object')\n"
     ]
    }
   ],
   "source": [
    "cat_cols = X_train.select_dtypes(include=['object', 'category']).columns\n",
    "num_cols = X_train.select_dtypes(include=['number']).columns\n",
    "print(f'Category Columns:\\n{cat_cols}')\n",
    "print(f'Numerical Columns:\\n{num_cols}')"
   ]
  },
  {
   "cell_type": "code",
   "execution_count": 182,
   "id": "f338de90",
   "metadata": {},
   "outputs": [],
   "source": [
    "base_pipe = make_pipeline(OneHotEncoder(), LinearRegression())"
   ]
  },
  {
   "cell_type": "code",
   "execution_count": 170,
   "id": "bd397818",
   "metadata": {},
   "outputs": [],
   "source": [
    "# param_grid = {'randomforestregressor__max_features' : ['sqrt', None]}\n",
    "# grid = GridSearchCV(base_pipe, param_grid=param_grid, scoring='neg_root_mean_squared_error', n_jobs=-1)\n",
    "# grid.fit(X_train, y_train)"
   ]
  },
  {
   "cell_type": "code",
   "execution_count": 186,
   "id": "a7fa2ffa",
   "metadata": {},
   "outputs": [],
   "source": [
    "# cv = cross_val_score(base_pipe, X_train, y_train, scoring='neg_root_mean_squared_error', n_jobs=-1, cv=5)"
   ]
  },
  {
   "cell_type": "code",
   "execution_count": 86,
   "id": "ecd6990b",
   "metadata": {},
   "outputs": [
    {
     "name": "stdout",
     "output_type": "stream",
     "text": [
      "(5608, 10711)\n"
     ]
    }
   ],
   "source": [
    "ohe = grid.best_estimator_.named_steps['onehotencoder']\n",
    "X_train_encoded = ohe.transform(X_train)\n",
    "print(X_train_encoded.shape)"
   ]
  }
 ],
 "metadata": {
  "kernelspec": {
   "display_name": "base",
   "language": "python",
   "name": "python3"
  },
  "language_info": {
   "codemirror_mode": {
    "name": "ipython",
    "version": 3
   },
   "file_extension": ".py",
   "mimetype": "text/x-python",
   "name": "python",
   "nbconvert_exporter": "python",
   "pygments_lexer": "ipython3",
   "version": "3.12.7"
  }
 },
 "nbformat": 4,
 "nbformat_minor": 5
}
